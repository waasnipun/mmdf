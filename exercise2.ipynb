{
 "cells": [
  {
   "cell_type": "markdown",
   "metadata": {},
   "source": [
    "Before you turn this problem in, make sure everything runs as expected. First, **restart the kernel** (in the menubar, select Kernel$\\rightarrow$Restart) and then **run all cells** (in the menubar, select Cell$\\rightarrow$Run All).\n",
    "\n",
    "If a variable is given to you, give your answer to that variable. In case of multiple choice questions, answer to the given variable. Make sure your variable has a **string value** and it contains only the letter of your choice. For example if you think that choice b is the correct choice, and the given variable is answer, your answer should look like this:\n",
    "\n",
    "answer = 'b'\n",
    "\n",
    "or \n",
    "\n",
    "answer = 'B'\n",
    "\n",
    "If you need to read a file for a task, datafiles, such as .csv or .txt files are found in data subfolder. This can be accessed using data/filename.extension. In case of image, they are found in subfolder images. \n",
    "\n",
    "Make sure you fill in any place that says `YOUR CODE HERE` or \"YOUR ANSWER HERE\", as well as your name below:"
   ]
  },
  {
   "cell_type": "code",
   "execution_count": 1,
   "metadata": {},
   "outputs": [],
   "source": [
    "NAME = \"Nipun Waas\""
   ]
  },
  {
   "cell_type": "markdown",
   "metadata": {},
   "source": [
    "---"
   ]
  },
  {
   "cell_type": "markdown",
   "metadata": {},
   "source": [
    "# Multi-Modal Data Fusion - Exercise 2: Common representation"
   ]
  },
  {
   "cell_type": "markdown",
   "metadata": {
    "deletable": false,
    "editable": false,
    "nbgrader": {
     "cell_type": "markdown",
     "checksum": "59dd1185b4f90adfa4a002d97808589f",
     "grade": false,
     "grade_id": "cell-ef8f152a42f34e93",
     "locked": true,
     "schema_version": 3,
     "solution": false,
     "task": false
    }
   },
   "source": [
    "\n",
    "## Learning goals\n",
    "\n",
    "After this exercise, you should\n",
    "  \n",
    "- be able to implement PCA on your own and use it from sklearn\n",
    "- be able to implement LDA algorithm\n",
    "- be able to implement bootstrapping algorithm\n",
    "- know how to apply (Gradient) Boosting algorithm for classification problem\n",
    "\n",
    "\n",
    "\n",
    "## Relevant lecture\n",
    "\n",
    "Lecture 3.\n",
    "\n",
    "## Relevant chapters in course book\n",
    "\n",
    "Chapter 4.\n",
    "\n",
    "## Additional material\n",
    "\n",
    "- Scikit-learn https://scikit-learn.org/stable/\n",
    "- Pandas https://pandas.pydata.org/docs/\n",
    "- numpy https://numpy.org/doc/stable/"
   ]
  },
  {
   "cell_type": "markdown",
   "metadata": {
    "deletable": false,
    "editable": false,
    "nbgrader": {
     "cell_type": "markdown",
     "checksum": "c55e7b4d2ae388071d4638812d2768c1",
     "grade": false,
     "grade_id": "cell-1f5a243760ff7346",
     "locked": true,
     "schema_version": 3,
     "solution": false,
     "task": false
    }
   },
   "source": [
    "# Assignments"
   ]
  },
  {
   "cell_type": "markdown",
   "metadata": {
    "deletable": false,
    "editable": false,
    "nbgrader": {
     "cell_type": "markdown",
     "checksum": "516e1589c85d25766df6199e451f189a",
     "grade": false,
     "grade_id": "cell-4855eb9b08d0e548",
     "locked": true,
     "schema_version": 3,
     "solution": false,
     "task": false
    }
   },
   "source": [
    "<a id='Task1.1'></a>\n",
    "<div class=\" alert alert-warning\">\n",
    "    <b>Problem 1: Bootstrapping</b>\n",
    "\n",
    "<p>Implement bootstrapping (see Lecture 3) to the function stub below. You may assume that D is the dataset given as Python list. M is the number of resamples drawn and N is the number of observations in the original dataset. The function should return MxN matrix where each row contains one bootstrapped sample. \n",
    "    \n",
    "Use of numpy is recommended, especially size() and tile(). Try to use as few for loops as possible.</p>\n",
    "\n",
    "</div>"
   ]
  },
  {
   "cell_type": "code",
   "execution_count": 2,
   "metadata": {
    "deletable": false,
    "nbgrader": {
     "cell_type": "code",
     "checksum": "e43934249fc2c1fcedffe98340063ab9",
     "grade": false,
     "grade_id": "problem_1_answer",
     "locked": false,
     "schema_version": 3,
     "solution": true,
     "task": false
    }
   },
   "outputs": [],
   "source": [
    "import numpy as np\n",
    "\n",
    "def bootstrap(D,M):\n",
    "    # Implement here\n",
    "    np.random.seed(0) #Do not change or remove\n",
    "    # YOUR CODE HERE\n",
    "    D = np.array(D)\n",
    "    N = len(D)\n",
    "    bootstrapped = np.random.randint(0, N, size=(M, N))\n",
    "    samples = D[bootstrapped]\n",
    "    return samples"
   ]
  },
  {
   "cell_type": "code",
   "execution_count": 3,
   "metadata": {
    "deletable": false,
    "editable": false,
    "nbgrader": {
     "cell_type": "code",
     "checksum": "5398eea296e2b15a10e2a3a3be0e2d9f",
     "grade": true,
     "grade_id": "problem_1_test",
     "locked": true,
     "points": 0.5,
     "schema_version": 3,
     "solution": false,
     "task": false
    }
   },
   "outputs": [],
   "source": [
    "# Your points for the Problem 1 will be given in this cell. Dont modify it."
   ]
  },
  {
   "cell_type": "markdown",
   "metadata": {
    "deletable": false,
    "editable": false,
    "nbgrader": {
     "cell_type": "markdown",
     "checksum": "d84933e12f48ce7d5752eb215c75d5c0",
     "grade": false,
     "grade_id": "cell-8b88c9f08163cb07",
     "locked": true,
     "schema_version": 3,
     "solution": false,
     "task": false
    }
   },
   "source": [
    "Sample usage of the bootstrapping algorithm."
   ]
  },
  {
   "cell_type": "code",
   "execution_count": 4,
   "metadata": {},
   "outputs": [
    {
     "data": {
      "text/plain": [
       "array([[ 6,  1,  4,  4,  8, 10,  4,  6,  3,  5],\n",
       "       [ 8,  7,  9,  9,  2,  7,  8,  8,  9,  2],\n",
       "       [ 6, 10,  9, 10,  5,  4,  1,  4,  6,  1]])"
      ]
     },
     "execution_count": 4,
     "metadata": {},
     "output_type": "execute_result"
    }
   ],
   "source": [
    "D = [1, 2, 3, 4, 5, 6, 7, 8, 9,10]\n",
    "bootstrap(D,3)"
   ]
  },
  {
   "cell_type": "markdown",
   "metadata": {
    "deletable": false,
    "editable": false,
    "nbgrader": {
     "cell_type": "markdown",
     "checksum": "520b1fb8c397af64f4f993bcfc87a2d9",
     "grade": false,
     "grade_id": "cell-fc1db6630e031046",
     "locked": true,
     "schema_version": 3,
     "solution": false,
     "task": false
    }
   },
   "source": [
    "<a id='Task1.1'></a>\n",
    "<div class=\" alert alert-warning\">\n",
    "    <b>Problem 2: PCA</b>\n",
    "\n",
    "<p>Implement PCA algorithm as described in Lecture 3. Use data from pca_data.csv. Compute $\\mu$ and $\\Sigma$ as explained in lecture slides. Find eigenvalues and eigenvectors of $\\Sigma$. Pick the first principal component which corresponds to largest eigenvalue. Plot the data and first principal component in same figure. The line depicting the first principal component should start from mean $\\mu$ and end in $\\mu\\pm u_1$, where $u_1$ is the first principal component.</p>\n",
    "    \n",
    "<b>Remember to save results to following variables:</b>\n",
    "  <ul style=\"margin-top:-5px;\">\n",
    "    <li>mu</li>\n",
    "    <li>sigma</li>\n",
    "    <li>U</li>\n",
    "     <li>V</li>\n",
    "    <li>vec1</li>\n",
    "    <li>vec2</li>\n",
    "  </ul>\n",
    "\n",
    "Note: Do not use the np.cov() function to calculate sigma. To receive full marks, calculate sigma as explained in the lecture notes.\n",
    "</div>"
   ]
  },
  {
   "cell_type": "code",
   "execution_count": 5,
   "metadata": {},
   "outputs": [],
   "source": [
    "import numpy as np\n",
    "import matplotlib.pyplot as plt"
   ]
  },
  {
   "cell_type": "code",
   "execution_count": 6,
   "metadata": {
    "deletable": false,
    "nbgrader": {
     "cell_type": "code",
     "checksum": "deb94e31d8e38412ede1ddcd9827177d",
     "grade": false,
     "grade_id": "cell-a49152fbe19dc185",
     "locked": false,
     "schema_version": 3,
     "solution": true,
     "task": false
    }
   },
   "outputs": [
    {
     "data": {
      "image/png": "[encoded data removed]",
      "text/plain": [
       "<Figure size 1440x576 with 1 Axes>"
      ]
     },
     "metadata": {
      "needs_background": "light"
     },
     "output_type": "display_data"
    }
   ],
   "source": [
    "# YOUR CODE HERE\n",
    "import csv\n",
    " \n",
    "with open('data/pca_data.csv', mode ='r')as file:\n",
    "  df_csv = csv.reader(file)\n",
    "  df = np.array([i for i in df_csv]).astype(float)\n",
    "   \n",
    "mu = np.mean(df, axis=0)\n",
    "sigma = np.matmul((df-mu).T, (df-mu))/len(df)\n",
    "\n",
    "eigen_values, eigen_vectors = np.linalg.eigh(sigma)\n",
    "sorted_indices = np.lexsort((eigen_values,))[::-1]\n",
    "\n",
    "U = eigen_values[sorted_indices] #Eigenvalues\n",
    "V = eigen_vectors[:, sorted_indices] #Eigenvectors\n",
    "\n",
    "u1 = V[:, 0]\n",
    "vec1 = mu + u1 #mu + u\n",
    "vec2 = mu - u1 #mu - u\n",
    "\n",
    "plt.figure(figsize=(20, 8))\n",
    "plt.scatter(df[:, 0], df[:, 1], s=15)\n",
    "plt.plot([mu[0], vec2[0]], [mu[1], vec2[1]], color='red', linewidth=2)\n",
    "plt.plot([mu[0], vec1[0]], [mu[1], vec1[1]], color='red', linewidth=2)\n",
    "plt.title('PCA - Data and First Principal Component')\n",
    "plt.xlabel('Feature 1')\n",
    "plt.ylabel('Feature 2')\n",
    "plt.show()"
   ]
  },
  {
   "cell_type": "code",
   "execution_count": 7,
   "metadata": {
    "deletable": false,
    "editable": false,
    "nbgrader": {
     "cell_type": "code",
     "checksum": "199a5a97c486991215ff6576414a66ea",
     "grade": true,
     "grade_id": "cell-5b73a128275a0045",
     "locked": true,
     "points": 0.5,
     "schema_version": 3,
     "solution": false,
     "task": false
    }
   },
   "outputs": [],
   "source": [
    "# Your points for the mean calculation will be given in this cell. Do not modify it."
   ]
  },
  {
   "cell_type": "code",
   "execution_count": 8,
   "metadata": {
    "deletable": false,
    "editable": false,
    "nbgrader": {
     "cell_type": "code",
     "checksum": "edc88c5a19f0186cc2e276eaf1f04776",
     "grade": true,
     "grade_id": "cell-cb6cecc2813c98ea",
     "locked": true,
     "points": 0.5,
     "schema_version": 3,
     "solution": false,
     "task": false
    }
   },
   "outputs": [],
   "source": [
    "# Your points for the sigma calculation will be given in this cell. Do not modify it."
   ]
  },
  {
   "cell_type": "code",
   "execution_count": 9,
   "metadata": {
    "deletable": false,
    "editable": false,
    "nbgrader": {
     "cell_type": "code",
     "checksum": "295b38600524e431d670d58679613c46",
     "grade": true,
     "grade_id": "cell-934df95be3d6b691",
     "locked": true,
     "points": 0.5,
     "schema_version": 3,
     "solution": false,
     "task": false
    }
   },
   "outputs": [],
   "source": [
    "# Your points for the eigen vectors calculation will be given in this cell. Do not modify it."
   ]
  },
  {
   "cell_type": "code",
   "execution_count": 10,
   "metadata": {
    "deletable": false,
    "editable": false,
    "nbgrader": {
     "cell_type": "code",
     "checksum": "5d7a82c4bd19f94350b142365281fe54",
     "grade": true,
     "grade_id": "cell-691becb386723f27",
     "locked": true,
     "points": 0.5,
     "schema_version": 3,
     "solution": false,
     "task": false
    }
   },
   "outputs": [],
   "source": [
    "# Your points for the eigen values calculation will be given in this cell. Do not modify it."
   ]
  },
  {
   "cell_type": "code",
   "execution_count": 11,
   "metadata": {
    "deletable": false,
    "editable": false,
    "nbgrader": {
     "cell_type": "code",
     "checksum": "e088b8c41583468b36c7cc0053bd07d1",
     "grade": true,
     "grade_id": "cell-f885401156abf42e",
     "locked": true,
     "points": 1,
     "schema_version": 3,
     "solution": false,
     "task": false
    }
   },
   "outputs": [],
   "source": [
    "# Your points for the vec1 and vec2 calculation will be given in this cell. Do not modify it"
   ]
  },
  {
   "cell_type": "markdown",
   "metadata": {
    "deletable": false,
    "editable": false,
    "nbgrader": {
     "cell_type": "markdown",
     "checksum": "b3ce504af708f7ba03f8dd43cd188371",
     "grade": false,
     "grade_id": "cell-3beb549f5e28a283",
     "locked": true,
     "schema_version": 3,
     "solution": false,
     "task": false
    }
   },
   "source": [
    "<a id='Task1.1'></a>\n",
    "<div class=\" alert alert-warning\">\n",
    "    <b>Problem 3: PCA using sklearn</b>\n",
    "\n",
    "<p>Consult documentation of sklearn on how to perform PCA using sklearn. Perform PCA using sklearn on same dataset as in Problem 2. Pick the model and train it (fit it) using same data as above.  Save first principal component to components variable (hint: its the components_ attribute of the pca object).\n",
    "\n",
    "Do you get the same results? If not, what might be a reason for it?</p>\n",
    "\n",
    "\n",
    "    \n",
    "</div>"
   ]
  },
  {
   "cell_type": "code",
   "execution_count": 12,
   "metadata": {
    "deletable": false,
    "nbgrader": {
     "cell_type": "code",
     "checksum": "c4e2ec9cf502ae4f0db7c0ee37e84e99",
     "grade": false,
     "grade_id": "cell-3677acc4f886c323",
     "locked": false,
     "schema_version": 3,
     "solution": true,
     "task": false
    }
   },
   "outputs": [
    {
     "name": "stdout",
     "output_type": "stream",
     "text": [
      "[-0.60310431 -0.79766233] [0.60310431 0.79766233]\n"
     ]
    }
   ],
   "source": [
    "import csv\n",
    "import numpy as np\n",
    "import matplotlib.pyplot as plt\n",
    "from sklearn.decomposition import PCA\n",
    "\n",
    "with open('data/pca_data.csv', mode='r') as file:\n",
    "    df_csv = csv.reader(file)\n",
    "    df = np.array([i for i in df_csv]).astype(float)\n",
    "\n",
    "pca = PCA(n_components=1)\n",
    "pca.fit(df)\n",
    "\n",
    "# Get the first principal component from the PCA object\n",
    "components = pca.components_[0]\n",
    "\n",
    "print(components, u1)"
   ]
  },
  {
   "cell_type": "code",
   "execution_count": 13,
   "metadata": {
    "deletable": false,
    "editable": false,
    "nbgrader": {
     "cell_type": "code",
     "checksum": "1a7f9a7b8da43cce3edba7a459218329",
     "grade": true,
     "grade_id": "cell-1853e57148b5462f",
     "locked": true,
     "points": 1,
     "schema_version": 3,
     "solution": false,
     "task": false
    }
   },
   "outputs": [],
   "source": [
    "# Your points for the Problem 3 will be given in this cell. Dont modify it."
   ]
  },
  {
   "cell_type": "markdown",
   "metadata": {},
   "source": [
    "#### Compare results from Problem 2, and 3. Do you get the same results? If not, what might be a reason for it?\n"
   ]
  },
  {
   "cell_type": "markdown",
   "metadata": {},
   "source": [
    "Sign is flipped for the first principle component. The negative sign in the components or eigenvectors indicates a direction. In the context of PCA, the sign of the components or eigenvectors is arbitrary and doesn't affect the result. The reason for this is that the direction of the principal components represents the direction of maximum variance in the data, and this direction can be flipped without changing the information. What's important is the direction they represent, and it's valid as long as they are parallel."
   ]
  },
  {
   "cell_type": "markdown",
   "metadata": {
    "deletable": false,
    "editable": false,
    "nbgrader": {
     "cell_type": "markdown",
     "checksum": "bcf99a091ea02fbbb7c5388bd2523a68",
     "grade": false,
     "grade_id": "cell-c8545261516a0580",
     "locked": true,
     "schema_version": 3,
     "solution": false,
     "task": false
    }
   },
   "source": [
    "<a id='Task1.1'></a>\n",
    "<div class=\" alert alert-warning\">\n",
    "    <b>Problem 4: LDA</b>\n",
    "\n",
    "<p>Implement LDA algorithm as described in Lecture 3. Use data from lda_data.csv. The data consists of x coordinate, y coordinate and class label (0 or 1). Compute the quantities appearing in lecture slides. The LDA projection operator $U$ consists of single column which is the eigenvector of $H$ corresponding to the largest eigenvalue. Plot the data points with different colors for each class and the LDA subspace (line) in same figure. The line depicting the LDA subspace should start from mean $\\mu_G$ and end in $\\mu_G\\pm u$, where $u$ is the direction of LDA subspace.</p>\n",
    "\n",
    "<b>Remember to save results to following variables:</b>\n",
    "  <ul style=\"margin-top:-5px;\">\n",
    "    <li>mu0, mu1, muG</li>\n",
    "    <li>sigma0, sigma1</li>\n",
    "     <li>sigmaW, sigmaB</li>\n",
    "    <li>H, U, V, u</li>\n",
    "    <li>vec1, vec2</li>\n",
    "  </ul>\n",
    "\n",
    "Note: Do not use the np.cov() function to calculate sigma. To receive full marks, calculate sigma as explained in the lecture notes\n",
    "</div>"
   ]
  },
  {
   "cell_type": "code",
   "execution_count": 14,
   "metadata": {
    "deletable": false,
    "nbgrader": {
     "cell_type": "code",
     "checksum": "97fcfa725e6386efadafde2be66f4972",
     "grade": false,
     "grade_id": "cell-b9ab8a437fdba084",
     "locked": false,
     "schema_version": 3,
     "solution": true,
     "task": false
    }
   },
   "outputs": [
    {
     "data": {
      "image/png": "[encoded data removed]",
      "text/plain": [
       "<Figure size 1440x576 with 1 Axes>"
      ]
     },
     "metadata": {
      "needs_background": "light"
     },
     "output_type": "display_data"
    }
   ],
   "source": [
    "import csv\n",
    " \n",
    "with open('data/lda_data.csv', mode ='r')as file:\n",
    "  df_csv = csv.reader(file)\n",
    "  df = np.array([i for i in df_csv]).astype(float)\n",
    "\n",
    "unique_values = np.unique(df[:, 2])\n",
    "\n",
    "df_dic = {}\n",
    "for i in unique_values:\n",
    "    df_dic[int(i)] = df[df[:, 2] == i][:, :2]\n",
    "\n",
    "mu0 = np.mean(df_dic[0], axis=0)\n",
    "mu1 = np.mean(df_dic[1], axis=0)\n",
    "muG = ((len(df_dic[0]) * mu0) + (len(df_dic[1]) * mu1))/len(df)\n",
    "\n",
    "sigma0 = np.matmul((df_dic[0]-mu0).T, (df_dic[0]-mu0))/len(df_dic[0])\n",
    "sigma1 = np.matmul((df_dic[1]-mu1).T, (df_dic[1]-mu1))/len(df_dic[1])\n",
    "sigmaW = ((len(df_dic[0]) * sigma0) + (len(df_dic[1]) * sigma1))/len(df)\n",
    "sigmaB = (np.outer((mu0-muG), (mu0-muG))*len(df_dic[0]) + np.outer((mu1-muG), (mu1-muG))*len(df_dic[1])) /len(df)\n",
    "\n",
    "H = np.matmul(np.linalg.inv(sigmaW), sigmaB)\n",
    "\n",
    "eigen_values, eigen_vectors = np.linalg.eigh(H)\n",
    "sorted_indices = np.lexsort((eigen_values,))[::-1]\n",
    "\n",
    "U = eigen_values[sorted_indices] #Eigenvalues\n",
    "V = eigen_vectors[:, sorted_indices] #Eigenvectors\n",
    "u = V[:, 0]\n",
    "\n",
    "vec1 = muG + u #muG + u\n",
    "vec2 = muG - u #muG - u\n",
    "\n",
    "plt.figure(figsize=(20, 8))\n",
    "plt.scatter(df_dic[0][:, 0], df_dic[0][:, 1], s=15, color='red')\n",
    "plt.scatter(df_dic[1][:, 0], df_dic[1][:, 1], s=15, color='blue')\n",
    "plt.plot([muG[0], vec2[0]], [muG[1], vec2[1]], color='green', linewidth=2)\n",
    "plt.plot([muG[0], vec1[0]], [muG[1], vec1[1]], color='green', linewidth=2)\n",
    "plt.title('LDA - Linear Discriminant Analysis')\n",
    "plt.xlabel('Feature 1')\n",
    "plt.ylabel('Feature 2')\n",
    "plt.show()"
   ]
  },
  {
   "cell_type": "code",
   "execution_count": 15,
   "metadata": {
    "deletable": false,
    "editable": false,
    "nbgrader": {
     "cell_type": "code",
     "checksum": "b5b010c46969768571ff5e81092f4f4e",
     "grade": true,
     "grade_id": "cell-4398adfd940f7844",
     "locked": true,
     "points": 0.5,
     "schema_version": 3,
     "solution": false,
     "task": false
    }
   },
   "outputs": [],
   "source": [
    "# Your points for the mean calculations will be given in this cell. Dont modify it."
   ]
  },
  {
   "cell_type": "code",
   "execution_count": 16,
   "metadata": {
    "deletable": false,
    "editable": false,
    "nbgrader": {
     "cell_type": "code",
     "checksum": "4406aa1b5392e07b975e7ada1f18c191",
     "grade": true,
     "grade_id": "cell-7d086a9dd61495b2",
     "locked": true,
     "points": 0.5,
     "schema_version": 3,
     "solution": false,
     "task": false
    }
   },
   "outputs": [],
   "source": [
    "# Your points for the sigma calculations will be given in this cell. Dont modify it."
   ]
  },
  {
   "cell_type": "code",
   "execution_count": 17,
   "metadata": {
    "deletable": false,
    "editable": false,
    "nbgrader": {
     "cell_type": "code",
     "checksum": "62a797a6f25f0ae15970dde2552a9037",
     "grade": true,
     "grade_id": "cell-afb5c89e92e2baa7",
     "locked": true,
     "points": 0.5,
     "schema_version": 3,
     "solution": false,
     "task": false
    }
   },
   "outputs": [],
   "source": [
    "# Your points for the H matrix calculation will be given in this cell. Dont modify it."
   ]
  },
  {
   "cell_type": "code",
   "execution_count": 18,
   "metadata": {
    "deletable": false,
    "editable": false,
    "nbgrader": {
     "cell_type": "code",
     "checksum": "f1166692250d75c715c47930866e3569",
     "grade": true,
     "grade_id": "cell-3e021d1aad12f587",
     "locked": true,
     "points": 0.5,
     "schema_version": 3,
     "solution": false,
     "task": false
    }
   },
   "outputs": [],
   "source": [
    "# Your points for the eigen values calculation will be given in this cell. Dont modify it."
   ]
  },
  {
   "cell_type": "code",
   "execution_count": 19,
   "metadata": {
    "deletable": false,
    "editable": false,
    "nbgrader": {
     "cell_type": "code",
     "checksum": "7afdb4c6edb2f6a0667bd7ee49e7ddc6",
     "grade": true,
     "grade_id": "cell-ddd826838f4d701a",
     "locked": true,
     "points": 0.5,
     "schema_version": 3,
     "solution": false,
     "task": false
    }
   },
   "outputs": [],
   "source": [
    "# Your points for the eigen vectors calculation will be given in this cell. Dont modify it."
   ]
  },
  {
   "cell_type": "code",
   "execution_count": 20,
   "metadata": {
    "deletable": false,
    "editable": false,
    "nbgrader": {
     "cell_type": "code",
     "checksum": "3a54ae3db2b14f5c07026f3d3be591be",
     "grade": true,
     "grade_id": "cell-05d94dc9390746fd",
     "locked": true,
     "points": 0.5,
     "schema_version": 3,
     "solution": false,
     "task": false
    }
   },
   "outputs": [],
   "source": [
    "# Your points for the vec_1 and vec_2 calculations will be given in this cell. Dont modify it."
   ]
  },
  {
   "cell_type": "markdown",
   "metadata": {
    "deletable": false,
    "editable": false,
    "nbgrader": {
     "cell_type": "markdown",
     "checksum": "81565dd6a4e1afaee2ffec0406986557",
     "grade": false,
     "grade_id": "cell-543c124d2c6ba006",
     "locked": true,
     "schema_version": 3,
     "solution": false,
     "task": false
    }
   },
   "source": [
    "<a id='Task1.1'></a>\n",
    "<div class=\" alert alert-warning\">\n",
    "    <b>Problem 5: Boosting</b>\n",
    "\n",
    "<p>Use the tab-separated(!) file wifi_localization.txt. The data allows to determine indoor room location from wifi signal strenghts. Last column of the file contains class labels of rooms while the first seven columns contains signal strengths of mobile phones. Split the dataset into training (70%), validation (15%) and testing sets (15%). Train GradientBoostingClassifier from sklearn using n_estimators between 1-40. Consult documentation of sklearn (or Google) on how to do this. Compute the validation score on validation set using score(). Plot scores against n. Pick the value for n giving highest score and train the model using training data. If there are multiple n with same (highest) score, choose the smallest n. For that n, plot confusion matrix for testing set.</p>\n",
    "\n",
    "<p>Use random_state = 0 in all functions that have random_state as a parameter (train_test_split and GradientBoostingClassifier). Do not change learning rate, or give learning_rate = 0.1 as a parameter.</p>\n",
    "    \n",
    "<b>Remember to save results to following variables:</b>\n",
    "  <ul style=\"margin-top:-5px;\">\n",
    "    <li>scores</li>\n",
    "    <li>best_score</li>\n",
    "     <li>ypred</li>\n",
    "    <li>matrix</li>\n",
    "  </ul>\n",
    "</div>"
   ]
  },
  {
   "cell_type": "code",
   "execution_count": 21,
   "metadata": {
    "deletable": false,
    "nbgrader": {
     "cell_type": "code",
     "checksum": "dccac98a70262241ad9a504e87a18780",
     "grade": false,
     "grade_id": "cell-e18cb50d0f4272d9",
     "locked": false,
     "schema_version": 3,
     "solution": true,
     "task": false
    }
   },
   "outputs": [
    {
     "data": {
      "image/png": "[encoded data removed]",
      "text/plain": [
       "<Figure size 432x288 with 1 Axes>"
      ]
     },
     "metadata": {
      "needs_background": "light"
     },
     "output_type": "display_data"
    },
    {
     "data": {
      "image/png": "[encoded data removed]",
      "text/plain": [
       "<Figure size 432x288 with 2 Axes>"
      ]
     },
     "metadata": {
      "needs_background": "light"
     },
     "output_type": "display_data"
    }
   ],
   "source": [
    "#Use random_state = 0 in all functions with that parameter\n",
    "\n",
    "# YOUR CODE HERE\n",
    "import numpy as np\n",
    "import pandas as pd\n",
    "import matplotlib.pyplot as plt\n",
    "from sklearn.model_selection import train_test_split\n",
    "from sklearn.ensemble import GradientBoostingClassifier\n",
    "from sklearn.metrics import accuracy_score, confusion_matrix\n",
    "from sklearn.utils import shuffle\n",
    "\n",
    "file_path = 'data/wifi_localization.txt'\n",
    "df = pd.read_csv(file_path, delimiter='\\t', header=None)\n",
    "\n",
    "X = df.iloc[:, :-1].values\n",
    "y = df.iloc[:, -1].values\n",
    "\n",
    "X_train, X_temp, y_train, y_temp = train_test_split(X, y, test_size=0.3, random_state=0)\n",
    "X_val, X_test, y_val, y_test = train_test_split(X_temp, y_temp, test_size=0.5, random_state=0)\n",
    "\n",
    "def train_and_evaluate(n_estimators, X_train, y_train, X_val, y_val):\n",
    "    clf = GradientBoostingClassifier(n_estimators=n_estimators, learning_rate=0.1, random_state=0)\n",
    "    clf.fit(X_train, y_train)\n",
    "    val_score = clf.score(X_val, y_val)\n",
    "    return val_score\n",
    "\n",
    "n_estimators_values = range(1, 40)\n",
    "validation_scores = []\n",
    "\n",
    "for n_estimators in n_estimators_values:\n",
    "    val_score = train_and_evaluate(n_estimators, X_train, y_train, X_val, y_val)\n",
    "    validation_scores.append(val_score)\n",
    "\n",
    "best_n_estimator = n_estimators_values[np.argmax(validation_scores)]\n",
    "\n",
    "# Train the final model using the best_n_estimators value\n",
    "final_clf = GradientBoostingClassifier(n_estimators=best_n_estimator, learning_rate=0.1, random_state=0)\n",
    "final_clf.fit(X_train, y_train)\n",
    "\n",
    "# Evaluate the model on the testing set and print the accuracy\n",
    "test_score = final_clf.score(X_test, y_test)\n",
    "\n",
    "# Plot validation scores against n_estimators\n",
    "plt.plot(n_estimators_values, validation_scores, marker='o')\n",
    "plt.title('Validation Scores vs. n_estimators')\n",
    "plt.xlabel('n_estimators')\n",
    "plt.ylabel('Validation Score')\n",
    "plt.show()\n",
    "\n",
    "y_pred = final_clf.predict(X_test)\n",
    "conf_matrix = confusion_matrix(y_test, y_pred)\n",
    "\n",
    "# Plot the confusion matrix\n",
    "plt.imshow(conf_matrix, interpolation='nearest', cmap=plt.cm.Blues)\n",
    "plt.title('Confusion Matrix')\n",
    "plt.colorbar()\n",
    "plt.show()\n",
    "\n",
    "scores = validation_scores # Array of size 39 (range 1-40) with score values. For index i score is calculated with n_estimators=i\n",
    "best_score = best_n_estimator # The index (n_estimators) of scores with the largest value (If several, choose smallest n)\n",
    "ypred = y_pred # Predict class for test set \n",
    "matrix = conf_matrix # Confusion matrix for testing set"
   ]
  },
  {
   "cell_type": "code",
   "execution_count": 22,
   "metadata": {
    "deletable": false,
    "editable": false,
    "nbgrader": {
     "cell_type": "code",
     "checksum": "ad55df53b1fe2c98d864e914e87f48e4",
     "grade": true,
     "grade_id": "cell-3efe690f6c8b8f1b",
     "locked": true,
     "points": 0.75,
     "schema_version": 3,
     "solution": false,
     "task": false
    }
   },
   "outputs": [],
   "source": [
    "# Your points for the Problem 5 confusion matrix will be given in this cell. Dont modify it."
   ]
  },
  {
   "cell_type": "code",
   "execution_count": 23,
   "metadata": {
    "deletable": false,
    "editable": false,
    "nbgrader": {
     "cell_type": "code",
     "checksum": "9bf66fc68affdeba46100b37d0f65ced",
     "grade": true,
     "grade_id": "cell-49d5e5e29751723d",
     "locked": true,
     "points": 0.75,
     "schema_version": 3,
     "solution": false,
     "task": false
    }
   },
   "outputs": [],
   "source": [
    "# Your points for the Problem 5 predictions will be given in this cell. Dont modify it."
   ]
  },
  {
   "cell_type": "code",
   "execution_count": 24,
   "metadata": {
    "deletable": false,
    "editable": false,
    "nbgrader": {
     "cell_type": "code",
     "checksum": "d79f33d2e51a30d1aa3b58a0fb80fabe",
     "grade": true,
     "grade_id": "cell-50a54e1e5c02907b",
     "locked": true,
     "points": 0.75,
     "schema_version": 3,
     "solution": false,
     "task": false
    }
   },
   "outputs": [],
   "source": [
    "# Your points for the Problem 5 scores will be given in this cell. Dont modify it."
   ]
  },
  {
   "cell_type": "code",
   "execution_count": 25,
   "metadata": {
    "deletable": false,
    "editable": false,
    "nbgrader": {
     "cell_type": "code",
     "checksum": "252987ad805dd37452d8e14bf4b70bc7",
     "grade": true,
     "grade_id": "cell-4625f19886acb505",
     "locked": true,
     "points": 0.25,
     "schema_version": 3,
     "solution": false,
     "task": false
    }
   },
   "outputs": [],
   "source": [
    "# Your points for the Problem 5 best score will be given in this cell. Dont modify it."
   ]
  }
 ],
 "metadata": {
  "kernelspec": {
   "display_name": "pytorch_",
   "language": "python",
   "name": "pytorch_"
  },
  "language_info": {
   "codemirror_mode": {
    "name": "ipython",
    "version": 3
   },
   "file_extension": ".py",
   "mimetype": "text/x-python",
   "name": "python",
   "nbconvert_exporter": "python",
   "pygments_lexer": "ipython3",
   "version": "3.9.18"
  },
  "nbdime-conflicts": {
   "local_diff": [
    {
     "diff": [
      {
       "diff": [
        {
         "diff": [
          {
           "key": 4,
           "op": "addrange",
           "valuelist": "3"
          },
          {
           "key": 4,
           "length": 1,
           "op": "removerange"
          }
         ],
         "key": 0,
         "op": "patch"
        }
       ],
       "key": "version",
       "op": "patch"
      }
     ],
     "key": "language_info",
     "op": "patch"
    }
   ],
   "remote_diff": [
    {
     "diff": [
      {
       "diff": [
        {
         "diff": [
          {
           "key": 4,
           "op": "addrange",
           "valuelist": "4"
          },
          {
           "key": 4,
           "length": 1,
           "op": "removerange"
          }
         ],
         "key": 0,
         "op": "patch"
        }
       ],
       "key": "version",
       "op": "patch"
      }
     ],
     "key": "language_info",
     "op": "patch"
    }
   ]
  },
  "toc": {
   "base_numbering": 1,
   "nav_menu": {},
   "number_sections": false,
   "sideBar": true,
   "skip_h1_title": false,
   "title_cell": "Table of Contents",
   "title_sidebar": "Contents",
   "toc_cell": false,
   "toc_position": {
    "height": "507.275px",
    "left": "23.975px",
    "top": "145.5px",
    "width": "318px"
   },
   "toc_section_display": true,
   "toc_window_display": true
  },
  "varInspector": {
   "cols": {
    "lenName": 16,
    "lenType": 16,
    "lenVar": 40
   },
   "kernels_config": {
    "python": {
     "delete_cmd_postfix": "",
     "delete_cmd_prefix": "del ",
     "library": "var_list.py",
     "varRefreshCmd": "print(var_dic_list())"
    },
    "r": {
     "delete_cmd_postfix": ") ",
     "delete_cmd_prefix": "rm(",
     "library": "var_list.r",
     "varRefreshCmd": "cat(var_dic_list()) "
    }
   },
   "oldHeight": 194.85,
   "position": {
    "height": "216.85px",
    "left": "1417px",
    "right": "18px",
    "top": "126px",
    "width": "485px"
   },
   "types_to_exclude": [
    "module",
    "function",
    "builtin_function_or_method",
    "instance",
    "_Feature"
   ],
   "varInspector_section_display": "block",
   "window_display": true
  }
 },
 "nbformat": 4,
 "nbformat_minor": 4
}
