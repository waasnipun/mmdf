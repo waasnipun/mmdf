{
 "cells": [
  {
   "cell_type": "markdown",
   "metadata": {
    "nbgrader": {
     "grade": false,
     "grade_id": "cell-708d46d3f9180abe",
     "locked": true,
     "schema_version": 3,
     "solution": false
    }
   },
   "source": [
    "# Multi-Modal Data Fusion - Project Work: Multi-Modal Physical Exercise Classification\n",
    "\n",
    "\n",
    "In this project, real multi-modal data is studied by utilizing different techniques presented during the course. In addition, there is an optional task to try some different approaches to identify persons from the same dataset. Open MEx dataset from UCI machine learning repository is used. Idea is to apply different techniques to recognize physical exercises from wearable sensors and depth camera, user-independently."
   ]
  },
  {
   "cell_type": "markdown",
   "metadata": {},
   "source": [
    "## Author(s)\n",
    "Add your information here\n",
    "\n",
    "Name(s): Nipun Waas\n",
    "\n",
    "Student number(s): 2305414"
   ]
  },
  {
   "cell_type": "markdown",
   "metadata": {
    "nbgrader": {
     "grade": false,
     "grade_id": "cell-32738734cf6f1a4f",
     "locked": true,
     "schema_version": 3,
     "solution": false
    }
   },
   "source": [
    "## Description \n",
    "\n",
    "The goal of this project is to develop user-independent pre-processing and classification models to recognize 7 different physical exercises measured by accelerometer (attached to subject's thigh) and depth camera (above the subject facing downwards recording an aerial view). All the exercises were performed subject lying down on the mat. Original dataset have also another acceleration sensor and pressure-sensitive mat, but those two modalities are ommited in this project. There are totally 30 subjects in the original dataset, and in this work subset of 10 person is utilized. Detailed description of the dataset and original data can be access in [MEx dataset @ UCI machine learning repository](https://archive.ics.uci.edu/ml/datasets/MEx#). We are providing the subset of dataset in Moodle.\n",
    "\n",
    "The project work is divided on following phases:\n",
    "\n",
    "1. Data preparation, exploration, and visualization\n",
    "2. Feature extraction and unimodal fusion for classification\n",
    "3. Feature extraction and feature-level fusion for multimodal classification\n",
    "4. Decision-level fusion for multimodal classification\n",
    "5. Bonus task: Multimodal biometric identification of persons\n",
    "\n",
    "where 1-4 are compulsory (max. 10 points each), and 5 is optional to get bonus points (max. 5+5 points). In each phase, you should visualize and analyse the results and document the work and findings properly by text blocks and figures between the code. <b> Nice looking </b> and <b> informative </b> notebook representing your results and analysis will be part of the grading in addition to actual implementation.\n",
    "\n",
    "The results are validated using confusion matrices and F1 scores. F1 macro score is given as \n",
    "<br>\n",
    "<br>\n",
    "$\n",
    "\\begin{equation}\n",
    "F1_{macro} = \\frac{1}{N} \\sum_i^N F1_i,\n",
    "\\end{equation}\n",
    "$\n",
    "<br>\n",
    "<br>\n",
    "where $F1_i = 2  \\frac{precision_i * recall_i}{precision_i + recall_i}$, and $N$ is the number of classes.\n",
    "<br>\n",
    "\n",
    "## Learning goals \n",
    "\n",
    "After the project work, you should  \n",
    "\n",
    "- be able to study real world multi-modal data\n",
    "- be able to apply different data fusion techniques to real-world problem\n",
    "- be able to evaluate the results\n",
    "- be able to analyse the outcome\n",
    "- be able to document your work properly\n",
    "\n",
    "## Relevant lectures\n",
    "\n",
    "Lectures 1-8\n",
    "\n",
    "## Relevant exercises\n",
    "\n",
    "Exercises 0-6\n",
    "\n",
    "## Relevant chapters in course book\n",
    "\n",
    "Chapter 1-14\n",
    "\n",
    "## Additional Material \n",
    "\n",
    "* Original dataset [MEx dataset @ UCI machine learning repository](https://archive.ics.uci.edu/ml/datasets/MEx#)\n",
    "* Related scientific article [MEx: Multi-modal Exercises Dataset for Human Activity Recognition](https://arxiv.org/pdf/1908.08992.pdf)"
   ]
  },
  {
   "cell_type": "markdown",
   "metadata": {
    "nbgrader": {
     "grade": false,
     "grade_id": "cell-7e096db2d9e8c24e",
     "locked": true,
     "schema_version": 3,
     "solution": false
    }
   },
   "source": [
    "# 1. Data preparation, exploration, and visualization"
   ]
  },
  {
   "cell_type": "markdown",
   "metadata": {
    "nbgrader": {
     "grade": false,
     "grade_id": "cell-bacbb8f5ae7a2e4d",
     "locked": true,
     "schema_version": 3,
     "solution": false,
     "task": false
    }
   },
   "source": [
    "<a id='task1'></a>\n",
    "<div class=\" alert alert-warning\">\n",
    "    <b>Assigment.</b> <b>Task 1.</b>\n",
    "\n",
    "Download data from the Moodle's Project section. Get yourself familiar with the folder structure and data. You can read the data files using the function given below. Each file consists one exercise type performed by single user. Data are divided on multiple folders. Note that, in each folder there is one long sequence of single exercise, except exercise 4 which is performed two times in different ways. Those two sequences belongs to same class. Do the following subtasks to pre-analyse data examples and to prepare the training and testing data for next tasks:\n",
    "<br>\n",
    "<br> \n",
    "<p> Read raw data from the files. Prepare and divide each data file to shorter sequences using windowing method. Similar to related article \"MEx: Multi-modal Exercises Dataset for Human Activity Recognition\", use 5 second window and 3 second overlapping between windows, producing several example sequences from one exercise file for classification purposes. Windowing is working so that starting from the beginning of each long exercise sequence, take 5 seconds of data points (from synchronized acceleration data and depth images) based on the time stamps. Next, move the window 2 seconds forward and take another 5 seconds of data. Then continue this until your are at the end of sequence. Each window will consists 500x3 matrix of acceleration data and 5x192 matrix of depth image data.</p>\n",
    "\n",
    "</div>"
   ]
  },
  {
   "cell_type": "code",
   "execution_count": 1,
   "metadata": {},
   "outputs": [],
   "source": [
    "# Import relevant libraries here\n",
    "from pathlib import Path\n",
    "from copy import deepcopy\n",
    "import numpy as np\n",
    "import pandas as pd\n",
    "import matplotlib.pyplot as plt\n",
    "\n",
    "# Enter data folder location\n",
    "loc = \"./MEx\""
   ]
  },
  {
   "cell_type": "code",
   "execution_count": 2,
   "metadata": {
    "nbgrader": {
     "grade": false,
     "grade_id": "cell-5b805f4284f1480c",
     "locked": true,
     "schema_version": 3,
     "solution": false,
     "task": false
    }
   },
   "outputs": [
    {
     "name": "stdout",
     "output_type": "stream",
     "text": [
      "Total records found: 160\n",
      "Dataframe with all records:\n"
     ]
    },
    {
     "data": {
      "text/html": [
       "<div>\n",
       "<style scoped>\n",
       "    .dataframe tbody tr th:only-of-type {\n",
       "        vertical-align: middle;\n",
       "    }\n",
       "\n",
       "    .dataframe tbody tr th {\n",
       "        vertical-align: top;\n",
       "    }\n",
       "\n",
       "    .dataframe thead th {\n",
       "        text-align: right;\n",
       "    }\n",
       "</style>\n",
       "<table border=\"1\" class=\"dataframe\">\n",
       "  <thead>\n",
       "    <tr style=\"text-align: right;\">\n",
       "      <th></th>\n",
       "      <th>subject_id</th>\n",
       "      <th>exercise_id</th>\n",
       "      <th>trial</th>\n",
       "      <th>sensor_code</th>\n",
       "      <th>sensor</th>\n",
       "      <th>df</th>\n",
       "    </tr>\n",
       "  </thead>\n",
       "  <tbody>\n",
       "    <tr>\n",
       "      <th>0</th>\n",
       "      <td>03</td>\n",
       "      <td>02</td>\n",
       "      <td>1</td>\n",
       "      <td>act</td>\n",
       "      <td>acc</td>\n",
       "      <td>time     acc_0     acc_1     acc_2\n",
       "0 ...</td>\n",
       "    </tr>\n",
       "    <tr>\n",
       "      <th>1</th>\n",
       "      <td>03</td>\n",
       "      <td>04</td>\n",
       "      <td>2</td>\n",
       "      <td>act</td>\n",
       "      <td>acc</td>\n",
       "      <td>time     acc_0     acc_1     acc_2\n",
       "0 ...</td>\n",
       "    </tr>\n",
       "    <tr>\n",
       "      <th>2</th>\n",
       "      <td>03</td>\n",
       "      <td>06</td>\n",
       "      <td>1</td>\n",
       "      <td>act</td>\n",
       "      <td>acc</td>\n",
       "      <td>time     acc_0     acc_1     acc_2\n",
       "0 ...</td>\n",
       "    </tr>\n",
       "    <tr>\n",
       "      <th>3</th>\n",
       "      <td>03</td>\n",
       "      <td>04</td>\n",
       "      <td>1</td>\n",
       "      <td>act</td>\n",
       "      <td>acc</td>\n",
       "      <td>time     acc_0     acc_1     acc_2\n",
       "0 ...</td>\n",
       "    </tr>\n",
       "    <tr>\n",
       "      <th>4</th>\n",
       "      <td>03</td>\n",
       "      <td>03</td>\n",
       "      <td>1</td>\n",
       "      <td>act</td>\n",
       "      <td>acc</td>\n",
       "      <td>time     acc_0     acc_1     acc_2\n",
       "0 ...</td>\n",
       "    </tr>\n",
       "  </tbody>\n",
       "</table>\n",
       "</div>"
      ],
      "text/plain": [
       "  subject_id exercise_id  trial sensor_code sensor  \\\n",
       "0         03          02      1         act    acc   \n",
       "1         03          04      2         act    acc   \n",
       "2         03          06      1         act    acc   \n",
       "3         03          04      1         act    acc   \n",
       "4         03          03      1         act    acc   \n",
       "\n",
       "                                                  df  \n",
       "0           time     acc_0     acc_1     acc_2\n",
       "0 ...  \n",
       "1           time     acc_0     acc_1     acc_2\n",
       "0 ...  \n",
       "2           time     acc_0     acc_1     acc_2\n",
       "0 ...  \n",
       "3           time     acc_0     acc_1     acc_2\n",
       "0 ...  \n",
       "4           time     acc_0     acc_1     acc_2\n",
       "0 ...  "
      ]
     },
     "metadata": {},
     "output_type": "display_data"
    },
    {
     "name": "stdout",
     "output_type": "stream",
     "text": [
      "Dataframe with one measurement series:\n"
     ]
    },
    {
     "data": {
      "text/html": [
       "<div>\n",
       "<style scoped>\n",
       "    .dataframe tbody tr th:only-of-type {\n",
       "        vertical-align: middle;\n",
       "    }\n",
       "\n",
       "    .dataframe tbody tr th {\n",
       "        vertical-align: top;\n",
       "    }\n",
       "\n",
       "    .dataframe thead th {\n",
       "        text-align: right;\n",
       "    }\n",
       "</style>\n",
       "<table border=\"1\" class=\"dataframe\">\n",
       "  <thead>\n",
       "    <tr style=\"text-align: right;\">\n",
       "      <th></th>\n",
       "      <th>time</th>\n",
       "      <th>acc_0</th>\n",
       "      <th>acc_1</th>\n",
       "      <th>acc_2</th>\n",
       "    </tr>\n",
       "  </thead>\n",
       "  <tbody>\n",
       "    <tr>\n",
       "      <th>0</th>\n",
       "      <td>0.0</td>\n",
       "      <td>-0.765625</td>\n",
       "      <td>0.484375</td>\n",
       "      <td>-0.375000</td>\n",
       "    </tr>\n",
       "    <tr>\n",
       "      <th>1</th>\n",
       "      <td>10.0</td>\n",
       "      <td>-0.765625</td>\n",
       "      <td>0.493750</td>\n",
       "      <td>-0.365625</td>\n",
       "    </tr>\n",
       "    <tr>\n",
       "      <th>2</th>\n",
       "      <td>20.0</td>\n",
       "      <td>-0.765625</td>\n",
       "      <td>0.490625</td>\n",
       "      <td>-0.368750</td>\n",
       "    </tr>\n",
       "    <tr>\n",
       "      <th>3</th>\n",
       "      <td>30.0</td>\n",
       "      <td>-0.765625</td>\n",
       "      <td>0.494792</td>\n",
       "      <td>-0.364583</td>\n",
       "    </tr>\n",
       "    <tr>\n",
       "      <th>4</th>\n",
       "      <td>40.0</td>\n",
       "      <td>-0.765625</td>\n",
       "      <td>0.489063</td>\n",
       "      <td>-0.370312</td>\n",
       "    </tr>\n",
       "  </tbody>\n",
       "</table>\n",
       "</div>"
      ],
      "text/plain": [
       "   time     acc_0     acc_1     acc_2\n",
       "0   0.0 -0.765625  0.484375 -0.375000\n",
       "1  10.0 -0.765625  0.493750 -0.365625\n",
       "2  20.0 -0.765625  0.490625 -0.368750\n",
       "3  30.0 -0.765625  0.494792 -0.364583\n",
       "4  40.0 -0.765625  0.489063 -0.370312"
      ]
     },
     "metadata": {},
     "output_type": "display_data"
    }
   ],
   "source": [
    "\"\"\"\n",
    "    IMPORTANT: PLEASE DO NOT MODIFY THE CODE IN THIS CELL.\n",
    "\"\"\"\n",
    "def path_to_meta(p):\n",
    "    meta = dict()\n",
    "    meta[\"subject_id\"] = p.parent.stem\n",
    "    meta[\"exercise_id\"] = p.stem.split(\"_\")[-2]\n",
    "    meta[\"trial\"] = int(p.stem.split(\"_\")[-1])\n",
    "    meta[\"sensor_code\"] = p.stem.split(\"_\")[0]\n",
    "    meta[\"sensor\"] = {\"act\": \"acc\", \"dc\": \"dc\"}[meta[\"sensor_code\"]]\n",
    "    return meta\n",
    "\n",
    "# Find, read, and compose the measurements\n",
    "paths_record = Path(loc).glob(\"*/*/*.csv\")\n",
    "\n",
    "records = []\n",
    "\n",
    "for path_record in paths_record:\n",
    "    df = pd.read_csv(path_record, delimiter=\",\", header=None)\n",
    "    meta = path_to_meta(path_record)\n",
    "    \n",
    "    if meta[\"sensor\"] == \"acc\":\n",
    "        col_names = [\"time\", \"acc_0\", \"acc_1\", \"acc_2\"]\n",
    "        df.columns = col_names\n",
    "    else:\n",
    "        num_cols = df.shape[1]\n",
    "        col_names = [\"time\", ] + [f\"dc_{i}\" for i in range(num_cols-1)]\n",
    "        df.columns = col_names\n",
    "\n",
    "    meta[\"df\"] = df\n",
    "    \n",
    "    records.append(meta)\n",
    "\n",
    "df_records = pd.DataFrame.from_records(records)\n",
    "\n",
    "print(f\"Total records found: {len(df_records)}\")\n",
    "print(\"Dataframe with all records:\")\n",
    "display(df_records.head())\n",
    "print(\"Dataframe with one measurement series:\")\n",
    "display(df_records[\"df\"].iloc[0].head())"
   ]
  },
  {
   "cell_type": "code",
   "execution_count": 3,
   "metadata": {
    "nbgrader": {
     "grade": false,
     "grade_id": "cell-e8aebacdeb29d491",
     "locked": true,
     "schema_version": 3,
     "solution": false,
     "task": false
    }
   },
   "outputs": [
    {
     "name": "stdout",
     "output_type": "stream",
     "text": [
      "Total windows extracted: 4169\n",
      "Dataframe with all windowed records:\n"
     ]
    },
    {
     "data": {
      "text/html": [
       "<div>\n",
       "<style scoped>\n",
       "    .dataframe tbody tr th:only-of-type {\n",
       "        vertical-align: middle;\n",
       "    }\n",
       "\n",
       "    .dataframe tbody tr th {\n",
       "        vertical-align: top;\n",
       "    }\n",
       "\n",
       "    .dataframe thead th {\n",
       "        text-align: right;\n",
       "    }\n",
       "</style>\n",
       "<table border=\"1\" class=\"dataframe\">\n",
       "  <thead>\n",
       "    <tr style=\"text-align: right;\">\n",
       "      <th></th>\n",
       "      <th>subject_id</th>\n",
       "      <th>exercise_id</th>\n",
       "      <th>trial</th>\n",
       "      <th>sensor_code</th>\n",
       "      <th>sensor</th>\n",
       "      <th>df</th>\n",
       "      <th>window_idx</th>\n",
       "    </tr>\n",
       "  </thead>\n",
       "  <tbody>\n",
       "    <tr>\n",
       "      <th>0</th>\n",
       "      <td>03</td>\n",
       "      <td>02</td>\n",
       "      <td>1</td>\n",
       "      <td>act</td>\n",
       "      <td>acc</td>\n",
       "      <td>time     acc_0     acc_1     acc_2\n",
       "0   ...</td>\n",
       "      <td>0</td>\n",
       "    </tr>\n",
       "    <tr>\n",
       "      <th>1</th>\n",
       "      <td>03</td>\n",
       "      <td>02</td>\n",
       "      <td>1</td>\n",
       "      <td>act</td>\n",
       "      <td>acc</td>\n",
       "      <td>time     acc_0     acc_1     acc_2\n",
       "200 ...</td>\n",
       "      <td>1</td>\n",
       "    </tr>\n",
       "    <tr>\n",
       "      <th>2</th>\n",
       "      <td>03</td>\n",
       "      <td>02</td>\n",
       "      <td>1</td>\n",
       "      <td>act</td>\n",
       "      <td>acc</td>\n",
       "      <td>time     acc_0     acc_1     acc_2\n",
       "400 ...</td>\n",
       "      <td>2</td>\n",
       "    </tr>\n",
       "    <tr>\n",
       "      <th>3</th>\n",
       "      <td>03</td>\n",
       "      <td>02</td>\n",
       "      <td>1</td>\n",
       "      <td>act</td>\n",
       "      <td>acc</td>\n",
       "      <td>time     acc_0     acc_1     acc_2\n",
       "60...</td>\n",
       "      <td>3</td>\n",
       "    </tr>\n",
       "    <tr>\n",
       "      <th>4</th>\n",
       "      <td>03</td>\n",
       "      <td>02</td>\n",
       "      <td>1</td>\n",
       "      <td>act</td>\n",
       "      <td>acc</td>\n",
       "      <td>time     acc_0     acc_1     acc_2\n",
       "80...</td>\n",
       "      <td>4</td>\n",
       "    </tr>\n",
       "  </tbody>\n",
       "</table>\n",
       "</div>"
      ],
      "text/plain": [
       "  subject_id exercise_id  trial sensor_code sensor  \\\n",
       "0         03          02      1         act    acc   \n",
       "1         03          02      1         act    acc   \n",
       "2         03          02      1         act    acc   \n",
       "3         03          02      1         act    acc   \n",
       "4         03          02      1         act    acc   \n",
       "\n",
       "                                                  df  window_idx  \n",
       "0         time     acc_0     acc_1     acc_2\n",
       "0   ...           0  \n",
       "1         time     acc_0     acc_1     acc_2\n",
       "200 ...           1  \n",
       "2         time     acc_0     acc_1     acc_2\n",
       "400 ...           2  \n",
       "3           time     acc_0     acc_1     acc_2\n",
       "60...           3  \n",
       "4           time     acc_0     acc_1     acc_2\n",
       "80...           4  "
      ]
     },
     "metadata": {},
     "output_type": "display_data"
    },
    {
     "name": "stdout",
     "output_type": "stream",
     "text": [
      "Dataframe with one windowed measurement series:\n"
     ]
    },
    {
     "data": {
      "text/html": [
       "<div>\n",
       "<style scoped>\n",
       "    .dataframe tbody tr th:only-of-type {\n",
       "        vertical-align: middle;\n",
       "    }\n",
       "\n",
       "    .dataframe tbody tr th {\n",
       "        vertical-align: top;\n",
       "    }\n",
       "\n",
       "    .dataframe thead th {\n",
       "        text-align: right;\n",
       "    }\n",
       "</style>\n",
       "<table border=\"1\" class=\"dataframe\">\n",
       "  <thead>\n",
       "    <tr style=\"text-align: right;\">\n",
       "      <th></th>\n",
       "      <th>time</th>\n",
       "      <th>acc_0</th>\n",
       "      <th>acc_1</th>\n",
       "      <th>acc_2</th>\n",
       "    </tr>\n",
       "  </thead>\n",
       "  <tbody>\n",
       "    <tr>\n",
       "      <th>0</th>\n",
       "      <td>0.0</td>\n",
       "      <td>-0.765625</td>\n",
       "      <td>0.484375</td>\n",
       "      <td>-0.375000</td>\n",
       "    </tr>\n",
       "    <tr>\n",
       "      <th>1</th>\n",
       "      <td>10.0</td>\n",
       "      <td>-0.765625</td>\n",
       "      <td>0.493750</td>\n",
       "      <td>-0.365625</td>\n",
       "    </tr>\n",
       "    <tr>\n",
       "      <th>2</th>\n",
       "      <td>20.0</td>\n",
       "      <td>-0.765625</td>\n",
       "      <td>0.490625</td>\n",
       "      <td>-0.368750</td>\n",
       "    </tr>\n",
       "    <tr>\n",
       "      <th>3</th>\n",
       "      <td>30.0</td>\n",
       "      <td>-0.765625</td>\n",
       "      <td>0.494792</td>\n",
       "      <td>-0.364583</td>\n",
       "    </tr>\n",
       "    <tr>\n",
       "      <th>4</th>\n",
       "      <td>40.0</td>\n",
       "      <td>-0.765625</td>\n",
       "      <td>0.489063</td>\n",
       "      <td>-0.370312</td>\n",
       "    </tr>\n",
       "  </tbody>\n",
       "</table>\n",
       "</div>"
      ],
      "text/plain": [
       "   time     acc_0     acc_1     acc_2\n",
       "0   0.0 -0.765625  0.484375 -0.375000\n",
       "1  10.0 -0.765625  0.493750 -0.365625\n",
       "2  20.0 -0.765625  0.490625 -0.368750\n",
       "3  30.0 -0.765625  0.494792 -0.364583\n",
       "4  40.0 -0.765625  0.489063 -0.370312"
      ]
     },
     "metadata": {},
     "output_type": "display_data"
    }
   ],
   "source": [
    "\"\"\"\n",
    "    IMPORTANT: PLEASE DO NOT MODIFY THE CODE IN THIS CELL.\n",
    "\"\"\"\n",
    "\n",
    "# Extract 5-second long windows with 2-second shift (3-second overlap)\n",
    "\n",
    "records_windowed = []\n",
    "\n",
    "time_window = 5000.\n",
    "time_offset = 2000.\n",
    "    \n",
    "for row_idx, row_data in df_records.iterrows():\n",
    "    df_tmp = row_data[\"df\"]\n",
    "    time_start = np.min(df_tmp[\"time\"].to_numpy())\n",
    "    time_end = np.max(df_tmp[\"time\"].to_numpy())\n",
    "    \n",
    "    for window_idx, t0 in enumerate(np.arange(time_start, time_end, time_offset)):\n",
    "        t1 = t0 + time_window\n",
    "        # Handle boundary conditions - skip the measurements from the end shorter than window size\n",
    "        if t1 > time_end:\n",
    "            continue\n",
    "        \n",
    "        tmp_data = deepcopy(row_data)\n",
    "        tmp_data[\"window_idx\"] = window_idx\n",
    "        tmp_data[\"df\"] = df_tmp[(df_tmp[\"time\"] >= t0) &\n",
    "                                (df_tmp[\"time\"] < t1)].copy()\n",
    "        \n",
    "        records_windowed.append(tmp_data)\n",
    "        \n",
    "df_records_windowed = pd.DataFrame.from_records(records_windowed)\n",
    "\n",
    "print(f\"Total windows extracted: {len(df_records_windowed)}\")\n",
    "print(\"Dataframe with all windowed records:\")\n",
    "display(df_records_windowed.head())\n",
    "print(\"Dataframe with one windowed measurement series:\")\n",
    "display(df_records_windowed[\"df\"].iloc[0].head())"
   ]
  },
  {
   "cell_type": "markdown",
   "metadata": {},
   "source": [
    "<a id='task1'></a>\n",
    "<div class=\" alert alert-warning\">\n",
    "     \n",
    "<p> <b>1.1</b> Plot few examples of prepared data for each modalities (accelometer and depth camera). Plot acceleration sensor as multi-dimensional time-series and depth camera data as 2D image. Plot 5 second acceleration sensor and depth image sequences of person 1 and 5 performing exercises 2, 5, and 6. Take the first windowed example from the long exercise sequence. </p>\n",
    "\n",
    "</div>"
   ]
  },
  {
   "cell_type": "code",
   "execution_count": 4,
   "metadata": {},
   "outputs": [],
   "source": [
    "df_records_windowed_vis = deepcopy(df_records_windowed)\n",
    "\n",
    "acc_data = df_records_windowed_vis[df_records_windowed_vis['sensor'] == 'acc']\n",
    "dc_data = df_records_windowed_vis[df_records_windowed_vis['sensor'] == 'dc']"
   ]
  },
  {
   "cell_type": "markdown",
   "metadata": {},
   "source": [
    "## Accelerometer Data Visualization\n",
    "\n",
    "This code randomly selects and plots accelerometer data from three samples (`random_samples`). It accumulates DataFrames and titles, then uses `plot_accelerometer_components_list` to visualize the data in a single row. Ensure `acc_data` is loaded before running.\n"
   ]
  },
  {
   "cell_type": "code",
   "execution_count": 6,
   "metadata": {},
   "outputs": [
    {
     "data": {
      "image/png": "[encoded data removed]",
      "text/plain": [
       "<Figure size 1800x360 with 3 Axes>"
      ]
     },
     "metadata": {
      "needs_background": "light"
     },
     "output_type": "display_data"
    }
   ],
   "source": [
    "def plot_accelerometer_components_list(df_list, components=['acc_0', 'acc_1', 'acc_2'], titles=None):\n",
    "    \n",
    "    num_plots = len(df_list)\n",
    "\n",
    "    # If titles are not provided, generate default titles\n",
    "    if titles is None:\n",
    "        titles = [f'Plot {i+1}' for i in range(num_plots)]\n",
    "\n",
    "    # Plotting each accelerometer data in the same row\n",
    "    fig, axs = plt.subplots(1, num_plots, figsize=(25, 5))\n",
    "    for i, (df, title) in enumerate(zip(df_list, titles)):\n",
    "        axs[i].set_title(title)\n",
    "        for component in components:\n",
    "            axs[i].plot(df['time'], df[component], label=component)\n",
    "        axs[i].set_xlabel('Time')\n",
    "        axs[i].set_ylabel('Acceleration')\n",
    "        axs[i].legend()\n",
    "\n",
    "    plt.tight_layout()\n",
    "    plt.show()\n",
    "\n",
    "random_samples = acc_data.sample(3, random_state=42)\n",
    "\n",
    "# Accumulate DataFrames from random_samples\n",
    "acc_list = [row['df'] for _, row in random_samples.iterrows()]\n",
    "\n",
    "# Accumulate titles for each DataFrame\n",
    "titles_list = [f'Accelerometer Data - Person {row[\"subject_id\"]}, Exercise {row[\"exercise_id\"]}, Window {row[\"window_idx\"]}' for index, row in random_samples.iterrows()]\n",
    "\n",
    "# Plotting all accumulated accelerometer data in the same row\n",
    "plot_accelerometer_components_list(acc_list, components=['acc_0', 'acc_1', 'acc_2'], titles=titles_list)"
   ]
  },
  {
   "cell_type": "markdown",
   "metadata": {},
   "source": [
    "## Depth Camera Visualization\n",
    "\n",
    "This cell generates and visualizes depth camera data for three different windows. The code extracts and preprocesses depth camera data from `dc_data` for 3 windows. It then uses the `plot_dc_values` function to create subplots for each window, providing a quick overview of the depth camera data.\n",
    "\n",
    "**Instructions:**\n",
    "- Ensure the `dc_data` DataFrame is loaded and necessary libraries are imported before running this cell.\n"
   ]
  },
  {
   "cell_type": "code",
   "execution_count": 7,
   "metadata": {},
   "outputs": [
    {
     "data": {
      "image/png": "[encoded data removed]",
      "text/plain": [
       "<Figure size 2160x288 with 5 Axes>"
      ]
     },
     "metadata": {
      "needs_background": "light"
     },
     "output_type": "display_data"
    },
    {
     "data": {
      "image/png": "[encoded data removed]",
      "text/plain": [
       "<Figure size 2160x288 with 5 Axes>"
      ]
     },
     "metadata": {
      "needs_background": "light"
     },
     "output_type": "display_data"
    },
    {
     "data": {
      "image/png": "[encoded data removed]",
      "text/plain": [
       "<Figure size 2160x288 with 5 Axes>"
      ]
     },
     "metadata": {
      "needs_background": "light"
     },
     "output_type": "display_data"
    }
   ],
   "source": [
    "\n",
    "def plot_dc_values(dc_windows):\n",
    "    \n",
    "    for _, dc_window in dc_windows.iterrows():\n",
    "        selected_row = deepcopy(dc_window['df'])\n",
    "        \n",
    "        if 'time' in selected_row.columns:\n",
    "            selected_row.drop(columns=['time'], inplace=True)\n",
    "            \n",
    "        dc_values_all_rows = np.array([row.to_numpy() for _, row in selected_row.iterrows()]).reshape(-1, 12, 16, 1)\n",
    "        \n",
    "        fig, axs = plt.subplots(1, len(dc_values_all_rows), figsize=(6 * len(dc_values_all_rows), 4))\n",
    "\n",
    "        for i in range(len(dc_values_all_rows)):\n",
    "            # Plotting in the subplot\n",
    "            axs[i].imshow(dc_values_all_rows[i], cmap='viridis', aspect='auto')\n",
    "            axs[i].set_title(f'Depth Camera Data - Time {i + 1}s - Window {dc_window[\"window_idx\"]}, Person {dc_window[\"subject_id\"]}, Exercise {dc_window[\"exercise_id\"]}')\n",
    "            axs[i].set_xlabel('Depth Camera Columns (Compressed)')\n",
    "            axs[i].set_ylabel('Frames')\n",
    "\n",
    "        # Adjust layout to prevent clipping of titles and labels\n",
    "        plt.tight_layout()\n",
    "        plt.show()\n",
    "\n",
    "# generate dc_values_all_rows and plot the depth camera data\n",
    "rows_to_plot = [29, 45, 450]\n",
    "plot_dc_values(dc_data.iloc[rows_to_plot])"
   ]
  },
  {
   "cell_type": "markdown",
   "metadata": {},
   "source": [
    "<a id='task1'></a>\n",
    "<div class=\" alert alert-warning\">\n",
    "\n",
    "<p> <b>1.2</b> Split the prepared dataset to training and testing datasets so that data of persons 1-7 are used for training and data of persons 8-10 are used for testing. In next tasks, training dataset could be further divided on (multiple) validation data folds to tune the models parameters, when needed.<br>\n",
    "    \n",
    "<p> Note: Training set should have 1486 windows and testing set should have 598 windows. In training set, acceleration data will have a window without a pair with depth camera data, that window should be dropped as it doesn't have a pair.<p>\n",
    "  \n",
    "Document your work, calculate the indicator statistics of training and testing datasets (number of examples, dimensions of each example) and visualize prepared examples.\n",
    "\n",
    "</div>"
   ]
  },
  {
   "cell_type": "code",
   "execution_count": 8,
   "metadata": {},
   "outputs": [
    {
     "name": "stdout",
     "output_type": "stream",
     "text": [
      "Training Set Statistics:\n",
      "{'acc_examples': 1486, 'dc_examples': 1486, 'acc_dimensions': (1486, 7), 'dc_dimensions': (1486, 7), 'acc_df_example': (500, 3), 'dc_df_example': (5, 192)}\n",
      "\n",
      "Testing Set Statistics:\n",
      "{'acc_examples': 598, 'dc_examples': 598, 'acc_dimensions': (598, 7), 'dc_dimensions': (598, 7), 'acc_df_example': (500, 3), 'dc_df_example': (5, 192)}\n"
     ]
    }
   ],
   "source": [
    "# 1.2. Split samples based on subject ID into training and testing datasets for futher experiments\n",
    "\n",
    "### Your code begins here ###\n",
    "\n",
    "training_set =  df_records_windowed[df_records_windowed[\"subject_id\"].isin([str(i).zfill(2) for i in range(1, 8)])]\n",
    "testing_set =  df_records_windowed[df_records_windowed[\"subject_id\"].isin([str(i).zfill(2) for i in range(8, 11)])]\n",
    "\n",
    "training_acc = deepcopy(training_set[training_set['sensor'] == 'acc'])\n",
    "training_dc = deepcopy(training_set[training_set['sensor'] == 'dc'])\n",
    "\n",
    "testing_acc = deepcopy(testing_set[testing_set['sensor'] == 'acc'])\n",
    "testing_dc = deepcopy(testing_set[testing_set['sensor'] == 'dc'])\n",
    "\n",
    "#Dropping the accelaration data that does not have a corresponding dc data\n",
    "compare_columns = ['subject_id', 'exercise_id', 'trial', 'window_idx']\n",
    "merged_df = pd.merge(training_acc, training_dc, how='outer', on=compare_columns, indicator=True)\n",
    "training_acc = training_acc.drop(merged_df[merged_df['_merge'] == 'left_only'].index, axis=0)\n",
    "\n",
    "# Dropping the dc data that does not have a corresponding accelaration data\n",
    "training_acc['df'] = training_acc['df'].apply(lambda x: x.drop(columns=['time']))\n",
    "testing_acc['df'] = testing_acc['df'].apply(lambda x: x.drop(columns=['time']))\n",
    "\n",
    "training_dc['df'] = training_dc['df'].apply(lambda x: x.drop(columns=['time']))\n",
    "testing_dc['df'] = testing_dc['df'].apply(lambda x: x.drop(columns=['time']))\n",
    "\n",
    "# Indicator statistics for training set\n",
    "training_stats = {\n",
    "    'acc_examples': len(training_acc),\n",
    "    'dc_examples': len(training_dc),\n",
    "    'acc_dimensions': training_acc.shape,  \n",
    "    'dc_dimensions': training_dc.shape,\n",
    "    'acc_df_example': training_acc.iloc[0]['df'].shape,\n",
    "    'dc_df_example': training_dc.iloc[0]['df'].shape\n",
    "}\n",
    "\n",
    "# Indicator statistics for testing set\n",
    "testing_stats = {\n",
    "    'acc_examples': len(testing_acc),\n",
    "    'dc_examples': len(testing_dc),\n",
    "    'acc_dimensions': testing_acc.shape,  \n",
    "    'dc_dimensions': testing_dc.shape,\n",
    "    'acc_df_example': testing_acc.iloc[0]['df'].shape,\n",
    "    'dc_df_example': testing_dc.iloc[0]['df'].shape\n",
    "}\n",
    "\n",
    "# Displaying indicator statistics\n",
    "print(\"Training Set Statistics:\")\n",
    "print(training_stats)\n",
    "print(\"\\nTesting Set Statistics:\")\n",
    "print(testing_stats)\n",
    "\n",
    "### Your code ends here ###"
   ]
  },
  {
   "cell_type": "code",
   "execution_count": 9,
   "metadata": {},
   "outputs": [
    {
     "name": "stdout",
     "output_type": "stream",
     "text": [
      "Merged Training Set:\n"
     ]
    },
    {
     "data": {
      "text/html": [
       "<div>\n",
       "<style scoped>\n",
       "    .dataframe tbody tr th:only-of-type {\n",
       "        vertical-align: middle;\n",
       "    }\n",
       "\n",
       "    .dataframe tbody tr th {\n",
       "        vertical-align: top;\n",
       "    }\n",
       "\n",
       "    .dataframe thead th {\n",
       "        text-align: right;\n",
       "    }\n",
       "</style>\n",
       "<table border=\"1\" class=\"dataframe\">\n",
       "  <thead>\n",
       "    <tr style=\"text-align: right;\">\n",
       "      <th></th>\n",
       "      <th>subject_id</th>\n",
       "      <th>exercise_id</th>\n",
       "      <th>trial</th>\n",
       "      <th>sensor_code_x</th>\n",
       "      <th>sensor_x</th>\n",
       "      <th>df_x</th>\n",
       "      <th>window_idx</th>\n",
       "      <th>sensor_code_y</th>\n",
       "      <th>sensor_y</th>\n",
       "      <th>df_y</th>\n",
       "      <th>_merge</th>\n",
       "    </tr>\n",
       "  </thead>\n",
       "  <tbody>\n",
       "    <tr>\n",
       "      <th>0</th>\n",
       "      <td>03</td>\n",
       "      <td>02</td>\n",
       "      <td>1</td>\n",
       "      <td>act</td>\n",
       "      <td>acc</td>\n",
       "      <td>acc_0     acc_1     acc_2\n",
       "0   -0.76562...</td>\n",
       "      <td>0</td>\n",
       "      <td>dc</td>\n",
       "      <td>dc</td>\n",
       "      <td>dc_0    dc_1   dc_2    dc_3    dc_4    dc...</td>\n",
       "      <td>both</td>\n",
       "    </tr>\n",
       "    <tr>\n",
       "      <th>1</th>\n",
       "      <td>03</td>\n",
       "      <td>02</td>\n",
       "      <td>1</td>\n",
       "      <td>act</td>\n",
       "      <td>acc</td>\n",
       "      <td>acc_0     acc_1     acc_2\n",
       "200 -0.70312...</td>\n",
       "      <td>1</td>\n",
       "      <td>dc</td>\n",
       "      <td>dc</td>\n",
       "      <td>dc_0    dc_1   dc_2    dc_3    dc_4    dc...</td>\n",
       "      <td>both</td>\n",
       "    </tr>\n",
       "    <tr>\n",
       "      <th>2</th>\n",
       "      <td>03</td>\n",
       "      <td>02</td>\n",
       "      <td>1</td>\n",
       "      <td>act</td>\n",
       "      <td>acc</td>\n",
       "      <td>acc_0     acc_1     acc_2\n",
       "400 -0.46875...</td>\n",
       "      <td>2</td>\n",
       "      <td>dc</td>\n",
       "      <td>dc</td>\n",
       "      <td>dc_0    dc_1   dc_2    dc_3    dc_4    dc...</td>\n",
       "      <td>both</td>\n",
       "    </tr>\n",
       "    <tr>\n",
       "      <th>3</th>\n",
       "      <td>03</td>\n",
       "      <td>02</td>\n",
       "      <td>1</td>\n",
       "      <td>act</td>\n",
       "      <td>acc</td>\n",
       "      <td>acc_0     acc_1     acc_2\n",
       "600  -0.500...</td>\n",
       "      <td>3</td>\n",
       "      <td>dc</td>\n",
       "      <td>dc</td>\n",
       "      <td>dc_0    dc_1   dc_2    dc_3    dc_4    d...</td>\n",
       "      <td>both</td>\n",
       "    </tr>\n",
       "    <tr>\n",
       "      <th>4</th>\n",
       "      <td>03</td>\n",
       "      <td>02</td>\n",
       "      <td>1</td>\n",
       "      <td>act</td>\n",
       "      <td>acc</td>\n",
       "      <td>acc_0     acc_1     acc_2\n",
       "800  -0.500...</td>\n",
       "      <td>4</td>\n",
       "      <td>dc</td>\n",
       "      <td>dc</td>\n",
       "      <td>dc_0    dc_1   dc_2    dc_3    dc_4    d...</td>\n",
       "      <td>both</td>\n",
       "    </tr>\n",
       "    <tr>\n",
       "      <th>...</th>\n",
       "      <td>...</td>\n",
       "      <td>...</td>\n",
       "      <td>...</td>\n",
       "      <td>...</td>\n",
       "      <td>...</td>\n",
       "      <td>...</td>\n",
       "      <td>...</td>\n",
       "      <td>...</td>\n",
       "      <td>...</td>\n",
       "      <td>...</td>\n",
       "      <td>...</td>\n",
       "    </tr>\n",
       "    <tr>\n",
       "      <th>1481</th>\n",
       "      <td>06</td>\n",
       "      <td>05</td>\n",
       "      <td>1</td>\n",
       "      <td>act</td>\n",
       "      <td>acc</td>\n",
       "      <td>acc_0     acc_1     acc_2\n",
       "3400  0.796...</td>\n",
       "      <td>17</td>\n",
       "      <td>dc</td>\n",
       "      <td>dc</td>\n",
       "      <td>dc_0    dc_1    dc_2    dc_3   dc_4    d...</td>\n",
       "      <td>both</td>\n",
       "    </tr>\n",
       "    <tr>\n",
       "      <th>1482</th>\n",
       "      <td>06</td>\n",
       "      <td>05</td>\n",
       "      <td>1</td>\n",
       "      <td>act</td>\n",
       "      <td>acc</td>\n",
       "      <td>acc_0     acc_1     acc_2\n",
       "3600  0.796...</td>\n",
       "      <td>18</td>\n",
       "      <td>dc</td>\n",
       "      <td>dc</td>\n",
       "      <td>dc_0    dc_1    dc_2    dc_3   dc_4    d...</td>\n",
       "      <td>both</td>\n",
       "    </tr>\n",
       "    <tr>\n",
       "      <th>1483</th>\n",
       "      <td>06</td>\n",
       "      <td>05</td>\n",
       "      <td>1</td>\n",
       "      <td>act</td>\n",
       "      <td>acc</td>\n",
       "      <td>acc_0     acc_1     acc_2\n",
       "3800  0.796...</td>\n",
       "      <td>19</td>\n",
       "      <td>dc</td>\n",
       "      <td>dc</td>\n",
       "      <td>dc_0    dc_1    dc_2    dc_3   dc_4    d...</td>\n",
       "      <td>both</td>\n",
       "    </tr>\n",
       "    <tr>\n",
       "      <th>1484</th>\n",
       "      <td>06</td>\n",
       "      <td>05</td>\n",
       "      <td>1</td>\n",
       "      <td>act</td>\n",
       "      <td>acc</td>\n",
       "      <td>acc_0     acc_1     acc_2\n",
       "4000  0.781...</td>\n",
       "      <td>20</td>\n",
       "      <td>dc</td>\n",
       "      <td>dc</td>\n",
       "      <td>dc_0    dc_1    dc_2    dc_3   dc_4    d...</td>\n",
       "      <td>both</td>\n",
       "    </tr>\n",
       "    <tr>\n",
       "      <th>1485</th>\n",
       "      <td>06</td>\n",
       "      <td>05</td>\n",
       "      <td>1</td>\n",
       "      <td>act</td>\n",
       "      <td>acc</td>\n",
       "      <td>acc_0     acc_1     acc_2\n",
       "4200  0.796...</td>\n",
       "      <td>21</td>\n",
       "      <td>dc</td>\n",
       "      <td>dc</td>\n",
       "      <td>dc_0    dc_1    dc_2    dc_3   dc_4    d...</td>\n",
       "      <td>both</td>\n",
       "    </tr>\n",
       "  </tbody>\n",
       "</table>\n",
       "<p>1486 rows × 11 columns</p>\n",
       "</div>"
      ],
      "text/plain": [
       "     subject_id exercise_id  trial sensor_code_x sensor_x  \\\n",
       "0            03          02      1           act      acc   \n",
       "1            03          02      1           act      acc   \n",
       "2            03          02      1           act      acc   \n",
       "3            03          02      1           act      acc   \n",
       "4            03          02      1           act      acc   \n",
       "...         ...         ...    ...           ...      ...   \n",
       "1481         06          05      1           act      acc   \n",
       "1482         06          05      1           act      acc   \n",
       "1483         06          05      1           act      acc   \n",
       "1484         06          05      1           act      acc   \n",
       "1485         06          05      1           act      acc   \n",
       "\n",
       "                                                   df_x  window_idx  \\\n",
       "0             acc_0     acc_1     acc_2\n",
       "0   -0.76562...           0   \n",
       "1             acc_0     acc_1     acc_2\n",
       "200 -0.70312...           1   \n",
       "2             acc_0     acc_1     acc_2\n",
       "400 -0.46875...           2   \n",
       "3              acc_0     acc_1     acc_2\n",
       "600  -0.500...           3   \n",
       "4              acc_0     acc_1     acc_2\n",
       "800  -0.500...           4   \n",
       "...                                                 ...         ...   \n",
       "1481           acc_0     acc_1     acc_2\n",
       "3400  0.796...          17   \n",
       "1482           acc_0     acc_1     acc_2\n",
       "3600  0.796...          18   \n",
       "1483           acc_0     acc_1     acc_2\n",
       "3800  0.796...          19   \n",
       "1484           acc_0     acc_1     acc_2\n",
       "4000  0.781...          20   \n",
       "1485           acc_0     acc_1     acc_2\n",
       "4200  0.796...          21   \n",
       "\n",
       "     sensor_code_y sensor_y  \\\n",
       "0               dc       dc   \n",
       "1               dc       dc   \n",
       "2               dc       dc   \n",
       "3               dc       dc   \n",
       "4               dc       dc   \n",
       "...            ...      ...   \n",
       "1481            dc       dc   \n",
       "1482            dc       dc   \n",
       "1483            dc       dc   \n",
       "1484            dc       dc   \n",
       "1485            dc       dc   \n",
       "\n",
       "                                                   df_y _merge  \n",
       "0          dc_0    dc_1   dc_2    dc_3    dc_4    dc...   both  \n",
       "1          dc_0    dc_1   dc_2    dc_3    dc_4    dc...   both  \n",
       "2          dc_0    dc_1   dc_2    dc_3    dc_4    dc...   both  \n",
       "3           dc_0    dc_1   dc_2    dc_3    dc_4    d...   both  \n",
       "4           dc_0    dc_1   dc_2    dc_3    dc_4    d...   both  \n",
       "...                                                 ...    ...  \n",
       "1481        dc_0    dc_1    dc_2    dc_3   dc_4    d...   both  \n",
       "1482        dc_0    dc_1    dc_2    dc_3   dc_4    d...   both  \n",
       "1483        dc_0    dc_1    dc_2    dc_3   dc_4    d...   both  \n",
       "1484        dc_0    dc_1    dc_2    dc_3   dc_4    d...   both  \n",
       "1485        dc_0    dc_1    dc_2    dc_3   dc_4    d...   both  \n",
       "\n",
       "[1486 rows x 11 columns]"
      ]
     },
     "metadata": {},
     "output_type": "display_data"
    },
    {
     "name": "stdout",
     "output_type": "stream",
     "text": [
      "Merged Testing Set:\n"
     ]
    },
    {
     "data": {
      "text/html": [
       "<div>\n",
       "<style scoped>\n",
       "    .dataframe tbody tr th:only-of-type {\n",
       "        vertical-align: middle;\n",
       "    }\n",
       "\n",
       "    .dataframe tbody tr th {\n",
       "        vertical-align: top;\n",
       "    }\n",
       "\n",
       "    .dataframe thead th {\n",
       "        text-align: right;\n",
       "    }\n",
       "</style>\n",
       "<table border=\"1\" class=\"dataframe\">\n",
       "  <thead>\n",
       "    <tr style=\"text-align: right;\">\n",
       "      <th></th>\n",
       "      <th>subject_id</th>\n",
       "      <th>exercise_id</th>\n",
       "      <th>trial</th>\n",
       "      <th>sensor_code_x</th>\n",
       "      <th>sensor_x</th>\n",
       "      <th>df_x</th>\n",
       "      <th>window_idx</th>\n",
       "      <th>sensor_code_y</th>\n",
       "      <th>sensor_y</th>\n",
       "      <th>df_y</th>\n",
       "      <th>_merge</th>\n",
       "    </tr>\n",
       "  </thead>\n",
       "  <tbody>\n",
       "    <tr>\n",
       "      <th>0</th>\n",
       "      <td>10</td>\n",
       "      <td>02</td>\n",
       "      <td>1</td>\n",
       "      <td>act</td>\n",
       "      <td>acc</td>\n",
       "      <td>acc_0     acc_1     acc_2\n",
       "0    0.65625...</td>\n",
       "      <td>0</td>\n",
       "      <td>dc</td>\n",
       "      <td>dc</td>\n",
       "      <td>dc_0    dc_1    dc_2    dc_3    dc_4    d...</td>\n",
       "      <td>both</td>\n",
       "    </tr>\n",
       "    <tr>\n",
       "      <th>1</th>\n",
       "      <td>10</td>\n",
       "      <td>02</td>\n",
       "      <td>1</td>\n",
       "      <td>act</td>\n",
       "      <td>acc</td>\n",
       "      <td>acc_0     acc_1     acc_2\n",
       "200  0.65625...</td>\n",
       "      <td>1</td>\n",
       "      <td>dc</td>\n",
       "      <td>dc</td>\n",
       "      <td>dc_0    dc_1    dc_2    dc_3    dc_4    d...</td>\n",
       "      <td>both</td>\n",
       "    </tr>\n",
       "    <tr>\n",
       "      <th>2</th>\n",
       "      <td>10</td>\n",
       "      <td>02</td>\n",
       "      <td>1</td>\n",
       "      <td>act</td>\n",
       "      <td>acc</td>\n",
       "      <td>acc_0     acc_1     acc_2\n",
       "400  0.50000...</td>\n",
       "      <td>2</td>\n",
       "      <td>dc</td>\n",
       "      <td>dc</td>\n",
       "      <td>dc_0    dc_1    dc_2    dc_3    dc_4    d...</td>\n",
       "      <td>both</td>\n",
       "    </tr>\n",
       "    <tr>\n",
       "      <th>3</th>\n",
       "      <td>10</td>\n",
       "      <td>02</td>\n",
       "      <td>1</td>\n",
       "      <td>act</td>\n",
       "      <td>acc</td>\n",
       "      <td>acc_0     acc_1     acc_2\n",
       "600   0.546...</td>\n",
       "      <td>3</td>\n",
       "      <td>dc</td>\n",
       "      <td>dc</td>\n",
       "      <td>dc_0    dc_1    dc_2    dc_3    dc_4    ...</td>\n",
       "      <td>both</td>\n",
       "    </tr>\n",
       "    <tr>\n",
       "      <th>4</th>\n",
       "      <td>10</td>\n",
       "      <td>02</td>\n",
       "      <td>1</td>\n",
       "      <td>act</td>\n",
       "      <td>acc</td>\n",
       "      <td>acc_0     acc_1     acc_2\n",
       "800   0.640...</td>\n",
       "      <td>4</td>\n",
       "      <td>dc</td>\n",
       "      <td>dc</td>\n",
       "      <td>dc_0    dc_1    dc_2    dc_3    dc_4    ...</td>\n",
       "      <td>both</td>\n",
       "    </tr>\n",
       "    <tr>\n",
       "      <th>...</th>\n",
       "      <td>...</td>\n",
       "      <td>...</td>\n",
       "      <td>...</td>\n",
       "      <td>...</td>\n",
       "      <td>...</td>\n",
       "      <td>...</td>\n",
       "      <td>...</td>\n",
       "      <td>...</td>\n",
       "      <td>...</td>\n",
       "      <td>...</td>\n",
       "      <td>...</td>\n",
       "    </tr>\n",
       "    <tr>\n",
       "      <th>593</th>\n",
       "      <td>08</td>\n",
       "      <td>03</td>\n",
       "      <td>1</td>\n",
       "      <td>act</td>\n",
       "      <td>acc</td>\n",
       "      <td>acc_0     acc_1     acc_2\n",
       "4600 -0.553...</td>\n",
       "      <td>23</td>\n",
       "      <td>dc</td>\n",
       "      <td>dc</td>\n",
       "      <td>dc_0    dc_1    dc_2    dc_3   dc_4   dc...</td>\n",
       "      <td>both</td>\n",
       "    </tr>\n",
       "    <tr>\n",
       "      <th>594</th>\n",
       "      <td>08</td>\n",
       "      <td>03</td>\n",
       "      <td>1</td>\n",
       "      <td>act</td>\n",
       "      <td>acc</td>\n",
       "      <td>acc_0     acc_1     acc_2\n",
       "4800 -0.484...</td>\n",
       "      <td>24</td>\n",
       "      <td>dc</td>\n",
       "      <td>dc</td>\n",
       "      <td>dc_0    dc_1    dc_2    dc_3   dc_4   dc...</td>\n",
       "      <td>both</td>\n",
       "    </tr>\n",
       "    <tr>\n",
       "      <th>595</th>\n",
       "      <td>08</td>\n",
       "      <td>03</td>\n",
       "      <td>1</td>\n",
       "      <td>act</td>\n",
       "      <td>acc</td>\n",
       "      <td>acc_0     acc_1     acc_2\n",
       "5000 -0.468...</td>\n",
       "      <td>25</td>\n",
       "      <td>dc</td>\n",
       "      <td>dc</td>\n",
       "      <td>dc_0    dc_1    dc_2    dc_3   dc_4   dc...</td>\n",
       "      <td>both</td>\n",
       "    </tr>\n",
       "    <tr>\n",
       "      <th>596</th>\n",
       "      <td>08</td>\n",
       "      <td>03</td>\n",
       "      <td>1</td>\n",
       "      <td>act</td>\n",
       "      <td>acc</td>\n",
       "      <td>acc_0     acc_1     acc_2\n",
       "5200 -0.484...</td>\n",
       "      <td>26</td>\n",
       "      <td>dc</td>\n",
       "      <td>dc</td>\n",
       "      <td>dc_0    dc_1    dc_2    dc_3   dc_4   dc...</td>\n",
       "      <td>both</td>\n",
       "    </tr>\n",
       "    <tr>\n",
       "      <th>597</th>\n",
       "      <td>08</td>\n",
       "      <td>03</td>\n",
       "      <td>1</td>\n",
       "      <td>act</td>\n",
       "      <td>acc</td>\n",
       "      <td>acc_0   acc_1     acc_2\n",
       "5400 -0.46875...</td>\n",
       "      <td>27</td>\n",
       "      <td>dc</td>\n",
       "      <td>dc</td>\n",
       "      <td>dc_0    dc_1    dc_2    dc_3   dc_4   dc...</td>\n",
       "      <td>both</td>\n",
       "    </tr>\n",
       "  </tbody>\n",
       "</table>\n",
       "<p>598 rows × 11 columns</p>\n",
       "</div>"
      ],
      "text/plain": [
       "    subject_id exercise_id  trial sensor_code_x sensor_x  \\\n",
       "0           10          02      1           act      acc   \n",
       "1           10          02      1           act      acc   \n",
       "2           10          02      1           act      acc   \n",
       "3           10          02      1           act      acc   \n",
       "4           10          02      1           act      acc   \n",
       "..         ...         ...    ...           ...      ...   \n",
       "593         08          03      1           act      acc   \n",
       "594         08          03      1           act      acc   \n",
       "595         08          03      1           act      acc   \n",
       "596         08          03      1           act      acc   \n",
       "597         08          03      1           act      acc   \n",
       "\n",
       "                                                  df_x  window_idx  \\\n",
       "0            acc_0     acc_1     acc_2\n",
       "0    0.65625...           0   \n",
       "1            acc_0     acc_1     acc_2\n",
       "200  0.65625...           1   \n",
       "2            acc_0     acc_1     acc_2\n",
       "400  0.50000...           2   \n",
       "3             acc_0     acc_1     acc_2\n",
       "600   0.546...           3   \n",
       "4             acc_0     acc_1     acc_2\n",
       "800   0.640...           4   \n",
       "..                                                 ...         ...   \n",
       "593           acc_0     acc_1     acc_2\n",
       "4600 -0.553...          23   \n",
       "594           acc_0     acc_1     acc_2\n",
       "4800 -0.484...          24   \n",
       "595           acc_0     acc_1     acc_2\n",
       "5000 -0.468...          25   \n",
       "596           acc_0     acc_1     acc_2\n",
       "5200 -0.484...          26   \n",
       "597           acc_0   acc_1     acc_2\n",
       "5400 -0.46875...          27   \n",
       "\n",
       "    sensor_code_y sensor_y                                               df_y  \\\n",
       "0              dc       dc       dc_0    dc_1    dc_2    dc_3    dc_4    d...   \n",
       "1              dc       dc       dc_0    dc_1    dc_2    dc_3    dc_4    d...   \n",
       "2              dc       dc       dc_0    dc_1    dc_2    dc_3    dc_4    d...   \n",
       "3              dc       dc        dc_0    dc_1    dc_2    dc_3    dc_4    ...   \n",
       "4              dc       dc        dc_0    dc_1    dc_2    dc_3    dc_4    ...   \n",
       "..            ...      ...                                                ...   \n",
       "593            dc       dc        dc_0    dc_1    dc_2    dc_3   dc_4   dc...   \n",
       "594            dc       dc        dc_0    dc_1    dc_2    dc_3   dc_4   dc...   \n",
       "595            dc       dc        dc_0    dc_1    dc_2    dc_3   dc_4   dc...   \n",
       "596            dc       dc        dc_0    dc_1    dc_2    dc_3   dc_4   dc...   \n",
       "597            dc       dc        dc_0    dc_1    dc_2    dc_3   dc_4   dc...   \n",
       "\n",
       "    _merge  \n",
       "0     both  \n",
       "1     both  \n",
       "2     both  \n",
       "3     both  \n",
       "4     both  \n",
       "..     ...  \n",
       "593   both  \n",
       "594   both  \n",
       "595   both  \n",
       "596   both  \n",
       "597   both  \n",
       "\n",
       "[598 rows x 11 columns]"
      ]
     },
     "metadata": {},
     "output_type": "display_data"
    }
   ],
   "source": [
    "compare_columns = ['subject_id', 'exercise_id', 'trial', 'window_idx']\n",
    "merged_train = pd.merge(training_acc, training_dc, how='outer', on=compare_columns, indicator=True)\n",
    "merged_test = pd.merge(testing_acc, testing_dc, how='outer', on=compare_columns, indicator=True)\n",
    "\n",
    "print('Merged Training Set:')\n",
    "display(merged_train)\n",
    "print('Merged Testing Set:')\n",
    "display(merged_test)"
   ]
  },
  {
   "cell_type": "markdown",
   "metadata": {
    "nbgrader": {
     "grade": false,
     "grade_id": "cell-8dd9cccbd7bb483c",
     "locked": true,
     "schema_version": 3,
     "solution": false,
     "task": false
    }
   },
   "source": [
    "# 2. Feature extraction and fusion for unimodal classification"
   ]
  },
  {
   "cell_type": "markdown",
   "metadata": {
    "nbgrader": {
     "grade": false,
     "grade_id": "cell-583b0e4a5d64720f",
     "locked": true,
     "schema_version": 3,
     "solution": false,
     "task": false
    }
   },
   "source": [
    "<a id='task2'></a>\n",
    "<div class=\" alert alert-warning\">\n",
    "    <b>Assigment.</b> <b>Task 2.</b>\n",
    "\n",
    "Use the training dataset prepared in task 1. to build models based on the combination of principal component analysis (PCA), linear discriminant analysis (LDA), and nearest neighbour (NN) classifier for each modality separately and evaluate the model on test dataset. Do the subtasks given as \n",
    "<br>\n",
    "<br>\n",
    "<p> <b>2.1</b> Calculate PCA and LDA transformations to reduce the dimensionality of accelerometer data (e.g., using scikit-learn implementations). Before transformations downsample data from 100 Hz to 25 Hz (using scipy.signal.resample) to get 125x3 matrix of data for each 5 sec window. You should also standardize the values to zero mean and unit variance before the transformations. Using training dataset, fit PCA with 5-dimensional subspace (i.e., choosing the 5 largest principal components) and fit LDA with 5-dimensional subspace. Transform both train and test examples to this low-dimensional feature representation. Concatenate each sequence to single vector size of 3x(5+5). Perform the fusion of PCA and LDA similar manner as presented in Lecture 3 (pages 24-25) using NN method. Evaluate the performance on testset. Show confusion matrix and F1 scores of the results. </p>\n",
    "\n",
    "Note: Standardize the data along each axis.\n",
    "<br>\n",
    "\n",
    "Document your work, evaluate the results, and analyse the outcomes (The expected F1 score for this task should generally fall within the range of 40 to 50)\n",
    "    \n",
    "</div>"
   ]
  },
  {
   "cell_type": "code",
   "execution_count": 10,
   "metadata": {},
   "outputs": [],
   "source": [
    "### Your code begins here ###\n",
    "from scipy.signal import resample\n",
    "from sklearn.preprocessing import StandardScaler\n",
    "from sklearn.metrics import confusion_matrix, f1_score\n",
    "\n",
    "def resample_scale(data, orig_freq, new_freq):\n",
    "    # Resample the data\n",
    "    new_num_points = int(len(data) * new_freq / orig_freq)\n",
    "    preprocess_data = resample(data, new_num_points).reshape(-1, 1)\n",
    "    \n",
    "    return preprocess_data.flatten()\n",
    "\n",
    "def preprocess(df, columns, resample=True):\n",
    "    combined_features = []\n",
    "    for col in columns:\n",
    "        preprocessed_data = df.apply(lambda x: x[col].values)\n",
    "        \n",
    "        # resample the data to 25 Hz\n",
    "        if resample:\n",
    "            preprocessed_data = df.apply(lambda x: resample_scale(data=x[col].values, orig_freq=100, new_freq=25))\n",
    "        preprocessed_data = np.vstack(preprocessed_data.values)\n",
    "        \n",
    "        # Standardize the data\n",
    "        scaler = StandardScaler()\n",
    "        preprocessed_data = scaler.fit_transform(preprocessed_data)\n",
    "\n",
    "        # Add the preprocessed data to the list\n",
    "        combined_features.append(preprocessed_data)\n",
    "\n",
    "    return np.stack(combined_features, axis=1)"
   ]
  },
  {
   "cell_type": "code",
   "execution_count": 11,
   "metadata": {},
   "outputs": [],
   "source": [
    "from sklearn.decomposition import PCA\n",
    "from sklearn.discriminant_analysis import LinearDiscriminantAnalysis\n",
    "\n",
    "def transform_data_with_pca_lda(X_train, X_test, y_train, n_components=5):\n",
    "    X_train_transform_pca = np.zeros((X_train.shape[0], X_train.shape[1], n_components))\n",
    "    X_test_transform_pca = np.zeros((X_test.shape[0], X_test.shape[1], n_components))\n",
    "\n",
    "    X_train_transform_lda = np.zeros((X_train.shape[0], X_train.shape[1], n_components))\n",
    "    X_test_transform_lda = np.zeros((X_test.shape[0], X_test.shape[1], n_components))\n",
    "\n",
    "    for i in range(X_train.shape[1]):\n",
    "        # Apply PCA\n",
    "        pca = PCA(n_components=n_components)\n",
    "\n",
    "        # Fit and transform on the training set\n",
    "        f_train = pca.fit_transform(X_train[:, i, :])\n",
    "        X_train_transform_pca[:, i, :] = f_train\n",
    "        \n",
    "        # Transform the test set using the parameters learned from the training set\n",
    "        f_test = pca.transform(X_test[:, i, :])\n",
    "        X_test_transform_pca[:, i, :] = f_test  \n",
    "\n",
    "        # Apply LDA\n",
    "        lda = LinearDiscriminantAnalysis(n_components=n_components)\n",
    "        \n",
    "        # Fit and transform on the training set\n",
    "        f_train_lda = lda.fit_transform(X_train[:, i, :], y_train)\n",
    "        X_train_transform_lda[:, i, :] = f_train_lda\n",
    "        \n",
    "        # Transform the test set using the parameters learned from the training set\n",
    "        f_test_lda = lda.transform(X_test[:, i, :])\n",
    "        X_test_transform_lda[:, i, :] = f_test_lda\n",
    "\n",
    "    return X_train_transform_pca, X_test_transform_pca, X_train_transform_lda, X_test_transform_lda"
   ]
  },
  {
   "cell_type": "code",
   "execution_count": 12,
   "metadata": {},
   "outputs": [],
   "source": [
    "# Function to fuse PCA and LDA and classify\n",
    "def fuse_pca_lda_classification(test_example_pca, test_example_lda, training_examples_pca, training_examples_lda):\n",
    "\n",
    "    # Initialize distances\n",
    "    pca_distances = np.sum((test_example_pca - training_examples_pca) ** 2, axis=(1))\n",
    "    lda_distances = np.sum((test_example_lda - training_examples_lda) ** 2, axis=(1))\n",
    "\n",
    "    # Normalize distances between 0 and 1\n",
    "    min_pca_dist, max_pca_dist = min(pca_distances), max(pca_distances)\n",
    "    min_lda_dist, max_lda_dist = min(lda_distances), max(lda_distances)\n",
    "\n",
    "    normalized_pca_distances = (pca_distances - min_pca_dist) / (max_pca_dist - min_pca_dist)\n",
    "    normalized_lda_distances = (lda_distances - min_lda_dist) / (max_lda_dist - min_lda_dist)\n",
    "\n",
    "    # Fuse by averaging (arithmetic mean)\n",
    "    fusion_scores = 0.5 * (normalized_pca_distances + normalized_lda_distances)\n",
    "\n",
    "    # Classify test example as belonging to the class of the nearest neighbor\n",
    "    predicted_window = np.argmin(fusion_scores)\n",
    "\n",
    "    return predicted_window"
   ]
  },
  {
   "cell_type": "code",
   "execution_count": 13,
   "metadata": {},
   "outputs": [],
   "source": [
    "merged_train['preprocessed_data_acc'] = [_ for _ in preprocess(df=merged_train['df_x'], columns=['acc_0', 'acc_1', 'acc_2'], resample=True)]\n",
    "merged_test['preprocessed_data_acc'] = [_ for _ in preprocess(df=merged_test['df_x'], columns=['acc_0', 'acc_1', 'acc_2'] , resample=True)]"
   ]
  },
  {
   "cell_type": "code",
   "execution_count": 14,
   "metadata": {},
   "outputs": [
    {
     "name": "stdout",
     "output_type": "stream",
     "text": [
      "X_train shape: (1486, 3, 125)\n",
      "y_train shape: (1486,)\n",
      "X_test shape: (598, 3, 125)\n",
      "y_test shape: (598,)\n"
     ]
    }
   ],
   "source": [
    "X_train_acc = np.stack(merged_train['preprocessed_data_acc'].values)\n",
    "y_train_acc = merged_train['exercise_id'].values\n",
    "\n",
    "X_test_acc = np.stack(merged_test['preprocessed_data_acc'].values)\n",
    "y_test_acc = merged_test['exercise_id'].values\n",
    "\n",
    "print(f'X_train shape: {X_train_acc.shape}\\ny_train shape: {y_train_acc.shape}\\nX_test shape: {X_test_acc.shape}\\ny_test shape: {y_test_acc.shape}')"
   ]
  },
  {
   "cell_type": "code",
   "execution_count": 15,
   "metadata": {},
   "outputs": [
    {
     "name": "stdout",
     "output_type": "stream",
     "text": [
      "Shape of the transformed data:\n",
      "X_train_pca shape: (1486, 3, 5)\n",
      "X_test_pca shape: (598, 3, 5)\n",
      "X_train_lda shape: (1486, 3, 5)\n",
      "X_test_lda shape: (598, 3, 5)\n",
      "\n",
      "Shape of the feature vectors after reshaping:\n",
      "X_train_pca shape: (1486, 15)\n",
      "X_test_pca shape: (598, 15)\n",
      "X_train_lda shape: (1486, 15)\n",
      "X_test_lda shape: (598, 15)\n"
     ]
    }
   ],
   "source": [
    "X_train_pca, X_test_pca, X_train_lda, X_test_lda = transform_data_with_pca_lda(X_train_acc, X_test_acc, y_train_acc, n_components=5)\n",
    "print('Shape of the transformed data:')\n",
    "print(f'X_train_pca shape: {X_train_pca.shape}\\nX_test_pca shape: {X_test_pca.shape}\\nX_train_lda shape: {X_train_lda.shape}\\nX_test_lda shape: {X_test_lda.shape}')\n",
    "\n",
    "# Reshape the data to create the feature vectors\n",
    "X_train_pca = X_train_pca.reshape(X_train_pca.shape[0], -1)\n",
    "X_test_pca = X_test_pca.reshape(X_test_pca.shape[0], -1)\n",
    "X_train_lda = X_train_lda.reshape(X_train_lda.shape[0], -1)\n",
    "X_test_lda = X_test_lda.reshape(X_test_lda.shape[0], -1)\n",
    "\n",
    "print('\\nShape of the feature vectors after reshaping:')\n",
    "print(f'X_train_pca shape: {X_train_pca.shape}\\nX_test_pca shape: {X_test_pca.shape}\\nX_train_lda shape: {X_train_lda.shape}\\nX_test_lda shape: {X_test_lda.shape}')"
   ]
  },
  {
   "cell_type": "code",
   "execution_count": 16,
   "metadata": {},
   "outputs": [
    {
     "data": {
      "image/png": "[encoded data removed]",
      "text/plain": [
       "<Figure size 576x432 with 2 Axes>"
      ]
     },
     "metadata": {
      "needs_background": "light"
     },
     "output_type": "display_data"
    },
    {
     "name": "stdout",
     "output_type": "stream",
     "text": [
      "F1 Score: 0.46\n"
     ]
    }
   ],
   "source": [
    "from sklearn.metrics import f1_score\n",
    "from sklearn.metrics import confusion_matrix\n",
    "import seaborn as sns\n",
    "import matplotlib.pyplot as plt\n",
    "\n",
    "predictions = []\n",
    "for x_test_pca, x_test_lda in zip(X_test_pca, X_test_lda):\n",
    "    pred_idx = fuse_pca_lda_classification(x_test_pca, x_test_lda, X_train_pca, X_train_lda)\n",
    "    predictions.append(y_train_acc[pred_idx])\n",
    "\n",
    "f1_score = f1_score(y_test_acc, predictions, average='macro')\n",
    "cm = confusion_matrix(y_test_acc, predictions, labels=np.unique(y_test_acc))\n",
    "\n",
    "# Plot the confusion matrix using seaborn heatmap\n",
    "plt.figure(figsize=(8, 6))\n",
    "sns.heatmap(cm, annot=True, fmt='d', cmap='Blues', xticklabels=np.unique(y_test_acc), yticklabels=np.unique(y_test_acc))\n",
    "plt.xlabel('Predicted')\n",
    "plt.ylabel('True')\n",
    "plt.title('Confusion Matrix')\n",
    "plt.show()\n",
    "\n",
    "print(f'F1 Score: {f1_score:.2f}')\n",
    "# your code ends here"
   ]
  },
  {
   "cell_type": "markdown",
   "metadata": {},
   "source": [
    "<a id='task2'></a>\n",
    "<div class=\" alert alert-warning\">\n",
    "<p> <b>2.2</b> Use PCA and LDA transformations to reduce the dimensionality of depth images. You should also standardize the values to zero mean and unit variance before the transformations. Fit PCA and LDA for all training images (12x16, 192-dimensional in vectorized form) by choosing 5-dimensional subspace for both PCA and LDA. Transform both train and test examples to this low-dimensional feature representation. Concatenate each sequence to single vector size of 5x1x(5+5). Similar to task 2.1, do the PCA and LDA fusion using NN and evaluate the performance on testset. Show confusion matrix and F1 scores of the results. </p>\n",
    "\n",
    "Note: Standardize the data along each axis.\n",
    "<br>\n",
    "\n",
    "Document your work, evaluate the results, and analyse the outcomes (The expected F1 score for this task should generally fall within the range of 40 to 50)\n",
    "    \n",
    "</div>"
   ]
  },
  {
   "cell_type": "code",
   "execution_count": 17,
   "metadata": {},
   "outputs": [],
   "source": [
    "### Your code begins here ###\n",
    "dc_columns = list(merged_train.iloc[0]['df_y'].columns)\n",
    "\n",
    "merged_train['preprocessed_data_dc'] = [_.T for _ in preprocess(df=merged_train['df_y'], columns=dc_columns, resample=False)]\n",
    "merged_test['preprocessed_data_dc'] = [_.T for _ in preprocess(df=merged_test['df_y'], columns=dc_columns, resample=False)]"
   ]
  },
  {
   "cell_type": "code",
   "execution_count": 18,
   "metadata": {},
   "outputs": [
    {
     "name": "stdout",
     "output_type": "stream",
     "text": [
      "X_train shape: (1486, 5, 192)\n",
      "y_train shape: (1486,)\n",
      "X_test shape: (598, 5, 192)\n",
      "y_test shape: (598,)\n"
     ]
    }
   ],
   "source": [
    "X_train_dc = np.stack(merged_train['preprocessed_data_dc'] .values)\n",
    "y_train_dc = merged_train['exercise_id'].values\n",
    "\n",
    "X_test_dc = np.stack(merged_test['preprocessed_data_dc'] .values)\n",
    "y_test_dc = merged_test['exercise_id'].values\n",
    "\n",
    "print(f'X_train shape: {X_train_dc.shape}\\ny_train shape: {y_train_dc.shape}\\nX_test shape: {X_test_dc.shape}\\ny_test shape: {y_test_dc.shape}')"
   ]
  },
  {
   "cell_type": "code",
   "execution_count": 19,
   "metadata": {},
   "outputs": [
    {
     "name": "stdout",
     "output_type": "stream",
     "text": [
      "Shape of the transformed data:\n",
      "X_train_pca shape: (1486, 5, 5)\n",
      "X_test_pca shape: (598, 5, 5)\n",
      "X_train_lda shape: (1486, 5, 5)\n",
      "X_test_lda shape: (598, 5, 5)\n",
      "\n",
      "Shape of the feature vectors after reshaping:\n",
      "X_train_pca shape: (1486, 25)\n",
      "X_test_pca shape: (598, 25)\n",
      "X_train_lda shape: (1486, 25)\n",
      "X_test_lda shape: (598, 25)\n"
     ]
    }
   ],
   "source": [
    "X_train_pca, X_test_pca, X_train_lda, X_test_lda = transform_data_with_pca_lda(X_train_dc, X_test_dc, y_train_dc, n_components=5)\n",
    "print('Shape of the transformed data:')\n",
    "print(f'X_train_pca shape: {X_train_pca.shape}\\nX_test_pca shape: {X_test_pca.shape}\\nX_train_lda shape: {X_train_lda.shape}\\nX_test_lda shape: {X_test_lda.shape}')\n",
    "\n",
    "# Reshape the data to create the feature vectors\n",
    "X_train_pca = X_train_pca.reshape(X_train_pca.shape[0], -1)\n",
    "X_test_pca = X_test_pca.reshape(X_test_pca.shape[0], -1)\n",
    "X_train_lda = X_train_lda.reshape(X_train_lda.shape[0], -1)\n",
    "X_test_lda = X_test_lda.reshape(X_test_lda.shape[0], -1)\n",
    "\n",
    "print('\\nShape of the feature vectors after reshaping:')\n",
    "print(f'X_train_pca shape: {X_train_pca.shape}\\nX_test_pca shape: {X_test_pca.shape}\\nX_train_lda shape: {X_train_lda.shape}\\nX_test_lda shape: {X_test_lda.shape}')"
   ]
  },
  {
   "cell_type": "code",
   "execution_count": 20,
   "metadata": {},
   "outputs": [
    {
     "data": {
      "image/png": "[encoded data removed]",
      "text/plain": [
       "<Figure size 576x432 with 2 Axes>"
      ]
     },
     "metadata": {
      "needs_background": "light"
     },
     "output_type": "display_data"
    },
    {
     "name": "stdout",
     "output_type": "stream",
     "text": [
      "F1 Score: 0.72\n"
     ]
    }
   ],
   "source": [
    "from sklearn.metrics import f1_score\n",
    "from sklearn.metrics import confusion_matrix\n",
    "import seaborn as sns\n",
    "import matplotlib.pyplot as plt\n",
    "\n",
    "predictions = []\n",
    "for x_test_pca, x_test_lda in zip(X_test_pca, X_test_lda):\n",
    "    pred_idx = fuse_pca_lda_classification(x_test_pca, x_test_lda, X_train_pca, X_train_lda)\n",
    "    predictions.append(y_train_dc[pred_idx])\n",
    "\n",
    "f1_score = f1_score(y_test_dc, predictions, average='macro')\n",
    "cm = confusion_matrix(y_test_dc, predictions, labels=np.unique(y_test_dc))\n",
    "\n",
    "# Plot the confusion matrix using seaborn heatmap\n",
    "plt.figure(figsize=(8, 6))\n",
    "sns.heatmap(cm, annot=True, fmt='d', cmap='Blues', xticklabels=np.unique(y_test_dc), yticklabels=np.unique(y_test_dc))\n",
    "plt.xlabel('Predicted')\n",
    "plt.ylabel('True')\n",
    "plt.title('Confusion Matrix')\n",
    "plt.show()\n",
    "\n",
    "print(f'F1 Score: {f1_score:.2f}')\n",
    "# your code ends here"
   ]
  },
  {
   "cell_type": "markdown",
   "metadata": {
    "nbgrader": {
     "grade": false,
     "grade_id": "cell-6c349269722f7b4d",
     "locked": true,
     "schema_version": 3,
     "solution": false,
     "task": false
    }
   },
   "source": [
    "# 3. Feature extraction and feature-level fusion for multimodal classification"
   ]
  },
  {
   "cell_type": "markdown",
   "metadata": {
    "nbgrader": {
     "grade": false,
     "grade_id": "cell-61ec26decd69ed9d",
     "locked": true,
     "schema_version": 3,
     "solution": false,
     "task": false
    }
   },
   "source": [
    "<a id='task3'></a>\n",
    "<div class=\" alert alert-warning\">\n",
    "    <b>Assigment.</b> <b>Task 3.</b>\n",
    "\n",
    "Prepare new feature sets for each modality and combine them to single feature representation. Compare two classifiers from scikit-learn. Train classifiers using joint feature presentation. Evaluate and compare the result using testing dataset. Do the subtasks given as \n",
    "<br>   \n",
    "\n",
    "<p> <b>3.1</b> Similar to task 2.1, calculate PCA for accelerometer, but choose now the 10 largest principal components as 10-dim feature vector for each window. In addition, for each window calculate mean and standard deviation of each three acc channels as statistical features, resulting 6-dimensional vector. Combine these to 36-dimensional final feature vector.</p>\n",
    "\n",
    "Document your work.\n",
    "    \n",
    "</div>"
   ]
  },
  {
   "cell_type": "code",
   "execution_count": 21,
   "metadata": {},
   "outputs": [],
   "source": [
    "### Your code begins here ###\n",
    "from sklearn.decomposition import PCA\n",
    "\n",
    "def transform_data_with_pca(X_train, X_test, n_components=10):\n",
    "    X_train_transform_pca = np.zeros((X_train.shape[0], X_train.shape[1], n_components))\n",
    "    X_test_transform_pca = np.zeros((X_test.shape[0], X_test.shape[1], n_components))\n",
    "    \n",
    "    for i in range(X_train.shape[1]):\n",
    "        # Apply PCA\n",
    "        pca = PCA(n_components=n_components)\n",
    "\n",
    "        # Fit and transform on the training set\n",
    "        f_train = pca.fit_transform(X_train[:, i, :])\n",
    "        X_train_transform_pca[:, i, :] = f_train\n",
    "        \n",
    "        # Transform the test set using the parameters learned from the training set\n",
    "        f_test = pca.transform(X_test[:, i, :])\n",
    "        X_test_transform_pca[:, i, :] = f_test  \n",
    "\n",
    "    return X_train_transform_pca, X_test_transform_pca"
   ]
  },
  {
   "cell_type": "code",
   "execution_count": 22,
   "metadata": {},
   "outputs": [
    {
     "name": "stdout",
     "output_type": "stream",
     "text": [
      "ACC Train and test data shapes:\n",
      "X_train shape: (1486, 3, 125)\n",
      "y_train shape: (1486,)\n",
      "\n",
      "X_test shape: (598, 3, 125)\n",
      "y_test shape: (598,)\n"
     ]
    }
   ],
   "source": [
    "# 3.1\n",
    "X_train_acc = np.stack(merged_train['preprocessed_data_acc'].values)\n",
    "y_train_acc = merged_train['exercise_id'].values\n",
    "\n",
    "X_test_acc = np.stack(merged_test['preprocessed_data_acc'].values)\n",
    "y_test_acc = merged_test['exercise_id'].values\n",
    "\n",
    "print('ACC Train and test data shapes:')\n",
    "print(f'X_train shape: {X_train_acc.shape}\\ny_train shape: {y_train_acc.shape}\\n\\nX_test shape: {X_test_acc.shape}\\ny_test shape: {y_test_acc.shape}')"
   ]
  },
  {
   "cell_type": "code",
   "execution_count": 23,
   "metadata": {},
   "outputs": [
    {
     "name": "stdout",
     "output_type": "stream",
     "text": [
      "Shape of the transformed ACC data:\n",
      "X_train_pca shape: (1486, 36)\n",
      "X_test_pca shape: (598, 36)\n"
     ]
    }
   ],
   "source": [
    "X_train_pca, X_test_pca = transform_data_with_pca(X_train_acc, X_test_acc, n_components=10)\n",
    "\n",
    "# Calculate mean and standard deviation of the training set\n",
    "mean_train = np.mean(X_train_pca, axis=2)\n",
    "std_train = np.std(X_train_pca, axis=2)\n",
    "\n",
    "# Calculate mean and standard deviation of the test set\n",
    "mean_test = np.mean(X_test_pca, axis=2)\n",
    "std_test = np.std(X_test_pca, axis=2)\n",
    "\n",
    "# Reshape the data to create the feature vectors\n",
    "X_train_pca = X_train_pca.reshape(X_train_pca.shape[0], -1)\n",
    "X_test_pca = X_test_pca.reshape(X_test_pca.shape[0], -1)\n",
    "\n",
    "X_train_acc = np.concatenate((X_train_pca, mean_train, std_train), axis=1)  \n",
    "X_test_acc = np.concatenate((X_test_pca, mean_test, std_test), axis=1)  \n",
    "\n",
    "print('Shape of the transformed ACC data:')\n",
    "print(f'X_train_pca shape: {X_train_acc.shape}\\nX_test_pca shape: {X_test_acc.shape}')\n",
    "### Your code ends here ###"
   ]
  },
  {
   "cell_type": "markdown",
   "metadata": {},
   "source": [
    "<a id='task3'></a>\n",
    "<div class=\" alert alert-warning\">\n",
    "\n",
    "<p> <b>3.2</b> Similar to task 2.2, calculate the PCA for depth images using same setup, but now choose the 10 largest principal components as feature vector. Concatenate the image sequence forming 50-dimensional feature vector from each windowed example.</p>\n",
    "\n",
    "Document your work.\n",
    "    \n",
    "</div>"
   ]
  },
  {
   "cell_type": "code",
   "execution_count": 24,
   "metadata": {},
   "outputs": [
    {
     "name": "stdout",
     "output_type": "stream",
     "text": [
      "DC Train and test data shapes:\n",
      "X_train shape: (1486, 5, 192)\n",
      "y_train shape: (1486,)\n",
      "\n",
      "X_test shape: (598, 5, 192)\n",
      "y_test shape: (598,)\n"
     ]
    }
   ],
   "source": [
    "# 3.2\n",
    "\n",
    "### Your code begins here ###\n",
    "X_train_dc = np.stack(merged_train['preprocessed_data_dc'].values)\n",
    "y_train_dc = merged_train['exercise_id'].values\n",
    "\n",
    "X_test_dc = np.stack(merged_test['preprocessed_data_dc'].values)\n",
    "y_test_dc = merged_test['exercise_id'].values\n",
    "\n",
    "print('DC Train and test data shapes:')\n",
    "print(f'X_train shape: {X_train_dc.shape}\\ny_train shape: {y_train_dc.shape}\\n\\nX_test shape: {X_test_dc.shape}\\ny_test shape: {y_test_dc.shape}')\n"
   ]
  },
  {
   "cell_type": "code",
   "execution_count": 25,
   "metadata": {},
   "outputs": [
    {
     "name": "stdout",
     "output_type": "stream",
     "text": [
      "Shape of the transformed data:\n",
      "X_train_pca shape: (1486, 5, 10)\n",
      "X_test_pca shape: (598, 5, 10)\n",
      "\n",
      "Shape of the transformed DC data:\n",
      "X_train_pca shape: (1486, 50)\n",
      "X_test_pca shape: (598, 50)\n"
     ]
    }
   ],
   "source": [
    "X_train_pca, X_test_pca = transform_data_with_pca(X_train_dc, X_test_dc, n_components=10)\n",
    "print('Shape of the transformed data:')\n",
    "print(f'X_train_pca shape: {X_train_pca.shape}\\nX_test_pca shape: {X_test_pca.shape}\\n')\n",
    "\n",
    "# Reshape the data to create the feature vectors\n",
    "X_train_dc = X_train_pca.reshape(X_train_pca.shape[0], -1)\n",
    "X_test_dc = X_test_pca.reshape(X_test_pca.shape[0], -1)\n",
    "\n",
    "print('Shape of the transformed DC data:')\n",
    "print(f'X_train_pca shape: {X_train_dc.shape}\\nX_test_pca shape: {X_test_dc.shape}')\n",
    "### Your code ends here ###"
   ]
  },
  {
   "cell_type": "markdown",
   "metadata": {},
   "source": [
    "<a id='task3'></a>\n",
    "<div class=\" alert alert-warning\">\n",
    "\n",
    "<p> <b>3.3</b> Form a joint feature presentation of features extracted in 3.1 and 3.2, resulting 86-dimensional feature vector for each example. Normalize data between 0-1 using the training dataset. Use support vector machine (SVM) with RBF-kernel and Gaussian naiveBayes classifier (use default parameter values for both classifiers). Train the classifiers and evaluate and compare classifiers on testset using confusion matrices and F1 scores.</p>\n",
    "\n",
    "Note: Normalize the data along each axis.\n",
    "<br>\n",
    "\n",
    "Document your work, evaluate the results, and analyse the outcomes. (The expected F1 score for this task should generally fall within the range of 55 to 70)\n",
    "    \n",
    "</div>"
   ]
  },
  {
   "cell_type": "code",
   "execution_count": 26,
   "metadata": {},
   "outputs": [
    {
     "name": "stdout",
     "output_type": "stream",
     "text": [
      "Shape of the fused data:\n",
      "X_train shape: (1486, 86)\n",
      "X_test shape: (598, 86),\n",
      "y_train shape: (1486,)\n",
      "y_test shape: (598,)\n"
     ]
    }
   ],
   "source": [
    "# 3.3\n",
    "\n",
    "### Your code begins here ###\n",
    "from sklearn.preprocessing import MinMaxScaler\n",
    "\n",
    "X_train = np.concatenate((X_train_acc, X_train_dc), axis=1)  \n",
    "X_test = np.concatenate((X_test_acc, X_test_dc), axis=1)\n",
    "\n",
    "y_train = merged_train['exercise_id'].values\n",
    "y_test = merged_test['exercise_id'].values\n",
    "\n",
    "print('Shape of the fused data:')\n",
    "print(f'X_train shape: {X_train.shape}\\nX_test shape: {X_test.shape},\\ny_train shape: {y_train.shape}\\ny_test shape: {y_test.shape}')\n",
    "\n",
    "# Normalize the data between 0 and 1 using MinMaxScaler\n",
    "scaler = MinMaxScaler()\n",
    "X_train = scaler.fit_transform(X_train)\n",
    "X_test = scaler.transform(X_test)"
   ]
  },
  {
   "cell_type": "code",
   "execution_count": 27,
   "metadata": {},
   "outputs": [
    {
     "name": "stdout",
     "output_type": "stream",
     "text": [
      "Support Vector Machine (SVM) Results:\n",
      "Confusion Matrix:\n"
     ]
    },
    {
     "data": {
      "image/png": "[encoded data removed]",
      "text/plain": [
       "<Figure size 576x432 with 2 Axes>"
      ]
     },
     "metadata": {
      "needs_background": "light"
     },
     "output_type": "display_data"
    },
    {
     "name": "stdout",
     "output_type": "stream",
     "text": [
      "F1 Score: 0.83\n",
      "\n",
      "\n",
      "Support Vector Machine (SVM) Results:\n",
      "Confusion Matrix:\n"
     ]
    },
    {
     "data": {
      "image/png": "[encoded data removed]",
      "text/plain": [
       "<Figure size 576x432 with 2 Axes>"
      ]
     },
     "metadata": {
      "needs_background": "light"
     },
     "output_type": "display_data"
    },
    {
     "name": "stdout",
     "output_type": "stream",
     "text": [
      "F1 Score: 0.86\n",
      "\n",
      "\n"
     ]
    }
   ],
   "source": [
    "from sklearn.svm import SVC\n",
    "from sklearn.naive_bayes import GaussianNB\n",
    "from sklearn.metrics import confusion_matrix, f1_score\n",
    "\n",
    "# Support Vector Machine (SVM) with RBF Kernel\n",
    "svm_classifier = SVC(kernel='rbf')\n",
    "svm_classifier.fit(X_train, y_train)  # Assuming y_train is your target variable\n",
    "\n",
    "# Predictions on the test set\n",
    "svm_predictions = svm_classifier.predict(X_test)\n",
    "\n",
    "# Evaluate SVM\n",
    "svm_conf_matrix = confusion_matrix(y_test, svm_predictions)\n",
    "svm_f1_score = f1_score(y_test, svm_predictions, average='macro')\n",
    "\n",
    "# Gaussian Naive Bayes\n",
    "gnb_classifier = GaussianNB()\n",
    "gnb_classifier.fit(X_train, y_train)  # Assuming y_train is your target variable\n",
    "\n",
    "# Predictions on the test set\n",
    "gnb_predictions = gnb_classifier.predict(X_test)\n",
    "\n",
    "# Evaluate Gaussian Naive Bayes\n",
    "gnb_conf_matrix = confusion_matrix(y_test, gnb_predictions)\n",
    "gnb_f1_score = f1_score(y_test, gnb_predictions, average='macro')\n",
    "\n",
    "# Print results\n",
    "print(\"Support Vector Machine (SVM) Results:\")\n",
    "print(\"Confusion Matrix:\")\n",
    "plt.figure(figsize=(8, 6))\n",
    "sns.heatmap(svm_conf_matrix, annot=True, fmt='d', cmap='Blues', xticklabels=np.unique(y_test), yticklabels=np.unique(y_test))\n",
    "plt.xlabel('Predicted')\n",
    "plt.ylabel('True')\n",
    "plt.title('Confusion Matrix')\n",
    "plt.show()\n",
    "print(f'F1 Score: {svm_f1_score:.2f}')\n",
    "print(\"\\n\")\n",
    "\n",
    "print(\"Support Vector Machine (SVM) Results:\")\n",
    "print(\"Confusion Matrix:\")\n",
    "plt.figure(figsize=(8, 6))\n",
    "sns.heatmap(gnb_conf_matrix, annot=True, fmt='d', cmap='Blues', xticklabels=np.unique(y_test), yticklabels=np.unique(y_test))\n",
    "plt.xlabel('Predicted')\n",
    "plt.ylabel('True')\n",
    "plt.title('Confusion Matrix')\n",
    "plt.show()\n",
    "print(f'F1 Score: {gnb_f1_score:.2f}')\n",
    "print(\"\\n\")\n",
    "### Your code ends here ###"
   ]
  },
  {
   "cell_type": "markdown",
   "metadata": {
    "nbgrader": {
     "grade": false,
     "grade_id": "cell-cedfc7478c461525",
     "locked": true,
     "schema_version": 3,
     "solution": false,
     "task": false
    }
   },
   "source": [
    "# 4. Decision-level fusion for multimodal classification"
   ]
  },
  {
   "cell_type": "markdown",
   "metadata": {
    "nbgrader": {
     "grade": false,
     "grade_id": "cell-21056ef018219662",
     "locked": true,
     "schema_version": 3,
     "solution": false,
     "task": false
    }
   },
   "source": [
    "<a id='task4'></a>\n",
    "<div class=\" alert alert-warning\">\n",
    "    <b>Assigment.</b> <b>Task 4.</b>\n",
    "\n",
    "Use features calculated for each modality in task 3. Choose base classifier for each modality from scikit-learn. Train classifiers for each modality feature presentations separately and combine the outputs in decision level. Evaluate and compare the result on testing dataset. Do the subtasks given as \n",
    "<br>\n",
    "<br> \n",
    "<p> <b>4.1</b> Use base classifiers of support vector machine (SVM) with RBF-kernel and AdaBoost classifier (with random_state=0). \n",
    "Normalize data between 0-1 using the training dataset. Train the base classifiers by tuning the model parameters (<i>C</i> parameter and RBF-kernel <i>gamma</i> in SVM as well as <i>n_estimators</i> and <i>learning_rate</i> in Adaboost) using 10-fold cross-validation on training dataset to find optimal set of parameters (hint: use GridSearchCV from scikit-learn). For grid search use the following values $C = [0.1, 1.0, 10.0, 100.0]$, $gamma=[0.1, 0.25, 0.5, 0.75, 1.0, 2.0]$, $n\\_estimators = [50, 100, 500, 1000]$, and $learning\\_rate = [0.1, 0.25, 0.5, 0.75,1.0]$.<br>\n",
    "Choose the best parameters and train the classifiers for each modality on whole training dataset. Is there a possibility that classifiers will overfit to training data using this parameter selection strategy? If so, why? </p>\n",
    "\n",
    "Note: Normalize the data along each axis.\n",
    "<br>\n",
    "\n",
    "Document your work, answer the given question, evaluate the results, and analyse the outcomes.\n",
    "    \n",
    "</div>"
   ]
  },
  {
   "cell_type": "code",
   "execution_count": 28,
   "metadata": {},
   "outputs": [
    {
     "name": "stdout",
     "output_type": "stream",
     "text": [
      "Shape of the transformed ACC data:\n",
      "X_train_acc shape: (1486, 36), X_test_acc shape: (598, 36)\n",
      "\n",
      "Shape of the transformed DC data:\n",
      "X_train_dc shape: (1486, 50), X_test_dc shape: (598, 50)\n",
      "\n",
      "Shape of class labels:\n",
      "y_train shape: (1486,), y_test shape: (598,)\n"
     ]
    }
   ],
   "source": [
    "# 4.1\n",
    "\n",
    "from sklearn.preprocessing import MinMaxScaler\n",
    "from sklearn.model_selection import GridSearchCV\n",
    "from sklearn.svm import SVC\n",
    "from sklearn.ensemble import AdaBoostClassifier\n",
    "from sklearn.metrics import accuracy_score\n",
    "\n",
    "### Your code begins here ###\n",
    "\n",
    "# Features calculated in Task 3\n",
    "print('Shape of the transformed ACC data:')\n",
    "print(f'X_train_acc shape: {X_train_acc.shape}, X_test_acc shape: {X_test_acc.shape}')\n",
    "\n",
    "print('\\nShape of the transformed DC data:')\n",
    "print(f'X_train_dc shape: {X_train_dc.shape}, X_test_dc shape: {X_test_dc.shape}')\n",
    "\n",
    "print('\\nShape of class labels:')\n",
    "print(f'y_train shape: {y_train.shape}, y_test shape: {y_test.shape}')\n"
   ]
  },
  {
   "cell_type": "code",
   "execution_count": 29,
   "metadata": {},
   "outputs": [],
   "source": [
    "# Normalize the data along each axis\n",
    "scaler_acc = MinMaxScaler()\n",
    "X_train_acc_normalized = scaler_acc.fit_transform(X_train_acc)\n",
    "X_test_acc_normalized = scaler_acc.transform(X_test_acc)\n",
    "\n",
    "scaler_dc = MinMaxScaler()\n",
    "X_train_dc_normalized = scaler_dc.fit_transform(X_train_dc)\n",
    "X_test_dc_normalized = scaler_dc.transform(X_test_dc)"
   ]
  },
  {
   "cell_type": "code",
   "execution_count": 30,
   "metadata": {},
   "outputs": [],
   "source": [
    "# Define parameter grids for grid search\n",
    "param_grid_svm = {'C': [0.1, 1.0, 10.0, 100.0], 'gamma': [0.1, 0.25, 0.5, 0.75, 1.0, 2.0]}\n",
    "param_grid_adaboost = {'n_estimators': [50, 100, 500, 1000], 'learning_rate': [0.1, 0.25, 0.5, 0.75, 1.0]}\n",
    "\n",
    "# Train SVM and AdaBoost classifiers\n",
    "# Base Classifier 1: SVM\n",
    "svm_classifier_acc = SVC(kernel='rbf')\n",
    "grid_search_svm_acc = GridSearchCV(svm_classifier_acc, param_grid_svm, cv=10, n_jobs=-1, scoring='f1_macro')\n",
    "grid_search_svm_acc.fit(X_train_acc_normalized, y_train)\n",
    "best_params_svm_acc = grid_search_svm_acc.best_params_\n",
    "\n",
    "svm_classifier_dc = SVC(kernel='rbf')\n",
    "grid_search_svm_dc = GridSearchCV(svm_classifier_dc, param_grid_svm, cv=10, n_jobs=-1, scoring='f1_macro')\n",
    "grid_search_svm_dc.fit(X_train_dc_normalized, y_train)\n",
    "best_params_svm_dc = grid_search_svm_dc.best_params_\n",
    "\n",
    "# Base Classifier 2: AdaBoost\n",
    "adaboost_classifier_acc = AdaBoostClassifier(random_state=0)\n",
    "grid_search_adaboost_acc = GridSearchCV(adaboost_classifier_acc, param_grid_adaboost, cv=10, n_jobs=-1, scoring='f1_macro')\n",
    "grid_search_adaboost_acc.fit(X_train_acc_normalized, y_train)\n",
    "best_params_adaboost_acc = grid_search_adaboost_acc.best_params_\n",
    "\n",
    "adaboost_classifier_dc = AdaBoostClassifier(random_state=0)\n",
    "grid_search_adaboost_dc = GridSearchCV(adaboost_classifier_dc, param_grid_adaboost, cv=10, n_jobs=-1, scoring='f1_macro')\n",
    "grid_search_adaboost_dc.fit(X_train_dc_normalized, y_train)\n",
    "best_params_adaboost_dc = grid_search_adaboost_dc.best_params_\n"
   ]
  },
  {
   "cell_type": "code",
   "execution_count": 75,
   "metadata": {},
   "outputs": [
    {
     "name": "stdout",
     "output_type": "stream",
     "text": [
      "Best parameters for SVM with ACC data: {'C': 100.0, 'gamma': 2.0}\n",
      "Best parameters for SVM with DC data: {'C': 10.0, 'gamma': 0.25}\n",
      "Best parameters for AdaBoost with ACC data: {'learning_rate': 0.5, 'n_estimators': 500}\n",
      "Best parameters for AdaBoost with DC data: {'learning_rate': 0.5, 'n_estimators': 1000}\n"
     ]
    }
   ],
   "source": [
    "# Print best parameters\n",
    "print(\"Best parameters for SVM with ACC data:\", best_params_svm_acc)\n",
    "print(\"Best parameters for SVM with DC data:\", best_params_svm_dc)\n",
    "print(\"Best parameters for AdaBoost with ACC data:\", best_params_adaboost_acc)\n",
    "print(\"Best parameters for AdaBoost with DC data:\", best_params_adaboost_dc)"
   ]
  },
  {
   "cell_type": "code",
   "execution_count": 60,
   "metadata": {},
   "outputs": [],
   "source": [
    "# Train classifiers with the best parameters\n",
    "final_svm_acc = SVC(kernel='rbf', **best_params_svm_acc, probability=True)\n",
    "final_svm_acc.fit(X_train_acc_normalized, y_train)\n",
    "\n",
    "final_svm_dc = SVC(kernel='rbf', **best_params_svm_dc, probability=True)\n",
    "final_svm_dc.fit(X_train_dc_normalized, y_train)\n",
    "\n",
    "final_adaboost_acc = AdaBoostClassifier(**best_params_adaboost_acc, random_state=0)\n",
    "final_adaboost_acc.fit(X_train_acc_normalized, y_train)\n",
    "\n",
    "final_adaboost_dc = AdaBoostClassifier(**best_params_adaboost_dc, random_state=0)\n",
    "final_adaboost_dc.fit(X_train_dc_normalized, y_train)\n"
   ]
  },
  {
   "cell_type": "code",
   "execution_count": 62,
   "metadata": {},
   "outputs": [
    {
     "name": "stdout",
     "output_type": "stream",
     "text": [
      "\n",
      "SVM (ACC) F1 Score: 0.5179274017317581\n",
      "SVM (DC) F1 Score: 0.8550367087359606\n",
      "AdaBoost (ACC) F1 Score: 0.6656530693369337\n",
      "AdaBoost (DC) F1 Score: 0.5007829668726065\n"
     ]
    },
    {
     "data": {
      "image/png": "[encoded data removed]",
      "text/plain": [
       "<Figure size 2520x432 with 8 Axes>"
      ]
     },
     "metadata": {
      "needs_background": "light"
     },
     "output_type": "display_data"
    }
   ],
   "source": [
    "# Evaluate classifiers on the testing dataset\n",
    "svm_acc_predictions = final_svm_acc.predict(X_test_acc_normalized)\n",
    "svm_dc_predictions = final_svm_dc.predict(X_test_dc_normalized)\n",
    "\n",
    "adaboost_acc_predictions = final_adaboost_acc.predict(X_test_acc_normalized)\n",
    "adaboost_dc_predictions = final_adaboost_dc.predict(X_test_dc_normalized)\n",
    "\n",
    "# Calculate F1 scores\n",
    "f1_score_svm_acc = f1_score(y_test, svm_acc_predictions, average='macro')\n",
    "f1_score_svm_dc = f1_score(y_test, svm_dc_predictions, average='macro')\n",
    "f1_score_adaboost_acc = f1_score(y_test, adaboost_acc_predictions, average='macro')\n",
    "f1_score_adaboost_dc = f1_score(y_test, adaboost_dc_predictions, average='macro')\n",
    "\n",
    "# Calculate confusion matrices\n",
    "confusion_matrix_svm_acc = confusion_matrix(y_test, svm_acc_predictions)\n",
    "confusion_matrix_svm_dc = confusion_matrix(y_test, svm_dc_predictions)\n",
    "confusion_matrix_adaboost_acc = confusion_matrix(y_test, adaboost_acc_predictions)\n",
    "confusion_matrix_adaboost_dc = confusion_matrix(y_test, adaboost_dc_predictions)\n",
    "\n",
    "print(\"\\nSVM (ACC) F1 Score:\", f1_score_svm_acc)\n",
    "print(\"SVM (DC) F1 Score:\", f1_score_svm_dc)\n",
    "print(\"AdaBoost (ACC) F1 Score:\", f1_score_adaboost_acc)\n",
    "print(\"AdaBoost (DC) F1 Score:\", f1_score_adaboost_dc)\n",
    "\n",
    "fig, axs = plt.subplots(1, 4, figsize=(35, 6))\n",
    "\n",
    "models = ['SVM (ACC)', 'SVM (DC)', 'AdaBoost (ACC)', 'AdaBoost (DC)']\n",
    "confusion_matrices = [confusion_matrix_svm_acc, confusion_matrix_svm_dc, confusion_matrix_adaboost_acc, confusion_matrix_adaboost_dc]\n",
    "\n",
    "for i in range(4):\n",
    "    sns.heatmap(confusion_matrices[i], annot=True, fmt='d', cmap='Blues', xticklabels=np.unique(y_test), yticklabels=np.unique(y_test), ax=axs[i])\n",
    "    axs[i].set_xlabel('Predicted')\n",
    "    axs[i].set_ylabel('True')\n",
    "    axs[i].set_title(f'Confusion Matrix - {models[i]}')\n",
    "\n",
    "plt.show()"
   ]
  },
  {
   "cell_type": "markdown",
   "metadata": {},
   "source": [
    "<a id='task4'></a>\n",
    "<div class=\" alert alert-warning\">\n",
    "\n",
    "\n",
    "<p> <b>4.2</b> Predict probabilistic outputs of each trained classifier for both modalities using the test set. </p>\n",
    "<br>\n",
    "Document your work, evaluate the results, and analyse the outcomes.\n",
    "    \n",
    "</div>"
   ]
  },
  {
   "cell_type": "code",
   "execution_count": 63,
   "metadata": {},
   "outputs": [],
   "source": [
    "# 4.2\n",
    "# Predict probabilistic outputs for SVM classifiers\n",
    "svm_acc_proba = final_svm_acc.predict_proba(X_test_acc_normalized)\n",
    "svm_dc_proba = final_svm_dc.predict_proba(X_test_dc_normalized)\n",
    "adaboost_acc_proba = final_adaboost_acc.predict_proba(X_test_acc_normalized)\n",
    "adaboost_dc_proba = final_adaboost_dc.predict_proba(X_test_dc_normalized)"
   ]
  },
  {
   "cell_type": "code",
   "execution_count": 83,
   "metadata": {},
   "outputs": [
    {
     "name": "stdout",
     "output_type": "stream",
     "text": [
      "Sample 1 in the test set: 02\n",
      "Sample 2 in the test set: 02\n"
     ]
    },
    {
     "data": {
      "image/png": "[encoded data removed]",
      "text/plain": [
       "<Figure size 2160x432 with 8 Axes>"
      ]
     },
     "metadata": {
      "needs_background": "light"
     },
     "output_type": "display_data"
    }
   ],
   "source": [
    "def plot_proba(probabilities, title, subplot_index):\n",
    "    plt.subplot(2, 4, subplot_index)\n",
    "    plt.bar(final_svm_acc.classes_, probabilities, align='center')\n",
    "    plt.title(title)\n",
    "    plt.xlabel('Class Index')\n",
    "    plt.ylabel('Probability')\n",
    "\n",
    "plt.figure(figsize=(30, 6))\n",
    "# Plot predicted probabilities for the first two samples in the test set\n",
    "for i in range(2):\n",
    "    print(f\"Sample {i+1} in the test set:\", y_test[i])\n",
    "    \n",
    "    # Plot SVM probabilities for accelerometer modality\n",
    "    plot_proba(svm_acc_proba[i], 'SVM (Accelerometer) Probabilities', i*4 + 1)\n",
    "\n",
    "    # Plot AdaBoost probabilities for accelerometer modality\n",
    "    plot_proba(adaboost_acc_proba[i], 'AdaBoost (Accelerometer) Probabilities', i*4 + 2)\n",
    "\n",
    "    # Plot SVM probabilities for direct current modality\n",
    "    plot_proba(svm_dc_proba[i], 'SVM (Depth Camera) Probabilities', i*4 + 3)\n",
    "\n",
    "    # Plot AdaBoost probabilities for direct current modality\n",
    "    plot_proba(adaboost_dc_proba[i], 'AdaBoost (Depth Camera) Probabilities', i*4 + 4)\n",
    "\n",
    "plt.tight_layout()\n",
    "plt.show()"
   ]
  },
  {
   "cell_type": "markdown",
   "metadata": {},
   "source": [
    "<a id='task4'></a>\n",
    "<div class=\" alert alert-warning\">\n",
    "<p> <b>4.3</b> Combine the probabilistic outputs of different modalities by fixed classification rules: max, min, prod, and sum. Evaluate, compare, and analyse the final combined results using confusion matrices and F1 scores. Show results for each base classifier combinations (i.e., $SVM_{acc}+SVM_{depth}$, $AdaBoost_{acc}+AdaBoost_{depth}$, $SVM_{acc}+AdaBoost_{depth}$, $AdaBoost_{acc}+SVM_{depth}$)</p>\n",
    "<br>\n",
    "Document your work, evaluate the results, and analyse the outcomes.\n",
    "    \n",
    "</div>"
   ]
  },
  {
   "cell_type": "code",
   "execution_count": 130,
   "metadata": {},
   "outputs": [
    {
     "name": "stdout",
     "output_type": "stream",
     "text": [
      "Shape of posterior scores: (2, 598, 7)\n"
     ]
    }
   ],
   "source": [
    "y_test_idx = np.array([int(i) for i in y_test])\n",
    "posterior_scores = np.array((svm_dc_proba, adaboost_dc_proba))\n",
    "print('Shape of posterior scores:', posterior_scores.shape)"
   ]
  },
  {
   "cell_type": "code",
   "execution_count": 136,
   "metadata": {},
   "outputs": [
    {
     "data": {
      "text/plain": [
       "array(['01', '02', '03', '04', '05', '06', '07'], dtype=object)"
      ]
     },
     "execution_count": 136,
     "metadata": {},
     "output_type": "execute_result"
    }
   ],
   "source": [
    "final_svm_acc.classes_"
   ]
  },
  {
   "cell_type": "code",
   "execution_count": 135,
   "metadata": {},
   "outputs": [
    {
     "name": "stdout",
     "output_type": "stream",
     "text": [
      "Prod:  0.06688963210702341\n"
     ]
    }
   ],
   "source": [
    "test_acc =  accuracy_score(y_test_idx, np.argmax(np.median(posterior_scores,axis=0),axis=1))\n",
    "print('Prod: ', test_acc)\n",
    "\n"
   ]
  },
  {
   "cell_type": "markdown",
   "metadata": {
    "nbgrader": {
     "grade": false,
     "grade_id": "cell-d4f13fd6c3cbb70d",
     "locked": true,
     "schema_version": 3,
     "solution": false,
     "task": false
    }
   },
   "source": [
    "# 5. Bonus task: Multimodal biometric identification of persons (optional)"
   ]
  },
  {
   "cell_type": "markdown",
   "metadata": {
    "nbgrader": {
     "grade": false,
     "grade_id": "cell-e082ae9d74f6755a",
     "locked": true,
     "schema_version": 3,
     "solution": false,
     "task": false
    }
   },
   "source": [
    "<a id='task5'></a>\n",
    "<div class=\" alert alert-warning\">\n",
    "    <b>Assigment.</b> <b>Task 5.</b>\n",
    "\n",
    "Can you build a classifier that recognizes the person who is performing the exercise? Use same 10 person dataset and split it so that first 25% of each long exercise sequence is used for training and rest 75% of each sequence is used for testing the classifier. Use same 5 second windowing with 3 seconds overlap to prepare the examples. Note that, now the person identity is the class label instead of exercise type. Max. 10 points are given but you can earn points from partial solution, as well.\n",
    "<br> \n",
    "<br> \n",
    "<p> <b>5.1</b> Build a classifier to identify persons based on the features and one of the models given in task 4 (max. 5 points).</p>\n",
    "<br> \n",
    "Document your work. Evaluate and compare the results using confusion matrix and F1 score.\n",
    "\n",
    "</div>"
   ]
  },
  {
   "cell_type": "code",
   "execution_count": null,
   "metadata": {},
   "outputs": [],
   "source": [
    "# 5.1\n",
    "\n",
    "### Your code begins here ###\n",
    "\n",
    "### Your code ends here ###"
   ]
  },
  {
   "cell_type": "markdown",
   "metadata": {},
   "source": [
    "<a id='task5'></a>\n",
    "<div class=\" alert alert-warning\">\n",
    "\n",
    "<p> <b>5.2</b> Can you build your own solution (using new features, new classification model or different fusion approaches) to beat the approach in Task 5.1 ? (max. 5 points) </p>\n",
    "<br>  \n",
    "Document your work. Evaluate and compare the results using confusion matrix and F1 score.\n",
    "\n",
    "</div>"
   ]
  },
  {
   "cell_type": "code",
   "execution_count": null,
   "metadata": {},
   "outputs": [],
   "source": [
    "# 5.2\n",
    "\n",
    "### Your code begins here ###\n",
    "\n",
    "### Your code ends here ###"
   ]
  }
 ],
 "metadata": {
  "celltoolbar": "Create Assignment",
  "kernelspec": {
   "display_name": "Python 3 (ipykernel)",
   "language": "python",
   "name": "python3"
  },
  "language_info": {
   "codemirror_mode": {
    "name": "ipython",
    "version": 3
   },
   "file_extension": ".py",
   "mimetype": "text/x-python",
   "name": "python",
   "nbconvert_exporter": "python",
   "pygments_lexer": "ipython3",
   "version": "3.9.18"
  },
  "varInspector": {
   "cols": {
    "lenName": 16,
    "lenType": 16,
    "lenVar": 40
   },
   "kernels_config": {
    "python": {
     "delete_cmd_postfix": "",
     "delete_cmd_prefix": "del ",
     "library": "var_list.py",
     "varRefreshCmd": "print(var_dic_list())"
    },
    "r": {
     "delete_cmd_postfix": ") ",
     "delete_cmd_prefix": "rm(",
     "library": "var_list.r",
     "varRefreshCmd": "cat(var_dic_list()) "
    }
   },
   "types_to_exclude": [
    "module",
    "function",
    "builtin_function_or_method",
    "instance",
    "_Feature"
   ],
   "window_display": false
  }
 },
 "nbformat": 4,
 "nbformat_minor": 4
}
