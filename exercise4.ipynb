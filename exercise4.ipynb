{
 "cells": [
  {
   "cell_type": "markdown",
   "metadata": {},
   "source": [
    "Before you turn this problem in, make sure everything runs as expected. First, **restart the kernel** (in the menubar, select Kernel$\\rightarrow$Restart) and then **run all cells** (in the menubar, select Cell$\\rightarrow$Run All).\n",
    "\n",
    "If a variable is given to you, give your answer to that variable. In case of multiple choice questions, answer to the given variable. Make sure your variable has a **string value** and it contains only the letter of your choice. For example if you think that choice b is the correct choice, and the given variable is answer, your answer should look like this:\n",
    "\n",
    "answer = 'b'\n",
    "\n",
    "or \n",
    "\n",
    "answer = 'B'\n",
    "\n",
    "If you need to read a file for a task, datafiles, such as .csv or .txt files are found in data subfolder. This can be accessed using data/filename.extension. In case of image, they are found in subfolder images. \n",
    "\n",
    "Make sure you fill in any place that says `YOUR CODE HERE` or \"YOUR ANSWER HERE\", as well as your name below:"
   ]
  },
  {
   "cell_type": "code",
   "execution_count": 1,
   "metadata": {
    "tags": []
   },
   "outputs": [],
   "source": [
    "NAME = \"Nipun Waas\""
   ]
  },
  {
   "cell_type": "markdown",
   "metadata": {},
   "source": [
    "---"
   ]
  },
  {
   "cell_type": "markdown",
   "metadata": {
    "deletable": false,
    "editable": false,
    "nbgrader": {
     "cell_type": "markdown",
     "checksum": "f11cbdad3fee80804be07fdda927d126",
     "grade": false,
     "grade_id": "cell-708d46d3f9180abe",
     "locked": true,
     "schema_version": 3,
     "solution": false
    }
   },
   "source": [
    "# Multimodal Data Fusion - Exercise 4 - Bayesian Inference and Parameter Estimation\n",
    "\n",
    "\n",
    "In this exercise, we will take a closer look at the Bayesian framework and the basics of Bayesian inference to be needed in data fusion systems. You will be learning about prior likelihood, posterior, probabilistic models, and Bayes rule as well as applying these to parameter estimation with linear regression w/o outliers."
   ]
  },
  {
   "cell_type": "markdown",
   "metadata": {
    "deletable": false,
    "editable": false,
    "nbgrader": {
     "cell_type": "markdown",
     "checksum": "dc106a93d71c3fa12158ff7e74c9014f",
     "grade": false,
     "grade_id": "cell-32738734cf6f1a4f",
     "locked": true,
     "schema_version": 3,
     "solution": false
    }
   },
   "source": [
    "## Learning goals \n",
    "\n",
    "After completion of this exercise, you should be able to\n",
    "\n",
    "- Understand the basic elements of Bayesian inference\n",
    "- Be able to apply traditional and Bayesian methods in simple parameter estimation tasks (i.e. curve fitting)\n",
    "- Apply outlier robust methods to simple parameter estimation problems\n",
    "- Apply Gaussian mixure model for clustering problems\n",
    "  \n",
    "\n",
    "## Relevant lecture\n",
    "Lecture 5.\n",
    "\n",
    "## Relevant Sections in course book\n",
    "\n",
    "Chapter 9-11\n",
    "\n",
    "## Additional Material\n",
    "* Visualization and plotting with [matplotlib](https://matplotlib.org)\n",
    "* Scikit-learn page on [Linear Models](https://scikit-learn.org/stable/modules/linear_model.html)\n",
    "    * Linear Regression model [LinearRegression](https://scikit-learn.org/stable/modules/generated/sklearn.linear_model.LinearRegression.html)\n",
    "    * Bayesian Ridge model [BayesianRidge](https://scikit-learn.org/stable/modules/generated/sklearn.linear_model.BayesianRidge.html#sklearn.linear_model.BayesianRidge)\n",
    "    * RANSAC (RANdom SAmple Consensus) algorithm [RANSACRegressor](https://scikit-learn.org/stable/modules/generated/sklearn.linear_model.RANSACRegressor.html#sklearn.linear_model.RANSACRegressor)\n",
    "* Scikit-learn page on [PolynomialFeatures](https://scikit-learn.org/stable/modules/generated/sklearn.preprocessing.PolynomialFeatures.html)\n",
    "* Scikit-learn page on [GaussianMixture](https://scikit-learn.org/stable/modules/generated/sklearn.mixture.GaussianMixture.html)\n"
   ]
  },
  {
   "cell_type": "markdown",
   "metadata": {
    "deletable": false,
    "editable": false,
    "nbgrader": {
     "cell_type": "markdown",
     "checksum": "50a4d6b017e8abcbfaf745365e904e42",
     "grade": false,
     "grade_id": "cell-b9bb5f5f1e969115",
     "locked": true,
     "schema_version": 3,
     "solution": false,
     "task": false
    }
   },
   "source": [
    "# Bayesian Inference - Parameter estimation: curve fitting"
   ]
  },
  {
   "cell_type": "markdown",
   "metadata": {
    "deletable": false,
    "editable": false,
    "nbgrader": {
     "cell_type": "markdown",
     "checksum": "855cc4de78759fd716cb7584a02b8c77",
     "grade": false,
     "grade_id": "cell-445fe623dc5c1df5",
     "locked": true,
     "schema_version": 3,
     "solution": false,
     "task": false
    }
   },
   "source": [
    "<a id='KmeansDemo'></a>\n",
    "<div class=\" alert alert-info\">\n",
    "    <b>Tutorial.</b> Generate sinusoidal data with noise and bias\n",
    "\n",
    "The code below defines a function for generating sinusoidal data with noise and generate random data points for x-axis and y-axis. Complete and run the code below to visualize the data.\n",
    "<p>1) Define our sinusoidal function </p>\n",
    "<p>2) Generate \"size\" number of uniform random data points in the range of 0. and 1. for x-axis </p>\n",
    "<p>3) Generate \"size\" number of random data points from standard normal distribution for y-axis </p>\n",
    "<p>4) Make a deep copy and add outlier bias to 5 samples </p>\n",
    "<p>5) Define linearly spaced vector with 100 points in the range of 0. to 1. </p>\n",
    "<p>6) Plot data point without and with outliers (vectors \"x\" and \"y/y2\") </p>\n",
    "\n",
    "\n",
    "**Hint: Your output image should look like this**\n",
    "<br>\n",
    "<img src=\"images/Fig1.png\" />\n",
    "</div>"
   ]
  },
  {
   "cell_type": "code",
   "execution_count": 2,
   "metadata": {},
   "outputs": [],
   "source": [
    "import numpy as np\n",
    "import matplotlib.pyplot as plt\n",
    "from scipy import stats "
   ]
  },
  {
   "cell_type": "code",
   "execution_count": 3,
   "metadata": {},
   "outputs": [
    {
     "data": {
      "text/plain": [
       "[<matplotlib.lines.Line2D at 0x12e642e20>]"
      ]
     },
     "execution_count": 3,
     "metadata": {},
     "output_type": "execute_result"
    },
    {
     "data": {
      "image/png": "[encoded data removed]",
      "text/plain": [
       "<Figure size 720x288 with 2 Axes>"
      ]
     },
     "metadata": {
      "needs_background": "light"
     },
     "output_type": "display_data"
    }
   ],
   "source": [
    "def func(x): return np.sin(2*np.pi*x)\n",
    "\n",
    "size = 25\n",
    "\n",
    "rng = np.random.RandomState(1234)\n",
    "x = rng.uniform(0., 1., size)\n",
    "\n",
    "y = rng.normal(scale=0.1, size=size)\n",
    "y = func(x) + y\n",
    "\n",
    "bias = 2.5\n",
    "y2 = y.copy()\n",
    "y2[15:20] = y2[15:20] + bias\n",
    "\n",
    "xt = np.linspace(0., 1., 100)\n",
    "f = plt.figure(figsize=(10,4))\n",
    "f.add_subplot(1,2,1)\n",
    "plt.plot(xt, func(xt), 'b')\n",
    "plt.plot(x, y, '*')\n",
    "\n",
    "f.add_subplot(1,2,2)\n",
    "plt.plot(xt, func(xt), 'b')\n",
    "plt.plot(x, y2, '*')"
   ]
  },
  {
   "cell_type": "markdown",
   "metadata": {},
   "source": [
    "## Basics of robust estimation"
   ]
  },
  {
   "cell_type": "markdown",
   "metadata": {
    "tags": []
   },
   "source": [
    "<a id='Task1.1'></a>\n",
    "<div class=\" alert alert-warning\">\n",
    "    <b>Assignment.</b> Problem 1\n",
    "\n",
    "<p> Complete the code below to calculate sample mean, sample median, sample variance and mean absolute deviation of data without and with outliers (As in the lecture slides) </p>\n",
    "    <p>1) Calculate the sample mean and sample median for the data without and with outliers </p>\n",
    "    <p>2) Calculate the sample variance and mean absolute deviation for the data without and with outliers </p>\n",
    "    <p>3) Document your observations and compare the impact of outliers to these measures.</p>\n",
    "\n",
    "</div>"
   ]
  },
  {
   "cell_type": "code",
   "execution_count": 4,
   "metadata": {
    "deletable": false,
    "nbgrader": {
     "cell_type": "code",
     "checksum": "886e723779226d12496aadd8216791dc",
     "grade": false,
     "grade_id": "cell-6be39e6b983ea0fd",
     "locked": false,
     "schema_version": 3,
     "solution": true,
     "task": false
    },
    "tags": []
   },
   "outputs": [
    {
     "name": "stdout",
     "output_type": "stream",
     "text": [
      "y , y2 mean: -0.0874577096404818, 0.41254229035951817\n",
      "y , y2 median: -0.2061900343242159, 0.5792076008271675\n",
      "y , y2 variance: 0.5490633005206962, 1.2698896985898123\n",
      "y , y2 MAD: 0.6361802142903488, 0.1361802142903487\n"
     ]
    }
   ],
   "source": [
    "# Problem 1.1.\n",
    "# Calculate sample mean\n",
    "\n",
    "# YOUR CODE HERE\n",
    "def calculate_mean(values):\n",
    "    N = len(values)\n",
    "    mean = np.divide(1, N) * np.sum(values) \n",
    "    return mean\n",
    "\n",
    "y_mean = calculate_mean(y) \n",
    "y2_mean = calculate_mean(y2)\n",
    "\n",
    "# Calculate sample median\n",
    "def calculate_median(values):\n",
    "    median = np.median(values)\n",
    "    return median\n",
    "\n",
    "y_median = calculate_median(y) \n",
    "y2_median = calculate_median(y2) \n",
    "\n",
    "# Problem 1.2.\n",
    "# Calculate sample variance\n",
    "def calculate_sample_variance(values):\n",
    "    N = len(values)\n",
    "    mean = calculate_mean(values)\n",
    "    variance = np.divide(1, N-1) * np.sum(np.power((values - mean), 2))\n",
    "    return variance\n",
    "\n",
    "y_var = calculate_sample_variance(y) \n",
    "y2_var = calculate_sample_variance(y2)\n",
    "\n",
    "# Calculate mean absolute deviation\n",
    "def calculate_mean_absolute_deviation(values):\n",
    "    N = len(values)\n",
    "    mean = calculate_mean(values)\n",
    "    mad = np.divide(1, N) * np.sum(np.sum(x - mean))\n",
    "    return mad\n",
    "\n",
    "y_mean_abs_dev = calculate_mean_absolute_deviation(y) \n",
    "y2_mean_abs_dev = calculate_mean_absolute_deviation(y2) \n",
    "\n",
    "print(f\"y , y2 mean: {y_mean}, {y2_mean}\")\n",
    "print(f\"y , y2 median: {y_median}, {y2_median}\")\n",
    "print(f\"y , y2 variance: {y_var}, {y2_var}\")\n",
    "print(f\"y , y2 MAD: {y_mean_abs_dev}, {y2_mean_abs_dev}\")"
   ]
  },
  {
   "cell_type": "markdown",
   "metadata": {},
   "source": [
    "#### 1.3 Document your observations and compare the impact of outliers to these statistical measures"
   ]
  },
  {
   "cell_type": "markdown",
   "metadata": {
    "tags": []
   },
   "source": [
    "Answer to 1.3 in here"
   ]
  },
  {
   "cell_type": "markdown",
   "metadata": {
    "deletable": false,
    "nbgrader": {
     "cell_type": "markdown",
     "checksum": "f78f6ac857ecfebdb4cdbd198f87d715",
     "grade": true,
     "grade_id": "cell-0d6fba93599292c7",
     "locked": false,
     "points": 0.1,
     "schema_version": 3,
     "solution": true,
     "task": false
    },
    "tags": []
   },
   "source": [
    "Mean:\n",
    "- Gets pulled towards extreme values when outliers are present.\n",
    "- Mean in y2 shifts noticeably due to outliers from negative in y to positive in y2.\n",
    "\n",
    "Median:\n",
    "- The median is significantly affected by outliers as well, showing a notable change from y to y2. \n",
    "\n",
    "Variance:\n",
    "- Variance increases in y2, indicating a higher spread of data. Outliers contribute to larger squared differences from the mean, making variance more susceptible to extreme values.\n",
    "\n",
    "MAD:\n",
    "- MAD remains relatively stable between y and y2. It is less affected by outliers, providing a more robust measure of how spread out the data is around the central tendency.\n",
    "\n",
    "Conclusion:\n",
    "- Both mean and median show significant changes in the presence of outliers, with the median reflecting a substantial shift.\n",
    "- Variance is noticeably impacted by the outliers, leading to an increase in data spread.\n",
    "- MAD demonstrates its resilience to outliers, offering a somewhat reliable measure of dispersion."
   ]
  },
  {
   "cell_type": "code",
   "execution_count": 5,
   "metadata": {
    "deletable": false,
    "editable": false,
    "nbgrader": {
     "cell_type": "code",
     "checksum": "ee4ec90ff53df0ffb7f27902ba9b8d47",
     "grade": true,
     "grade_id": "cell-ebbbc78921491a47",
     "locked": true,
     "points": 0.2,
     "schema_version": 3,
     "solution": false,
     "task": false
    },
    "tags": []
   },
   "outputs": [],
   "source": [
    "# Your points for the Problem 1.1 will be given in this cell. Do not modify it."
   ]
  },
  {
   "cell_type": "code",
   "execution_count": 6,
   "metadata": {
    "deletable": false,
    "editable": false,
    "nbgrader": {
     "cell_type": "code",
     "checksum": "59008f0920bd72d5b437c2d61199fdf4",
     "grade": true,
     "grade_id": "cell-493db10c8ba6eaaa",
     "locked": true,
     "points": 0.2,
     "schema_version": 3,
     "solution": false,
     "task": false
    },
    "tags": []
   },
   "outputs": [],
   "source": [
    "# Your points for the Problem 1.2 will be given in this cell. Do not modify it."
   ]
  },
  {
   "cell_type": "markdown",
   "metadata": {
    "deletable": false,
    "editable": false,
    "nbgrader": {
     "cell_type": "markdown",
     "checksum": "ac11e28a8bc155ecc8503a2c57bf01bf",
     "grade": false,
     "grade_id": "cell-e82747a5e0d9bc6a",
     "locked": true,
     "schema_version": 3,
     "solution": false,
     "task": false
    }
   },
   "source": [
    "## Linear regression"
   ]
  },
  {
   "cell_type": "markdown",
   "metadata": {
    "deletable": false,
    "editable": false,
    "nbgrader": {
     "cell_type": "markdown",
     "checksum": "a2a140bbf4f6338b3dee4b2459145f5b",
     "grade": false,
     "grade_id": "cell-ac33105cbe02007b",
     "locked": true,
     "schema_version": 3,
     "solution": false,
     "task": false
    }
   },
   "source": [
    "<a id='Task1.2'></a>\n",
    "<div class=\" alert alert-warning\">\n",
    "    <b>Assignment.</b> Problem 2\n",
    "\n",
    "<p> Complete the code below to build and fit a linear regression model for curve fitting on sinusoidal data with noise. </p>\n",
    "    \n",
    "<p>1) Generate \"PolynomialFeatures()\" of \"n_order\" and fit the model to data (Hint: fit_transform())</p>\n",
    "<p>2) Fit linear regression object with \"X\" and \"y\"</p>\n",
    "<p>3) Print fitted linear regression model's coefficients</p>\n",
    "<p>4) Predict the points using fitted linear regression model for \"Xt\"</p>\n",
    "<p>5) Plot data points and obtained linear regression curve</p>\n",
    "\n",
    "**Hint: Your output image should look like this**\n",
    "<br>\n",
    "<img src=\"images/Fig2.png\" />\n",
    "</div>"
   ]
  },
  {
   "cell_type": "code",
   "execution_count": 7,
   "metadata": {
    "deletable": false,
    "nbgrader": {
     "cell_type": "code",
     "checksum": "b5d327a61ed8c09a4d21295f6484b413",
     "grade": false,
     "grade_id": "cell-00bd5a99423df032",
     "locked": false,
     "schema_version": 3,
     "solution": true,
     "task": false
    }
   },
   "outputs": [
    {
     "name": "stdout",
     "output_type": "stream",
     "text": [
      "Coefficients: [  0.          12.00090089 -35.07074983  23.44153538]\n"
     ]
    },
    {
     "data": {
      "text/plain": [
       "[<matplotlib.lines.Line2D at 0x12f974370>]"
      ]
     },
     "execution_count": 7,
     "metadata": {},
     "output_type": "execute_result"
    },
    {
     "data": {
      "image/png": "[encoded data removed]",
      "text/plain": [
       "<Figure size 1080x360 with 1 Axes>"
      ]
     },
     "metadata": {
      "needs_background": "light"
     },
     "output_type": "display_data"
    }
   ],
   "source": [
    "from sklearn import linear_model\n",
    "from sklearn.preprocessing import PolynomialFeatures\n",
    "\n",
    "## == Create linear regression object == ##\n",
    "lreg = linear_model.LinearRegression()\n",
    "n_order = 3\n",
    "\n",
    "# YOUR CODE HERE\n",
    "# Problem 2.1.\n",
    "# Generate \"PolynomialFeatures()\" of \"n_order\" and fit the model to data (Hint: fit_transform())\n",
    "X = PolynomialFeatures(n_order).fit_transform(x[:, np.newaxis])\n",
    "Xt = PolynomialFeatures(n_order).fit_transform(xt[:, np.newaxis])\n",
    "\n",
    "# Problem 2.2.\n",
    "# Fit linear regression object with \"X\" and \"y\"\n",
    "lreg.fit(X, y)\n",
    "\n",
    "# Problem 2.3.\n",
    "# Print fitted linear regression model's coefficients\n",
    "coefficients = lreg.coef_\n",
    "print('Coefficients:', coefficients)\n",
    "\n",
    "# Problem 2.4. \n",
    "# Predict the points using fitted linear regression model for \"Xt\"\n",
    "ypred = lreg.predict(Xt) \n",
    "\n",
    "# Problem 2.5.\n",
    "# Plot data points and obtained linear regression curve\n",
    "f = plt.figure(figsize=(15,5))\n",
    "f.add_subplot(1,2,1)\n",
    "plt.plot(xt, func(xt), 'b')\n",
    "\n",
    "# Plot data point with symbol '*'\n",
    "# Your code here\n",
    "plt.plot(x, y, '*') \n",
    "\n",
    "# Plot obtained linear regression curve with 'r'\n",
    "# Your code here\n",
    "plt.plot(xt, ypred, 'r')"
   ]
  },
  {
   "cell_type": "code",
   "execution_count": 8,
   "metadata": {
    "deletable": false,
    "editable": false,
    "nbgrader": {
     "cell_type": "code",
     "checksum": "1b16f56deb23c349301b4987120cbff0",
     "grade": true,
     "grade_id": "cell-c02d4ec06b92638e",
     "locked": true,
     "points": 1,
     "schema_version": 3,
     "solution": false,
     "task": false
    }
   },
   "outputs": [],
   "source": [
    "# Your points for the Problem 2 coefficients implementation will be given in this cell. Do not modify it."
   ]
  },
  {
   "cell_type": "code",
   "execution_count": 9,
   "metadata": {
    "deletable": false,
    "editable": false,
    "nbgrader": {
     "cell_type": "code",
     "checksum": "f6c3c3daa4b1e2488958493a14b1c592",
     "grade": true,
     "grade_id": "cell-1e902c8d4ed9ccc8",
     "locked": true,
     "points": 1,
     "schema_version": 3,
     "solution": false,
     "task": false
    }
   },
   "outputs": [],
   "source": [
    "# Your points for the Problem 2 prediction will be given in this cell. Do not modify it."
   ]
  },
  {
   "cell_type": "markdown",
   "metadata": {
    "deletable": false,
    "editable": false,
    "nbgrader": {
     "cell_type": "markdown",
     "checksum": "4856c6dee4326e49b87c6107a6d89f31",
     "grade": false,
     "grade_id": "cell-5edfe610e00e0784",
     "locked": true,
     "schema_version": 3,
     "solution": false,
     "task": false
    }
   },
   "source": [
    "## Bayesian linear regression"
   ]
  },
  {
   "cell_type": "markdown",
   "metadata": {
    "deletable": false,
    "editable": false,
    "nbgrader": {
     "cell_type": "markdown",
     "checksum": "1f107b9e2d3235af08338d95351fb655",
     "grade": false,
     "grade_id": "cell-e83de09bf4adb342",
     "locked": true,
     "schema_version": 3,
     "solution": false,
     "task": false
    }
   },
   "source": [
    "<a id='Task1.3'></a>\n",
    "<div class=\" alert alert-warning\">\n",
    "    <b>Assignment.</b> Problem 3\n",
    "\n",
    "<p> Complete the code below to build and fit a bayesian ridge regression model for curve fitting on sinusoidal data with noise.</p>\n",
    "    \n",
    "<p>1) Fit bayesian linear regression object with \"X\" and \"y\" and print coefficients</p>\n",
    "<p>2) Predict the points using fitted bayesian linear regression model for \"Xt\" and also return the standard deviation</p>\n",
    "<p>3) Plot data point and obtained bayesian linear regression curve. Also add the 95% prediction confidence interval with $\\pm 1.96 \\times ystd$</p>\n",
    "\n",
    "**Hint: Your output image should look like this**\n",
    "<br>\n",
    "<img src=\"images/Fig3.png\" />\n",
    "<br>\n",
    "    \n",
    "<p>4) Repeat step 1 to 3 with new fitted bayesian linear regression model</p>\n",
    "    \n",
    "Note: Plot in red shaded are the 95% confidence interval corresponding to $\\pm 1.96$ standard deviations above mean.\n",
    "\n",
    "\n",
    "</div>"
   ]
  },
  {
   "cell_type": "code",
   "execution_count": 10,
   "metadata": {
    "deletable": false,
    "nbgrader": {
     "cell_type": "code",
     "checksum": "93653fa481d90f16a3c5ac24270a0a32",
     "grade": false,
     "grade_id": "cell-26173e7c296b44d4",
     "locked": false,
     "schema_version": 3,
     "solution": true,
     "task": false
    }
   },
   "outputs": [
    {
     "name": "stdout",
     "output_type": "stream",
     "text": [
      "Coefficients: [ 0.83622239 -1.02159909 -1.09594268  0.13723005]\n"
     ]
    },
    {
     "data": {
      "text/plain": [
       "<matplotlib.collections.PolyCollection at 0x12faddd00>"
      ]
     },
     "execution_count": 10,
     "metadata": {},
     "output_type": "execute_result"
    },
    {
     "data": {
      "image/png": "[encoded data removed]",
      "text/plain": [
       "<Figure size 1080x360 with 2 Axes>"
      ]
     },
     "metadata": {
      "needs_background": "light"
     },
     "output_type": "display_data"
    }
   ],
   "source": [
    "## == Create bayesian linear regression object == ##\n",
    "breg = linear_model.BayesianRidge(tol=1e-6, fit_intercept=False, compute_score=True)\n",
    "\n",
    "# YOUR CODE HERE\n",
    "\n",
    "# Problem 3.1.\n",
    "# Fit bayesian linear regression object with \"X\" and \"y\" and print coefficients\n",
    "breg.fit(X, y)\n",
    "\n",
    "coefficient1 = breg.coef_\n",
    "print('Coefficients:', coefficient1)\n",
    "\n",
    "f = plt.figure(figsize=(15,5))\n",
    "\n",
    "# Problem 3.2.\n",
    "# Predict the points using fitted bayesian linear regression model for \"Xt\" and also return the standard deviation\n",
    "ypred1, ystd1 = breg.predict(Xt, return_std=True)\n",
    "\n",
    "# Problem 3.3.\n",
    "# Plot data point, obtained bayesian linear regression curve and 95% CI\n",
    "# First subplot\n",
    "f.add_subplot(1,2,1)\n",
    "plt.plot(xt, func(xt), 'b')\n",
    "\n",
    "# Plot data point with symbol '*'\n",
    "# Your code here\n",
    "plt.plot(x, y, '*')\n",
    "\n",
    "# Plot obtained bayesian linear regression curve with 'r', also plot the 95% CI for predictions\n",
    "# Your code here\n",
    "plt.plot(xt, ypred1, 'r')\n",
    "plt.fill_between(xt, ypred1 - 1.96 * ystd1, ypred1 + 1.96 * ystd1, color='red', alpha=0.2, label='95% CI')\n",
    "\n",
    "# Set new parameters for the bayesian linear regression object\n",
    "breg.set_params(alpha_init=1., lambda_init= 1e-3) \n",
    "\n",
    "# Updating the initial value for alpha (precision of the noise) and \n",
    "# initial value for lambda (precision of the weights)\n",
    "\n",
    "# Problem 3.4.\n",
    "# Perform the steps from 1 to 3 again with new fitted bayesian linear regression model\n",
    "\n",
    "breg.fit(X, y)\n",
    "coefficient2 = breg.coef_\n",
    "\n",
    "ypred2, ystd2 = breg.predict(Xt, return_std=True)\n",
    "\n",
    "f.add_subplot(1,2,2)\n",
    "plt.plot(xt, func(xt), 'b')\n",
    "plt.plot(x, y, '*')\n",
    "plt.plot(xt, ypred2, 'r')\n",
    "plt.fill_between(xt, ypred2 - 1.96 * ystd2, ypred2 + 1.96 * ystd2, color='red', alpha=0.2, label='95% CI')"
   ]
  },
  {
   "cell_type": "code",
   "execution_count": 11,
   "metadata": {
    "deletable": false,
    "editable": false,
    "nbgrader": {
     "cell_type": "code",
     "checksum": "64816558c25afc9220ed02163c596b09",
     "grade": true,
     "grade_id": "cell-c10a09ef3bfb350d",
     "locked": true,
     "points": 0.5,
     "schema_version": 3,
     "solution": false,
     "task": false
    }
   },
   "outputs": [],
   "source": [
    "# Your points for the Problem 3 predictions will be given in this cell. Do not modify it."
   ]
  },
  {
   "cell_type": "code",
   "execution_count": 12,
   "metadata": {
    "deletable": false,
    "editable": false,
    "nbgrader": {
     "cell_type": "code",
     "checksum": "fcb00c2eb5b2561224922a67bada8105",
     "grade": true,
     "grade_id": "cell-ef98667cea352a23",
     "locked": true,
     "points": 0.5,
     "schema_version": 3,
     "solution": false,
     "task": false
    }
   },
   "outputs": [],
   "source": [
    "# Your points for the Problem 3 standard deviation calculations will be given in this cell. Do not modify it."
   ]
  },
  {
   "cell_type": "code",
   "execution_count": 13,
   "metadata": {
    "deletable": false,
    "editable": false,
    "nbgrader": {
     "cell_type": "code",
     "checksum": "32c1f274ecb8a0d60c601f1dc9e473e3",
     "grade": true,
     "grade_id": "cell-2a72f3aefc95e2b0",
     "locked": true,
     "points": 1,
     "schema_version": 3,
     "solution": false,
     "task": false
    }
   },
   "outputs": [],
   "source": [
    "# Your points for the Problem 3 coefficient calculations will be given in this cell. Do not modify it."
   ]
  },
  {
   "cell_type": "markdown",
   "metadata": {
    "deletable": false,
    "editable": false,
    "nbgrader": {
     "cell_type": "markdown",
     "checksum": "7e08bcede678639e7bfde98fca2a763e",
     "grade": false,
     "grade_id": "cell-53f974dd9d160cdb",
     "locked": true,
     "schema_version": 3,
     "solution": false,
     "task": false
    }
   },
   "source": [
    "# Robust parameter estimation: curve fitting"
   ]
  },
  {
   "cell_type": "markdown",
   "metadata": {
    "deletable": false,
    "editable": false,
    "nbgrader": {
     "cell_type": "markdown",
     "checksum": "92069939b43836ec65802cea70593154",
     "grade": false,
     "grade_id": "cell-fd5dbbf3a5c2fe58",
     "locked": true,
     "schema_version": 3,
     "solution": false,
     "task": false
    }
   },
   "source": [
    "## Linear regression and Bayesian linear regression"
   ]
  },
  {
   "cell_type": "markdown",
   "metadata": {
    "deletable": false,
    "editable": false,
    "nbgrader": {
     "cell_type": "markdown",
     "checksum": "49d4590632dfa106d64471231737ec9f",
     "grade": false,
     "grade_id": "cell-b13fd80b02113254",
     "locked": true,
     "schema_version": 3,
     "solution": false,
     "task": false
    }
   },
   "source": [
    "<a id='Task1.4'></a>\n",
    "<div class=\" alert alert-warning\">\n",
    "    <b>Assignment.</b> Problem 4\n",
    "\n",
    "<p> Complete the code below to build and fit linear and bayesian linear regression models for curve fitting on sinusoidal data with noise and bias</p>\n",
    "\n",
    "<p>1) Repeat all the steps from problem 2 and 3 but this time using 'y2' (data with outliers defined in tutorial)</p>\n",
    "<p>2) Compare all the results from Problem 2, 3, and 4. Explain your reasoning why models behave differently?</p>\n",
    "\n",
    "\n",
    "**Hint: Your output image should look like this**\n",
    "<br>\n",
    "<img src=\"images/Fig4.png\" />\n",
    "\n",
    "</div>"
   ]
  },
  {
   "cell_type": "code",
   "execution_count": 14,
   "metadata": {},
   "outputs": [
    {
     "data": {
      "text/plain": [
       "[<matplotlib.lines.Line2D at 0x12fb7d400>]"
      ]
     },
     "execution_count": 14,
     "metadata": {},
     "output_type": "execute_result"
    },
    {
     "data": {
      "image/png": "[encoded data removed]",
      "text/plain": [
       "<Figure size 432x288 with 1 Axes>"
      ]
     },
     "metadata": {
      "needs_background": "light"
     },
     "output_type": "display_data"
    }
   ],
   "source": [
    "# This is the same data from the tutorial. Use these values. Use the same X as in problem 2. \n",
    "\n",
    "size = 25\n",
    "bias = 2.5\n",
    "rng = np.random.RandomState(1234)\n",
    "x = rng.uniform(0., 1., size)\n",
    "y = func(x) + rng.normal(scale=0.1, size=size)\n",
    "# Add outlier bias\n",
    "y[15:20] = y[15:20] + bias\n",
    "xt = np.linspace(0., 1., 100)\n",
    "plt.plot(xt, func(xt), 'b')\n",
    "plt.plot(x, y, '*')"
   ]
  },
  {
   "cell_type": "code",
   "execution_count": 15,
   "metadata": {
    "deletable": false,
    "nbgrader": {
     "cell_type": "code",
     "checksum": "8e8afe3fdb6c710a8c24f8d6c75b6b70",
     "grade": false,
     "grade_id": "cell-f8da27ce8b77ac03",
     "locked": false,
     "schema_version": 3,
     "solution": true,
     "task": false
    }
   },
   "outputs": [
    {
     "data": {
      "text/plain": [
       "<matplotlib.collections.PolyCollection at 0x12fc69eb0>"
      ]
     },
     "execution_count": 15,
     "metadata": {},
     "output_type": "execute_result"
    },
    {
     "data": {
      "image/png": "[encoded data removed]",
      "text/plain": [
       "<Figure size 1440x360 with 3 Axes>"
      ]
     },
     "metadata": {
      "needs_background": "light"
     },
     "output_type": "display_data"
    }
   ],
   "source": [
    "# Problem 4.1: Repeat all the steps from problem 2 and 3 but this time using 'y2' (data with outliers defined in tutorial)\n",
    "\n",
    "# YOUR CODE HERE\n",
    "\n",
    "# Getting the same code from problem 2 and 3 - No need but just for easy readability\n",
    "n_order = 3\n",
    "X = PolynomialFeatures(n_order).fit_transform(x[:, np.newaxis])\n",
    "Xt = PolynomialFeatures(n_order).fit_transform(xt[:, np.newaxis])\n",
    "\n",
    "lreg = linear_model.LinearRegression()\n",
    "coefficient1 = lreg.fit(X, y2).coef_\n",
    "\n",
    "ypred1 = lreg.predict(Xt) # Do prediction with lreg model for \"Xt\"\n",
    "\n",
    "breg = linear_model.BayesianRidge(tol=1e-6, fit_intercept=False, compute_score=True)\n",
    "coefficient2 = breg.fit(X, y2).coef_\n",
    "\n",
    "ypred2, ystd2 = breg.predict(Xt, return_std=True) # Do prediction with breg model for \"Xt\"\n",
    "\n",
    "breg.set_params(alpha_init=1., lambda_init= 1e-3) \n",
    "coefficient3 = breg.fit(X, y2).coef_ \n",
    "\n",
    "ypred3, ystd3 = breg.predict(Xt, return_std=True) # Do prediction with the modified breg model for \"Xt\"\n",
    "\n",
    "# Remember to plot all the results also\n",
    "f = plt.figure(figsize=(20,5))\n",
    "\n",
    "f.add_subplot(1,3,1)\n",
    "plt.plot(xt, func(xt), 'b')\n",
    "plt.plot(x, y2, '*')\n",
    "plt.plot(xt, ypred1, 'r')\n",
    "\n",
    "f.add_subplot(1,3,2)\n",
    "plt.plot(xt, func(xt), 'b')\n",
    "plt.plot(x, y2, '*')\n",
    "plt.plot(xt, ypred2, 'r')\n",
    "plt.fill_between(xt, ypred2 - 1.96 * ystd2, ypred2 + 1.96 * ystd2, color='red', alpha=0.2, label='95% CI')\n",
    "\n",
    "f.add_subplot(1,3,3)\n",
    "plt.plot(xt, func(xt), 'b')\n",
    "plt.plot(x, y2, '*')\n",
    "plt.plot(xt, ypred3, 'r')\n",
    "plt.fill_between(xt, ypred3 - 1.96 * ystd3, ypred3 + 1.96 * ystd3, color='red', alpha=0.2, label='95% CI')"
   ]
  },
  {
   "cell_type": "code",
   "execution_count": 16,
   "metadata": {
    "deletable": false,
    "editable": false,
    "nbgrader": {
     "cell_type": "code",
     "checksum": "aa9d141a676de30e0ccfdfbdcd6223ef",
     "grade": true,
     "grade_id": "cell-1eadca944580b41a",
     "locked": true,
     "points": 0.8,
     "schema_version": 3,
     "solution": false,
     "task": false
    }
   },
   "outputs": [],
   "source": [
    "# Your points for the Problem 4 predictions will be given in this cell. Do not modify it."
   ]
  },
  {
   "cell_type": "code",
   "execution_count": 17,
   "metadata": {
    "deletable": false,
    "editable": false,
    "nbgrader": {
     "cell_type": "code",
     "checksum": "ceae9a97f39f31fb78336399f8e80590",
     "grade": true,
     "grade_id": "cell-c241f9a530fdd59b",
     "locked": true,
     "points": 0.8,
     "schema_version": 3,
     "solution": false,
     "task": false
    }
   },
   "outputs": [],
   "source": [
    "# Your points for the Problem 4 coefficient calculations will be given in this cell. Do not modify it."
   ]
  },
  {
   "cell_type": "markdown",
   "metadata": {
    "deletable": false,
    "editable": false,
    "nbgrader": {
     "cell_type": "markdown",
     "checksum": "d1c0e36466d4de8d7ee904cfa4a8fa09",
     "grade": false,
     "grade_id": "cell-47a2b0a43210870d",
     "locked": true,
     "schema_version": 3,
     "solution": false,
     "task": false
    }
   },
   "source": [
    "####  4.2 Compare all the results from Problem 2, 3, and 4. Explain your reasoning why models behave differently?"
   ]
  },
  {
   "cell_type": "markdown",
   "metadata": {
    "deletable": false,
    "editable": false,
    "nbgrader": {
     "cell_type": "markdown",
     "checksum": "00ddee5aa303703f288ec2b0274179e0",
     "grade": false,
     "grade_id": "cell-577899990230b1d3",
     "locked": true,
     "schema_version": 3,
     "solution": false,
     "task": false
    }
   },
   "source": [
    "Answer to 4.2 in the cell below\n"
   ]
  },
  {
   "cell_type": "markdown",
   "metadata": {
    "deletable": false,
    "nbgrader": {
     "cell_type": "markdown",
     "checksum": "e6972b0d1673df382a7aaec8561c13b9",
     "grade": true,
     "grade_id": "cell-f2899f9c0124990f",
     "locked": false,
     "points": 0.4,
     "schema_version": 3,
     "solution": true,
     "task": false
    }
   },
   "source": [
    "Linear regression seeks the optimal linear relationship between independent and dependent variables by minimizing the sum of squared differences. It assumes normally distributed noise with constant variance. In contrast, Bayesian linear regression is probabilistic, introducing prior distributions to consider parameter uncertainty. The BayesianRidge model in scikit-learn incorporates these principles, with alpha_init and lambda_init affecting prior hyperparameters. While linear regression is vulnerable to outliers, Bayesian linear regression is more robust but can still be impacted, especially with severe outliers. Adjusting alpha_init and lambda_init may enhance robustness, but careful consideration of hyperparameters and outlier nature is essential for optimal performance in both models."
   ]
  },
  {
   "cell_type": "markdown",
   "metadata": {
    "deletable": false,
    "editable": false,
    "nbgrader": {
     "cell_type": "markdown",
     "checksum": "63fe1a690da76cdb92a7fdefc2d8d1ff",
     "grade": false,
     "grade_id": "cell-e5ed57dfd554c706",
     "locked": true,
     "schema_version": 3,
     "solution": false,
     "task": false
    }
   },
   "source": [
    "## RANSAC"
   ]
  },
  {
   "cell_type": "markdown",
   "metadata": {
    "deletable": false,
    "editable": false,
    "nbgrader": {
     "cell_type": "markdown",
     "checksum": "13d9db9bba0032e3c2fa14d10e1bba10",
     "grade": false,
     "grade_id": "cell-306fdedb71d5be87",
     "locked": true,
     "schema_version": 3,
     "solution": false,
     "task": false
    }
   },
   "source": [
    "<a id='Task1.5'></a>\n",
    "<div class=\" alert alert-warning\">\n",
    "    <b>Assignment.</b> Problem 5\n",
    "\n",
    "<p> Complete the code below to build and fit a RANSAC model for curve fitting on sinusoidal data with noise and bias</p>\n",
    "<p>1) Fit RANSAC model with \"X\" and \"y2\"</p>\n",
    "<p>2) Predict the points using fitted RANSAC model for \"Xt\"</p>\n",
    "<p>3) Plot data points and obtained curve</p>\n",
    "\n",
    "**Hint: Your output image should look like this**\n",
    "<br>\n",
    "<img src=\"images/Fig5.png\" />\n",
    "<br>\n",
    "<p>4) Compare this results with Problem 4. Explain your reasoning why models behave differently?</p>\n",
    "\n",
    "</div>"
   ]
  },
  {
   "cell_type": "code",
   "execution_count": 18,
   "metadata": {
    "deletable": false,
    "nbgrader": {
     "cell_type": "code",
     "checksum": "8b4de178ebb73ebbfb065e65c8269df8",
     "grade": false,
     "grade_id": "cell-7ddfcf489ada3281",
     "locked": false,
     "schema_version": 3,
     "solution": true,
     "task": false
    }
   },
   "outputs": [
    {
     "data": {
      "text/plain": [
       "[<matplotlib.lines.Line2D at 0x12fd2a730>]"
      ]
     },
     "execution_count": 18,
     "metadata": {},
     "output_type": "execute_result"
    },
    {
     "data": {
      "image/png": "[encoded data removed]",
      "text/plain": [
       "<Figure size 720x360 with 1 Axes>"
      ]
     },
     "metadata": {
      "needs_background": "light"
     },
     "output_type": "display_data"
    }
   ],
   "source": [
    "# Problem 5.1.\n",
    "\n",
    "# YOUR CODE HERE\n",
    "\n",
    "## == Create linear regression object using RANSACRegressor== #\n",
    "np.random.seed(0) # Do not change\n",
    "ransac = linear_model.RANSACRegressor().fit(X, y2)\n",
    "\n",
    "# Problem 5.2.: Predict the points using fitted RANSAC model for \"Xt\"\n",
    "ypred = ransac.predict(Xt)\n",
    "\n",
    "# Remember to plot the results\n",
    "f = plt.figure(figsize=(10,5))\n",
    "plt.plot(xt, func(xt), 'b')\n",
    "plt.plot(x, y2, '*')\n",
    "plt.plot(xt, ypred, 'r')"
   ]
  },
  {
   "cell_type": "code",
   "execution_count": 19,
   "metadata": {
    "deletable": false,
    "editable": false,
    "nbgrader": {
     "cell_type": "code",
     "checksum": "5c277d18ee296f98e42f48cd29f26c60",
     "grade": true,
     "grade_id": "cell-1f0baaf2c6fd1084",
     "locked": true,
     "points": 1.5,
     "schema_version": 3,
     "solution": false,
     "task": false
    }
   },
   "outputs": [],
   "source": [
    "# Your points for the Problem 5 will be given in this cell. Do not modify it."
   ]
  },
  {
   "cell_type": "markdown",
   "metadata": {
    "deletable": false,
    "editable": false,
    "nbgrader": {
     "cell_type": "markdown",
     "checksum": "cc65b9e51929e0b0ee2398f52981f262",
     "grade": false,
     "grade_id": "cell-c30fcdf705ecbc11",
     "locked": true,
     "schema_version": 3,
     "solution": false,
     "task": false
    }
   },
   "source": [
    "#### 5.4 Compare this results with Problem 3. Explain your reasoning why models behave differently?"
   ]
  },
  {
   "cell_type": "markdown",
   "metadata": {
    "deletable": false,
    "editable": false,
    "nbgrader": {
     "cell_type": "markdown",
     "checksum": "12499c165f3a88cb6ea4e6505c4ca716",
     "grade": false,
     "grade_id": "cell-f62329f459fe1413",
     "locked": true,
     "schema_version": 3,
     "solution": false,
     "task": false
    }
   },
   "source": [
    "Answer to 5.4 in the cell below"
   ]
  },
  {
   "cell_type": "markdown",
   "metadata": {
    "deletable": false,
    "nbgrader": {
     "cell_type": "markdown",
     "checksum": "6755ece80abed371de452075b6c8d3da",
     "grade": true,
     "grade_id": "cell-814204f6a12a8416",
     "locked": false,
     "points": 0.25,
     "schema_version": 3,
     "solution": true,
     "task": false
    },
    "tags": []
   },
   "source": [
    "RANSAC is an outlier-robust algorithm for linear regression. Unlike traditional linear regression, which is sensitive to outliers, RANSAC iteratively fits models to random data subsets, effectively ignoring outliers. While Bayesian Linear Regression provides increased robustness compared to linear regression, it may still be impacted by outliers, especially with severe cases. In contrast, RANSAC is designed for robustness, explicitly addressing outliers during the fitting process and prioritizing accurate estimation of the underlying relationship by focusing on inlier points."
   ]
  },
  {
   "cell_type": "markdown",
   "metadata": {
    "deletable": false,
    "editable": false,
    "nbgrader": {
     "cell_type": "markdown",
     "checksum": "407d31160b65feaf5589133bfd248ce8",
     "grade": false,
     "grade_id": "cell-0a3c47130e3a43a4",
     "locked": true,
     "schema_version": 3,
     "solution": false,
     "task": false
    }
   },
   "source": [
    "## Gaussian Mixture Model"
   ]
  },
  {
   "cell_type": "markdown",
   "metadata": {
    "deletable": false,
    "editable": false,
    "nbgrader": {
     "cell_type": "markdown",
     "checksum": "2a1f445ea355b49cf1ae8a524058c12f",
     "grade": false,
     "grade_id": "cell-afd67f267f36ef14",
     "locked": true,
     "schema_version": 3,
     "solution": false,
     "task": false
    }
   },
   "source": [
    "<a id='Task1.6'></a>\n",
    "<div class=\" alert alert-warning\">\n",
    "    <b>Assignment.</b> Problem 6\n",
    "\n",
    "<p>Consider the data from file gmm_data.csv. \n",
    "\n",
    "1) Prepare scatter plot of the data where you plot the second column against the first column.\n",
    "\n",
    "**Hint: Your output image should look like this**\n",
    "<br>\n",
    "<img src=\"images/Fig6.png\" />\n",
    "<br>\n",
    "\n",
    "2) Perform K-means clustering with 4 clusters on data points: fit model to data and predict the cluster labels of data points. Prepare a scatter plot of data points with different colors indicating different cluster labels. \n",
    "\n",
    "**Hint: Your output image should look like this**\n",
    "<br>\n",
    "<img src=\"images/Fig7.png\" />\n",
    "<br>\n",
    "\n",
    "3) Apply Gaussian Mixture Model with parameter covariance_type = 'full', random_state = 0 and with with 4 clusters; again fit model with data and predict cluster labels. Plot data points with different colors corresponding to cluster labels. Use GMM to predict also cluster labels' posterior probabilities. \n",
    "\n",
    "**Hint: Your output image should look like this**\n",
    "<br>\n",
    "<img src=\"images/Fig8.png\" />\n",
    "<br>\n",
    "\n",
    "4) Compare K means and GMM; what is their principal difference? How their outputs differ here and what might be the reason for it? </p>\n",
    "\n",
    "</div>"
   ]
  },
  {
   "cell_type": "code",
   "execution_count": 20,
   "metadata": {
    "deletable": false,
    "nbgrader": {
     "cell_type": "code",
     "checksum": "4f969a672f43f63c3f8438223c29f6ec",
     "grade": false,
     "grade_id": "cell-618ab09e6b931dab",
     "locked": false,
     "schema_version": 3,
     "solution": true,
     "task": false
    }
   },
   "outputs": [
    {
     "data": {
      "text/plain": [
       "<matplotlib.collections.PathCollection at 0x17a4dbd60>"
      ]
     },
     "execution_count": 20,
     "metadata": {},
     "output_type": "execute_result"
    },
    {
     "data": {
      "image/png": "[encoded data removed]",
      "text/plain": [
       "<Figure size 432x288 with 1 Axes>"
      ]
     },
     "metadata": {
      "needs_background": "light"
     },
     "output_type": "display_data"
    }
   ],
   "source": [
    "# Problem 6.1.: Load and plot the data in this cell\n",
    "import pandas as pd\n",
    "from sklearn.mixture import GaussianMixture\n",
    "from sklearn.cluster import KMeans\n",
    "\n",
    "# YOUR CODE HERE\n",
    "data = pd.read_csv('data/gmm_data.csv', header=None)\n",
    "plt.scatter(data[0], data[1])"
   ]
  },
  {
   "cell_type": "code",
   "execution_count": 21,
   "metadata": {
    "deletable": false,
    "nbgrader": {
     "cell_type": "code",
     "checksum": "10f93ba9d40919b0352d59ac9d2d0a31",
     "grade": false,
     "grade_id": "cell-562230172851fa50",
     "locked": false,
     "schema_version": 3,
     "solution": true,
     "task": false
    }
   },
   "outputs": [
    {
     "data": {
      "text/plain": [
       "<matplotlib.collections.PathCollection at 0x17dd93280>"
      ]
     },
     "execution_count": 21,
     "metadata": {},
     "output_type": "execute_result"
    },
    {
     "data": {
      "image/png": "[encoded data removed]",
      "text/plain": [
       "<Figure size 432x288 with 1 Axes>"
      ]
     },
     "metadata": {
      "needs_background": "light"
     },
     "output_type": "display_data"
    }
   ],
   "source": [
    "# Problem 6.2: K-means clustering\n",
    "\n",
    "#DO NOT CHANGE THE SEED\n",
    "np.random.seed(0)\n",
    "\n",
    "#K-means clustering with 4 clusters\n",
    "# YOUR CODE HERE\n",
    "kmeans = KMeans(n_clusters=4, n_init=10).fit(data)\n",
    "labels1 = kmeans.labels_\n",
    "plt.scatter(data[0], data[1], c=labels1)"
   ]
  },
  {
   "cell_type": "code",
   "execution_count": 22,
   "metadata": {
    "deletable": false,
    "editable": false,
    "nbgrader": {
     "cell_type": "code",
     "checksum": "4f684e3a038172a6818cbb33d9bdfba6",
     "grade": true,
     "grade_id": "cell-193c82d3bd10d0a3",
     "locked": true,
     "points": 0.5,
     "schema_version": 3,
     "solution": false,
     "task": false
    }
   },
   "outputs": [],
   "source": [
    "# Your points for the Problem 6 K-means labels will be given in this cell. Do not modify it."
   ]
  },
  {
   "cell_type": "code",
   "execution_count": 23,
   "metadata": {
    "deletable": false,
    "nbgrader": {
     "cell_type": "code",
     "checksum": "9eb8acadc9e3e8da0115b2d1e6dbd738",
     "grade": false,
     "grade_id": "cell-cd0921044109fb23",
     "locked": false,
     "schema_version": 3,
     "solution": true,
     "task": false
    }
   },
   "outputs": [
    {
     "data": {
      "text/plain": [
       "<matplotlib.collections.PathCollection at 0x17ddf38b0>"
      ]
     },
     "execution_count": 23,
     "metadata": {},
     "output_type": "execute_result"
    },
    {
     "data": {
      "image/png": "[encoded data removed]",
      "text/plain": [
       "<Figure size 432x288 with 1 Axes>"
      ]
     },
     "metadata": {
      "needs_background": "light"
     },
     "output_type": "display_data"
    }
   ],
   "source": [
    "# Problem 6.3.: Gaussian Mixture Model\n",
    "\n",
    "# YOUR CODE HERE\n",
    "#GMM clustering with 4 clusters, random_state=0 and covariance_type=\"full\"\n",
    "gmm = GaussianMixture(n_components=4, random_state=100, covariance_type=\"full\").fit(data)\n",
    "labels2 = gmm.predict(data)\n",
    "probs = gmm.predict_proba(data)\n",
    "\n",
    "plt.scatter(data[0], data[1], c=labels2)"
   ]
  },
  {
   "cell_type": "code",
   "execution_count": 24,
   "metadata": {
    "deletable": false,
    "editable": false,
    "nbgrader": {
     "cell_type": "code",
     "checksum": "4fd16b990cd092bc340b015b44c83e25",
     "grade": true,
     "grade_id": "cell-dbde4af575f8eba2",
     "locked": true,
     "points": 0.5,
     "schema_version": 3,
     "solution": false,
     "task": false
    }
   },
   "outputs": [],
   "source": [
    "# Your points for the Problem 6 Gaussian Mixture labels will be given in this cell. Do not modify it."
   ]
  },
  {
   "cell_type": "code",
   "execution_count": 25,
   "metadata": {
    "deletable": false,
    "editable": false,
    "nbgrader": {
     "cell_type": "code",
     "checksum": "a82a6510e2c8b2f2e159c4543b6a391a",
     "grade": true,
     "grade_id": "cell-d196de0fd988edd4",
     "locked": true,
     "points": 0.5,
     "schema_version": 3,
     "solution": false,
     "task": false
    }
   },
   "outputs": [],
   "source": [
    "# Your points for the Problem 6 Gaussian Mixture probabilities will be given in this cell. Do not modify it."
   ]
  },
  {
   "cell_type": "markdown",
   "metadata": {
    "deletable": false,
    "editable": false,
    "nbgrader": {
     "cell_type": "markdown",
     "checksum": "5490777546f1cccdccc395e5f7c0154a",
     "grade": false,
     "grade_id": "cell-a58416d1fb9a8c8e",
     "locked": true,
     "schema_version": 3,
     "solution": false,
     "task": false
    }
   },
   "source": [
    "#### 6.4 Compare K means and GMM; what is their principal difference? How their outputs differ here and what might be the reason for it?"
   ]
  },
  {
   "cell_type": "markdown",
   "metadata": {
    "deletable": false,
    "nbgrader": {
     "cell_type": "markdown",
     "checksum": "dbf3f1905bf5f33dada3741a55867bba",
     "grade": true,
     "grade_id": "cell-684911760bcc57f5",
     "locked": false,
     "points": 0.25,
     "schema_version": 3,
     "solution": true,
     "task": false
    },
    "tags": []
   },
   "source": [
    "K-means assumes spherical clusters with equal variance and enforces a hard assignment of data points to clusters. In contrast, GMM allows clusters with different shapes and variances, employing a soft assignment that provides probabilities for each data point's cluster membership. In this example, when using K-means, the algorithm struggles to correctly cluster data where two sections are close together, often dividing them from the middle erroneously. This is because K-means assumes spherical clusters with equal variance and enforces a strict, non-overlapping assignment. On the other hand, Gaussian Mixture Model (GMM) successfully captures the nuanced relationships within the data by allowing for flexible cluster shapes and soft assignments, making it adept at handling scenarios where clusters are close or overlapping."
   ]
  }
 ],
 "metadata": {
  "kernelspec": {
   "display_name": "pytorch_",
   "language": "python",
   "name": "pytorch_"
  },
  "language_info": {
   "codemirror_mode": {
    "name": "ipython",
    "version": 3
   },
   "file_extension": ".py",
   "mimetype": "text/x-python",
   "name": "python",
   "nbconvert_exporter": "python",
   "pygments_lexer": "ipython3",
   "version": "3.9.18"
  },
  "varInspector": {
   "cols": {
    "lenName": 16,
    "lenType": 16,
    "lenVar": 40
   },
   "kernels_config": {
    "python": {
     "delete_cmd_postfix": "",
     "delete_cmd_prefix": "del ",
     "library": "var_list.py",
     "varRefreshCmd": "print(var_dic_list())"
    },
    "r": {
     "delete_cmd_postfix": ") ",
     "delete_cmd_prefix": "rm(",
     "library": "var_list.r",
     "varRefreshCmd": "cat(var_dic_list()) "
    }
   },
   "types_to_exclude": [
    "module",
    "function",
    "builtin_function_or_method",
    "instance",
    "_Feature"
   ],
   "window_display": false
  },
  "vscode": {
   "interpreter": {
    "hash": "8c2dc7f55a4afb133f9671f18548a683b80d7f864af89313bd9839ac682f147f"
   }
  }
 },
 "nbformat": 4,
 "nbformat_minor": 4
}
